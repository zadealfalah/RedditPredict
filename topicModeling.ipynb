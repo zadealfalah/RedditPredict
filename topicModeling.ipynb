{
 "cells": [
  {
   "attachments": {},
   "cell_type": "markdown",
   "metadata": {},
   "source": [
    "This will serve as the notebook for testing my topic modeling portion of this project.\n",
    "\n",
    "After verifying that everything is working, it will be changed to a .py file to be runnable on new incoming data"
   ]
  },
  {
   "cell_type": "code",
   "execution_count": 40,
   "metadata": {},
   "outputs": [],
   "source": [
    "import time\n",
    "import pandas as pd\n",
    "import numpy as np\n",
    "import matplotlib.pyplot as plt\n",
    "import json\n",
    "import glob\n",
    "import warnings\n",
    "from collections import defaultdict\n",
    "import re\n",
    "import pprint\n",
    "\n",
    "import gensim\n",
    "import gensim.corpora as corpora\n",
    "from gensim.models import CoherenceModel\n",
    "from gensim.utils import simple_preprocess\n",
    "from gensim.models import CoherenceModel\n",
    "from gensim.models import TfidfModel\n",
    "\n",
    "import spacy\n",
    "from nltk.corpus import stopwords\n",
    "# nltk.download('stopwords')\n",
    "# import en_core_web_sm\n",
    "\n",
    "#vis\n",
    "import pyLDAvis\n",
    "import pyLDAvis.gensim\n",
    "\n",
    "warnings.filterwarnings(\"ignore\", category=DeprecationWarning)  # Lots of depreciation warnings with spacy/gensim. ignore"
   ]
  },
  {
   "cell_type": "code",
   "execution_count": 2,
   "metadata": {},
   "outputs": [],
   "source": [
    "df = pd.read_csv(r\"data/2014_funny_comments.csv\")"
   ]
  },
  {
   "cell_type": "code",
   "execution_count": 3,
   "metadata": {},
   "outputs": [
    {
     "data": {
      "text/html": [
       "<div>\n",
       "<style scoped>\n",
       "    .dataframe tbody tr th:only-of-type {\n",
       "        vertical-align: middle;\n",
       "    }\n",
       "\n",
       "    .dataframe tbody tr th {\n",
       "        vertical-align: top;\n",
       "    }\n",
       "\n",
       "    .dataframe thead th {\n",
       "        text-align: right;\n",
       "    }\n",
       "</style>\n",
       "<table border=\"1\" class=\"dataframe\">\n",
       "  <thead>\n",
       "    <tr style=\"text-align: right;\">\n",
       "      <th></th>\n",
       "      <th>score</th>\n",
       "      <th>body</th>\n",
       "      <th>flag</th>\n",
       "    </tr>\n",
       "  </thead>\n",
       "  <tbody>\n",
       "    <tr>\n",
       "      <th>0</th>\n",
       "      <td>1</td>\n",
       "      <td>Ain't no half steppin</td>\n",
       "      <td>okay</td>\n",
       "    </tr>\n",
       "    <tr>\n",
       "      <th>1</th>\n",
       "      <td>7</td>\n",
       "      <td>Inside the gas tank cover or on top of a tire</td>\n",
       "      <td>okay</td>\n",
       "    </tr>\n",
       "    <tr>\n",
       "      <th>2</th>\n",
       "      <td>12</td>\n",
       "      <td>Brought to you by /r/SummerReddit</td>\n",
       "      <td>okay</td>\n",
       "    </tr>\n",
       "    <tr>\n",
       "      <th>3</th>\n",
       "      <td>1</td>\n",
       "      <td>This makes me want to murder.</td>\n",
       "      <td>okay</td>\n",
       "    </tr>\n",
       "    <tr>\n",
       "      <th>4</th>\n",
       "      <td>3</td>\n",
       "      <td>I know someone who got a DUI sleeping it off i...</td>\n",
       "      <td>okay</td>\n",
       "    </tr>\n",
       "  </tbody>\n",
       "</table>\n",
       "</div>"
      ],
      "text/plain": [
       "   score                                               body  flag\n",
       "0      1                              Ain't no half steppin  okay\n",
       "1      7      Inside the gas tank cover or on top of a tire  okay\n",
       "2     12                  Brought to you by /r/SummerReddit  okay\n",
       "3      1                     This makes me want to murder.   okay\n",
       "4      3  I know someone who got a DUI sleeping it off i...  okay"
      ]
     },
     "execution_count": 3,
     "metadata": {},
     "output_type": "execute_result"
    }
   ],
   "source": [
    "df = df[~df.body.isnull()]  # Remove the missed null values\n",
    "\n",
    "conditions = [ (df['score'] < 1), (df['score'] >= 1) & (df['score'] <= 13), (df['score'] > 13) ] \n",
    "values = ['bad', 'okay', 'good']\n",
    "df['flag'] = np.select(conditions, values)  # Bin our scores into categories under the column name 'flag'\n",
    "df.drop(columns=['HOUR_int', 'DAY_int', 'MONTH_int'], inplace=True)  # Won't use time info here\n",
    "\n",
    "df.head()"
   ]
  },
  {
   "cell_type": "code",
   "execution_count": 4,
   "metadata": {},
   "outputs": [],
   "source": [
    "stop_words = stopwords.words('english')\n",
    "stop_words.extend(['re'])\n",
    "nlp = spacy.load(\"en_core_web_sm\", disable=['parser', 'ner'])  # Won't be using NER nor the parser\n",
    "def text_preproc(row):\n",
    "    \"\"\"\n",
    "\n",
    "    Args:\n",
    "        row (str): str representing a comment in a row of a dataframe\n",
    "    \"\"\"\n",
    "    text = str(row['body']) \n",
    "    text = text.encode('ascii', errors = 'ignore').decode()  # Remove non-ascii characters\n",
    "    text = re.sub(r'\\d+', '', text)  # Remove numbers\n",
    "    text = text.lower()  # Set to lowercase\n",
    "    text = text.strip()  # Remove whitespace\n",
    "    text = re.sub(r'\\w+:\\/{2}[\\d\\w-]+(\\.[\\d\\w-]+)*(?:(?:\\/[^\\s/]*))*', '', text)  # Remove URLs\n",
    "    text = re.sub(r'[:\"#$%&\\*+,-/:;<=>@\\\\^_`{|}~.\\'!?]+','',text)  # Remove punctuation\n",
    "    text = re.sub(r'[()]', '', text)  # Remove parens specifically\n",
    "    text = re.sub(r'[\\[\\]]', '', text)  # Remove brackets specifically\n",
    "    text = \" \".join([word for word in text.split() if (word not in stop_words) and len(word) > 1])  # Make the sentence into a list of words if it's not a stopword and longer than 1 character\n",
    "    \n",
    "    return text"
   ]
  },
  {
   "cell_type": "code",
   "execution_count": null,
   "metadata": {},
   "outputs": [],
   "source": [
    "# # Smaller df to test on\n",
    "# dfcopy = df.copy()\n",
    "# smdf = dfcopy.iloc[:100000]\n",
    "# smdf['cComment'] = smdf.apply(text_preproc, axis=1)\n",
    "# smdf = smdf[~smdf.cComment.apply(lambda x: len(x.split()) == 0)]  # Remove the now empty strings after cleaning\n",
    "# smdf.reset_index(inplace=True)  # Reset index after removal of rows\n",
    "# smdf"
   ]
  },
  {
   "cell_type": "code",
   "execution_count": null,
   "metadata": {},
   "outputs": [],
   "source": [
    "# smsents = smdf.cComment.values.tolist()  # small batch of cleaned sentences to test with"
   ]
  },
  {
   "cell_type": "code",
   "execution_count": 5,
   "metadata": {},
   "outputs": [],
   "source": [
    "def comment_to_words(comments):\n",
    "    \"\"\"\n",
    "    Takes in the comments as a list and returns a list of tokens via gensim.  \n",
    "    This lowercases, tokenizes, and de-accents the comments as well\n",
    "    \n",
    "    Args:\n",
    "        comments (list): list of (cleaned) comments to preprocess with gensim\n",
    "    \"\"\"\n",
    "    for comment in comments:\n",
    "        yield(gensim.utils.simple_preprocess(str(comment), deacc=True))  # Text may contain accent marks as it's comment data, may not be english"
   ]
  },
  {
   "cell_type": "code",
   "execution_count": 6,
   "metadata": {},
   "outputs": [
    {
     "name": "stderr",
     "output_type": "stream",
     "text": [
      "C:\\Users\\Zade\\AppData\\Local\\Temp\\ipykernel_9940\\3379192874.py:3: SettingWithCopyWarning: \n",
      "A value is trying to be set on a copy of a slice from a DataFrame.\n",
      "Try using .loc[row_indexer,col_indexer] = value instead\n",
      "\n",
      "See the caveats in the documentation: https://pandas.pydata.org/pandas-docs/stable/user_guide/indexing.html#returning-a-view-versus-a-copy\n",
      "  goodComments['cComment'] = goodComments.apply(text_preproc, axis=1)\n"
     ]
    }
   ],
   "source": [
    "dfcopy = df.copy()\n",
    "goodComments = dfcopy[dfcopy.flag=='good']\n",
    "goodComments['cComment'] = goodComments.apply(text_preproc, axis=1)\n",
    "goodComments = goodComments[~goodComments.cComment.apply(lambda x: len(x.split()) < 2)]  # Remove any words with fewer than three characters\n",
    "goodComments.reset_index(inplace=True)\n",
    "goodsents = goodComments.cComment.values.tolist()\n",
    "data_words = list(comment_to_words(goodsents))"
   ]
  },
  {
   "cell_type": "code",
   "execution_count": null,
   "metadata": {},
   "outputs": [],
   "source": [
    "# data_words = list(comment_to_words(smsents))\n",
    "# data_words[:4]"
   ]
  },
  {
   "cell_type": "code",
   "execution_count": 8,
   "metadata": {},
   "outputs": [],
   "source": [
    "bigrams = gensim.models.Phrases(data_words, min_count=5000)   # Large min_count  as we'll have huge amount of data\n",
    "# trigrams = gensim.models.Phrases(bigrams[data_words], threshold=1000)  # Don't look at trigrams for 1st pass\n",
    "\n",
    "bigram_mod = gensim.models.phrases.Phraser(bigrams)\n",
    "# trigram_mod = gensim.models.phrases.Phraser(trigrams)"
   ]
  },
  {
   "cell_type": "code",
   "execution_count": 7,
   "metadata": {},
   "outputs": [],
   "source": [
    "def lemmatizePOS(comments, allowed_pos=['NOUN', 'ADJ', 'VERB', 'ADV']):\n",
    "    texts_out = []\n",
    "    for sent in comments:\n",
    "        doc = nlp(\" \".join(sent)) \n",
    "        texts_out.append([token.lemma_ for token in doc if token.pos_ in allowed_pos])\n",
    "    return texts_out\n",
    "\n",
    "def make_bigrams(comments):\n",
    "    return [bigram_mod[doc] for doc in comments]\n",
    "\n",
    "def make_trigrams(comments):\n",
    "    return [trigram_mod[bigram_mod[doc]] for doc in comments]"
   ]
  },
  {
   "cell_type": "code",
   "execution_count": 9,
   "metadata": {},
   "outputs": [],
   "source": [
    "data_bigrams = make_bigrams(data_words)\n",
    "data_lemmatized = lemmatizePOS(data_bigrams)"
   ]
  },
  {
   "cell_type": "code",
   "execution_count": 12,
   "metadata": {},
   "outputs": [],
   "source": [
    "# Remove words if they are just 1 or 2 characters long\n",
    "frequency = defaultdict(int)\n",
    "\n",
    "for text in data_lemmatized:\n",
    "    for token in text:\n",
    "        frequency[token] += 1\n",
    "        \n",
    "texts = [\n",
    "    [token for token in text if len(token) > 2]\n",
    "    for text in data_lemmatized\n",
    "]"
   ]
  },
  {
   "cell_type": "code",
   "execution_count": 20,
   "metadata": {},
   "outputs": [],
   "source": [
    "# TF-IDF Removal testing\n",
    "id2word = corpora.Dictionary(texts)  \n",
    "id2word.filter_extremes(no_below=20, no_above=0.5)  # Filter words that occur in less than 20 documents or more than 50% of documents\n",
    "corpus = [id2word.doc2bow(comment) for comment in texts]  # Make our bag of words\n",
    "tfidf = TfidfModel(corpus, id2word=id2word)\n",
    "\n",
    "low_value = 0.05\n",
    "for i in range(0, len(corpus)):\n",
    "    bow = corpus[i]\n",
    "    low_value_words = [] \n",
    "    tfidf_ids = [id for id, value in tfidf[bow]]\n",
    "    bow_ids = [id for id, value in bow]\n",
    "    low_value_words = [id for id, value in tfidf[bow] if value < low_value]\n",
    "    words_missing_in_tfidf = [id for id in bow_ids if id not in tfidf_ids] # The words with tf-idf socre 0 will be missing\n",
    "\n",
    "    new_bow = [b for b in bow if b[0] not in low_value_words and b[0] not in words_missing_in_tfidf]  \n",
    "\n",
    "#reassign        \n",
    "corpus[i] = new_bow"
   ]
  },
  {
   "cell_type": "code",
   "execution_count": 51,
   "metadata": {},
   "outputs": [],
   "source": [
    "lda_model = gensim.models.ldamodel.LdaModel(corpus=corpus,\n",
    "                                           id2word=id2word,\n",
    "                                           num_topics=5,\n",
    "                                           random_state=543,\n",
    "                                           update_every=1,\n",
    "                                           chunksize=100,\n",
    "                                           passes=10,\n",
    "                                           alpha=\"auto\",\n",
    "                                           eta=\"auto\"\n",
    "                                           )"
   ]
  },
  {
   "cell_type": "code",
   "execution_count": 22,
   "metadata": {},
   "outputs": [],
   "source": [
    "def compute_coherence_values(dictionary, corpus, texts, limit, start=5, step=3):\n",
    "    \"\"\"\n",
    "    Compute c_v coherence for various number of topics\n",
    "\n",
    "    Parameters:\n",
    "    ----------\n",
    "    dictionary : Gensim dictionary\n",
    "    corpus : Gensim corpus\n",
    "    texts : List of input texts\n",
    "    limit : Max num of topics\n",
    "\n",
    "    Returns:\n",
    "    -------\n",
    "    model_list : List of LDA topic models\n",
    "    coherence_values : Coherence values corresponding to the LDA model with respective number of topics\n",
    "    \"\"\"\n",
    "    coherence_values = []\n",
    "    model_list = []\n",
    "    for num_topics in range(start, limit, step):\n",
    "        model = gensim.models.ldamodel.LdaModel(corpus=corpus, id2word=dictionary, num_topics=num_topics)\n",
    "        model_list.append(model)\n",
    "        coherencemodel = CoherenceModel(model=model, texts=texts, dictionary=dictionary, coherence='c_v')\n",
    "        coherence_values.append(coherencemodel.get_coherence())\n",
    "\n",
    "    return model_list, coherence_values"
   ]
  },
  {
   "cell_type": "code",
   "execution_count": 23,
   "metadata": {},
   "outputs": [],
   "source": [
    "model_list, coherence_values = compute_coherence_values(dictionary=id2word, corpus=corpus, texts=data_lemmatized, start=1, limit=32, step=5)"
   ]
  },
  {
   "cell_type": "code",
   "execution_count": 24,
   "metadata": {},
   "outputs": [
    {
     "data": {
      "text/plain": [
       "<matplotlib.collections.PathCollection at 0x1d0a122a3b0>"
      ]
     },
     "execution_count": 24,
     "metadata": {},
     "output_type": "execute_result"
    },
    {
     "data": {
      "image/png": "[encoded data removed]",
      "text/plain": [
       "<Figure size 640x480 with 1 Axes>"
      ]
     },
     "metadata": {},
     "output_type": "display_data"
    }
   ],
   "source": [
    "x = range(1, 32, 5)\n",
    "plt.scatter(x, coherence_values)"
   ]
  },
  {
   "cell_type": "code",
   "execution_count": 26,
   "metadata": {},
   "outputs": [
    {
     "name": "stdout",
     "output_type": "stream",
     "text": [
      "Num Topics: 1, CV: 0.8268960493026734\n",
      "Num Topics: 6, CV: 0.7668491148514757\n",
      "Num Topics: 11, CV: 0.7309916053363126\n",
      "Num Topics: 16, CV: 0.7048314704831966\n",
      "Num Topics: 21, CV: 0.7007879027307349\n",
      "Num Topics: 26, CV: 0.67708537329947\n",
      "Num Topics: 31, CV: 0.6553543193156981\n"
     ]
    }
   ],
   "source": [
    "for m, cv in zip(x, coherence_values):\n",
    "    print(f\"Num Topics: {m}, CV: {cv}\")"
   ]
  },
  {
   "cell_type": "code",
   "execution_count": 32,
   "metadata": {},
   "outputs": [
    {
     "data": {
      "text/plain": [
       "<gensim.models.ldamodel.LdaModel at 0x1d07ed745b0>"
      ]
     },
     "execution_count": 32,
     "metadata": {},
     "output_type": "execute_result"
    }
   ],
   "source": [
    "res[-1][0]"
   ]
  },
  {
   "cell_type": "code",
   "execution_count": 34,
   "metadata": {},
   "outputs": [],
   "source": [
    "res = sorted(zip(model_list, coherence_values), key = lambda x: x[1])  # Sort the models by cv in ascending order\n",
    "best_model = res[-1][0]  # Select the best model by cv"
   ]
  },
  {
   "cell_type": "code",
   "execution_count": 54,
   "metadata": {},
   "outputs": [
    {
     "data": {
      "text/html": [
       "\n",
       "<link rel=\"stylesheet\" type=\"text/css\" href=\"https://cdn.jsdelivr.net/gh/bmabey/pyLDAvis@3.4.0/pyLDAvis/js/ldavis.v1.0.0.css\">\n",
       "\n",
       "\n",
       "<div id=\"ldavis_el994019958341562888394698591\" style=\"background-color:white;\"></div>\n",
       "<script type=\"text/javascript\">\n",
       "\n",
       "var ldavis_el994019958341562888394698591_data = {\"mdsDat\": {\"x\": [-0.43129626261362136, 0.137522972508713, 0.11987649222409584, 0.0945499398394084, 0.07934685804140428], \"y\": [-0.022654096771352546, -0.39583179442340216, 0.24097206624381207, 0.11137790617846453, 0.066135918772478], \"topics\": [1, 2, 3, 4, 5], \"cluster\": [1, 1, 1, 1, 1], \"Freq\": [36.242562251952066, 19.818300592059305, 18.00142878633391, 13.398991474942854, 12.538716894711865]}, \"tinfo\": {\"Term\": [\"know\", \"get\", \"see\", \"say\", \"time\", \"people\", \"make\", \"well\", \"think\", \"look\", \"fuck\", \"come\", \"take\", \"right\", \"even\", \"never\", \"man\", \"show\", \"feel\", \"much\", \"way\", \"kid\", \"guy\", \"good\", \"thing\", \"find\", \"use\", \"still\", \"want\", \"edit\", \"get\", \"people\", \"make\", \"think\", \"guy\", \"good\", \"thing\", \"use\", \"want\", \"really\", \"year\", \"work\", \"also\", \"day\", \"actually\", \"try\", \"give\", \"shit\", \"bad\", \"tell\", \"need\", \"pretty\", \"call\", \"old\", \"always\", \"sure\", \"love\", \"little\", \"friend\", \"keep\", \"say\", \"fuck\", \"take\", \"even\", \"way\", \"still\", \"back\", \"funny\", \"post\", \"girl\", \"put\", \"picture\", \"point\", \"long\", \"person\", \"leave\", \"part\", \"face\", \"dude\", \"run\", \"wrong\", \"wait\", \"hand\", \"dog\", \"hate\", \"video\", \"job\", \"turn\", \"least\", \"guess\", \"see\", \"time\", \"look\", \"much\", \"find\", \"first\", \"mean\", \"lot\", \"ever\", \"joke\", \"comment\", \"read\", \"woman\", \"end\", \"ask\", \"cat\", \"hear\", \"high\", \"real\", \"hit\", \"head\", \"world\", \"kill\", \"child\", \"check\", \"far\", \"front\", \"ill\", \"bring\", \"minute\", \"right\", \"man\", \"show\", \"kid\", \"edit\", \"reddit\", \"start\", \"last\", \"school\", \"word\", \"nice\", \"one\", \"different\", \"like\", \"second\", \"break\", \"top\", \"mom\", \"power\", \"drive\", \"instead\", \"almost\", \"full\", \"sit\", \"wife\", \"looks_like\", \"question\", \"hope\", \"gif\", \"fall\", \"know\", \"well\", \"come\", \"never\", \"feel\", \"watch\", \"great\", \"let\", \"thank\", \"talk\", \"stop\", \"new\", \"remember\", \"wear\", \"sound\", \"hold\", \"sex\", \"eye\", \"link\", \"hell\", \"less\", \"forget\", \"learn\", \"enjoy\", \"easy\", \"dead\", \"add\", \"season\", \"poor\", \"shoot\"], \"Freq\": [58717.0, 117559.0, 58463.0, 57915.0, 51558.0, 70614.0, 69533.0, 33939.0, 68035.0, 37770.0, 38731.0, 30155.0, 38222.0, 28089.0, 34450.0, 25944.0, 25240.0, 23021.0, 22283.0, 26905.0, 27653.0, 20870.0, 41039.0, 40916.0, 40412.0, 23512.0, 38268.0, 23804.0, 36803.0, 17948.0, 117559.00124229428, 70613.2877750818, 69533.13172705966, 68034.18135070341, 41038.91082512321, 40915.4739518362, 40411.1710123114, 38268.14079710863, 36802.23746256945, 35236.22291779173, 30632.351932326863, 28799.825839935747, 28796.918151935537, 28681.570451266947, 27585.043580867623, 25541.431658198122, 24956.5013277619, 23530.45872580814, 23377.321346584282, 23007.20577022548, 22560.551017416266, 21041.103108793748, 20512.12844941897, 19152.332629630666, 18867.593496826183, 18277.692123445202, 18058.938003895295, 16990.91186525798, 15427.86146844164, 15203.655113096105, 57914.946889019404, 38730.54961736659, 38221.40650541157, 34449.770949759004, 27652.735805760167, 23803.775769617412, 20319.300319596492, 19216.567623572173, 18927.643509374717, 16771.57176051688, 16749.75952094775, 16480.045838935956, 14891.250897211103, 13798.205513143657, 13279.714699472755, 12496.600147360621, 12062.09270092992, 11764.459408403567, 11417.850670421189, 11290.054775396897, 11077.340883295625, 11032.130620800674, 10568.141637416475, 10350.939838080945, 10347.330426759334, 10040.463103713462, 9740.08345894901, 9727.378948570105, 9526.9668059421, 9177.440507253024, 58462.208436269735, 51557.3434306897, 37769.420886284584, 26904.17817202415, 23511.245840685315, 19819.94331071071, 18751.726705903857, 18218.621587761365, 17542.619436322857, 17039.432663527867, 15974.532812783224, 14237.021496920397, 13764.093412799048, 13548.018740301064, 13243.369398502165, 13086.197065919936, 11964.874155294514, 11713.719901016324, 10940.964642896748, 8620.894539031848, 8213.907018329135, 8201.956123744094, 8000.606717551523, 7925.006522202273, 7670.240422176475, 7228.2899542042, 7131.473112817863, 7076.279495401728, 6926.6195725295875, 6878.121285901989, 28089.10162138695, 25239.17650019928, 23021.099553106214, 20869.54053046607, 17947.54515279634, 17813.85463726368, 15300.764034700565, 13191.431958281992, 11589.176187225408, 10431.094644200763, 9464.553375505824, 9062.153519809968, 8681.071127550642, 8563.961704728363, 8328.520814713755, 8292.514150239109, 8086.689809146136, 7827.566591104666, 7873.45872164417, 7418.06787207286, 7232.96894807565, 7180.858433373647, 7088.698924974491, 6948.781486149418, 6939.776499258011, 6904.14081253856, 6876.60496493953, 6713.638042493513, 6540.258599908446, 6416.547006473602, 58716.67345184187, 33938.68070993614, 30154.60838118754, 25943.883437836612, 22282.76233973425, 16908.932853933627, 14221.62123066171, 13913.499114333792, 13035.088316029698, 12506.076968451365, 11968.668981780744, 11149.895896407785, 9657.21461279925, 9525.587950137491, 9202.86915973987, 7437.988760686816, 7180.996289816007, 6747.652645056186, 6744.778147957605, 6485.799499477678, 6259.482241042037, 5870.681093021375, 5508.656051950656, 5417.003322376862, 5407.827572487973, 5193.499297626735, 5119.85534786777, 5059.820310627258, 5045.946367256627, 4901.295458127201], \"Total\": [58717.0, 117559.0, 58463.0, 57915.0, 51558.0, 70614.0, 69533.0, 33939.0, 68035.0, 37770.0, 38731.0, 30155.0, 38222.0, 28089.0, 34450.0, 25944.0, 25240.0, 23021.0, 22283.0, 26905.0, 27653.0, 20870.0, 41039.0, 40916.0, 40412.0, 23512.0, 38268.0, 23804.0, 36803.0, 17948.0, 117559.8412116983, 70614.12838971987, 69533.97251236743, 68035.02213573693, 41039.75283876802, 40916.31462612928, 40412.011507460535, 38268.98169860181, 36803.07832646171, 35237.062005637184, 30633.19228141374, 28800.66476221924, 28797.759860289512, 28682.410328822363, 27585.884830983014, 25542.270829853842, 24957.342246186276, 23531.300648995333, 23378.16376740651, 23008.04675777944, 22561.39076191217, 21041.94196029697, 20512.966632052536, 19153.173108448715, 18868.433670000566, 18278.53180637771, 18059.776180336055, 16991.751756495865, 15428.700813592537, 15204.497455896675, 57915.78713679493, 38731.39185198078, 38222.24639523338, 34450.61165197025, 27653.576116964687, 23804.61446493185, 20320.14167433375, 19217.405633313003, 18928.483079474416, 16772.412558105865, 16750.599272269537, 16480.88398492926, 14892.089367082106, 13799.04357867688, 13280.554393656583, 12497.438672361886, 12062.93498471863, 11765.299878313628, 11418.692507918015, 11290.897312450861, 11078.180265262832, 11032.972093829483, 10568.982045969466, 10351.777632865558, 10348.171309155838, 10041.302713769073, 9740.924081071975, 9728.21959818768, 9527.806395065762, 9178.281745878918, 58463.04639571922, 51558.18229089281, 37770.2589688764, 26905.01705186053, 23512.08431844883, 19820.780333737624, 18752.56307168249, 18219.460487585304, 17543.4572837788, 17040.270313768786, 15975.369283814496, 14237.860562866648, 13764.929094412148, 13548.85811704223, 13244.207662665112, 13087.037043340868, 11965.713501190965, 11714.558611081644, 10941.801214719539, 8621.740621159963, 8214.744286499312, 8202.793965875577, 8001.444238453162, 7925.84251522508, 7671.078902226893, 7229.129277435755, 7132.311664522481, 7077.1167968525, 6927.458727864294, 6878.9578111805395, 28089.946570514003, 25240.02147007685, 23021.94355146745, 20870.384028563323, 17948.391561495457, 17814.698815465537, 15301.607152833432, 13192.27698290546, 11590.020957948294, 10431.939096169719, 9465.396646157773, 9062.997959602546, 8681.915767491108, 8564.804364931515, 8329.365606176367, 8293.357867931838, 8087.535468641507, 7828.412460986656, 7874.319256960048, 7418.91047135336, 7233.817331896161, 7181.700722448155, 7089.544357487601, 6949.626286886609, 6940.622276657068, 6904.986260630154, 6877.449423703668, 6714.484479734074, 6541.10338261733, 6417.393447433775, 58717.51532440236, 33939.52230223268, 30155.45072075509, 25944.725106373735, 22283.60531929362, 16909.773336917387, 14222.463749989247, 13914.340245232712, 13035.92937888688, 12506.919541269983, 11969.51016846478, 11150.736470751097, 9658.055581736178, 9526.427686996725, 9203.709451717563, 7438.831298852419, 7181.836050889469, 6748.493893235068, 6745.621926651032, 6486.642462622861, 6260.322007861635, 5871.522992780576, 5509.4954315532395, 5417.846222741009, 5408.669329692454, 5194.341742034737, 5120.6983172361715, 5060.662368246745, 5046.790634260251, 4902.140260322254], \"Category\": [\"Default\", \"Default\", \"Default\", \"Default\", \"Default\", \"Default\", \"Default\", \"Default\", \"Default\", \"Default\", \"Default\", \"Default\", \"Default\", \"Default\", \"Default\", \"Default\", \"Default\", \"Default\", \"Default\", \"Default\", \"Default\", \"Default\", \"Default\", \"Default\", \"Default\", \"Default\", \"Default\", \"Default\", \"Default\", \"Default\", \"Topic1\", \"Topic1\", \"Topic1\", \"Topic1\", \"Topic1\", \"Topic1\", \"Topic1\", \"Topic1\", \"Topic1\", \"Topic1\", \"Topic1\", \"Topic1\", \"Topic1\", \"Topic1\", \"Topic1\", \"Topic1\", \"Topic1\", \"Topic1\", \"Topic1\", \"Topic1\", \"Topic1\", \"Topic1\", \"Topic1\", \"Topic1\", \"Topic1\", \"Topic1\", \"Topic1\", \"Topic1\", \"Topic1\", \"Topic1\", \"Topic2\", \"Topic2\", \"Topic2\", \"Topic2\", \"Topic2\", \"Topic2\", \"Topic2\", \"Topic2\", \"Topic2\", \"Topic2\", \"Topic2\", \"Topic2\", \"Topic2\", \"Topic2\", \"Topic2\", \"Topic2\", \"Topic2\", \"Topic2\", \"Topic2\", \"Topic2\", \"Topic2\", \"Topic2\", \"Topic2\", \"Topic2\", \"Topic2\", \"Topic2\", \"Topic2\", \"Topic2\", \"Topic2\", \"Topic2\", \"Topic3\", \"Topic3\", \"Topic3\", \"Topic3\", \"Topic3\", \"Topic3\", \"Topic3\", \"Topic3\", \"Topic3\", \"Topic3\", \"Topic3\", \"Topic3\", \"Topic3\", \"Topic3\", \"Topic3\", \"Topic3\", \"Topic3\", \"Topic3\", \"Topic3\", \"Topic3\", \"Topic3\", \"Topic3\", \"Topic3\", \"Topic3\", \"Topic3\", \"Topic3\", \"Topic3\", \"Topic3\", \"Topic3\", \"Topic3\", \"Topic4\", \"Topic4\", \"Topic4\", \"Topic4\", \"Topic4\", \"Topic4\", \"Topic4\", \"Topic4\", \"Topic4\", \"Topic4\", \"Topic4\", \"Topic4\", \"Topic4\", \"Topic4\", \"Topic4\", \"Topic4\", \"Topic4\", \"Topic4\", \"Topic4\", \"Topic4\", \"Topic4\", \"Topic4\", \"Topic4\", \"Topic4\", \"Topic4\", \"Topic4\", \"Topic4\", \"Topic4\", \"Topic4\", \"Topic4\", \"Topic5\", \"Topic5\", \"Topic5\", \"Topic5\", \"Topic5\", \"Topic5\", \"Topic5\", \"Topic5\", \"Topic5\", \"Topic5\", \"Topic5\", \"Topic5\", \"Topic5\", \"Topic5\", \"Topic5\", \"Topic5\", \"Topic5\", \"Topic5\", \"Topic5\", \"Topic5\", \"Topic5\", \"Topic5\", \"Topic5\", \"Topic5\", \"Topic5\", \"Topic5\", \"Topic5\", \"Topic5\", \"Topic5\", \"Topic5\"], \"logprob\": [30.0, 29.0, 28.0, 27.0, 26.0, 25.0, 24.0, 23.0, 22.0, 21.0, 20.0, 19.0, 18.0, 17.0, 16.0, 15.0, 14.0, 13.0, 12.0, 11.0, 10.0, 9.0, 8.0, 7.0, 6.0, 5.0, 4.0, 3.0, 2.0, 1.0, -3.1545, -3.6642, -3.6796, -3.7014, -4.2069, -4.2099, -4.2223, -4.2768, -4.3158, -4.3593, -4.4993, -4.561, -4.5611, -4.5651, -4.6041, -4.6811, -4.7043, -4.7631, -4.7696, -4.7856, -4.8052, -4.8749, -4.9004, -4.969, -4.9839, -5.0157, -5.0278, -5.0887, -5.1852, -5.1999, -3.2588, -3.6611, -3.6744, -3.7783, -3.998, -4.1479, -4.3062, -4.362, -4.3771, -4.4981, -4.4994, -4.5156, -4.617, -4.6932, -4.7315, -4.7923, -4.8277, -4.8527, -4.8826, -4.8938, -4.9129, -4.917, -4.9599, -4.9807, -4.981, -5.0111, -5.0415, -5.0428, -5.0636, -5.101, -3.1532, -3.2789, -3.5901, -3.9293, -4.0641, -4.2349, -4.2903, -4.3192, -4.357, -4.3861, -4.4506, -4.5658, -4.5995, -4.6154, -4.6381, -4.6501, -4.7396, -4.7609, -4.8291, -5.0674, -5.1158, -5.1172, -5.1421, -5.1516, -5.1843, -5.2436, -5.2571, -5.2649, -5.2862, -5.2933, -3.591, -3.6979, -3.7899, -3.888, -4.0389, -4.0464, -4.1984, -4.3468, -4.4763, -4.5815, -4.6788, -4.7222, -4.7652, -4.7788, -4.8067, -4.811, -4.8361, -4.8687, -4.8628, -4.9224, -4.9477, -4.9549, -4.9678, -4.9878, -4.9891, -4.9942, -4.9982, -5.0222, -5.0484, -5.0675, -2.7873, -3.3354, -3.4536, -3.604, -3.7562, -4.0321, -4.2052, -4.2271, -4.2923, -4.3338, -4.3777, -4.4486, -4.5923, -4.606, -4.6405, -4.8534, -4.8885, -4.9508, -4.9512, -4.9904, -5.0259, -5.09, -5.1537, -5.1704, -5.1721, -5.2126, -5.2269, -5.2387, -5.2414, -5.2705], \"loglift\": [30.0, 29.0, 28.0, 27.0, 26.0, 25.0, 24.0, 23.0, 22.0, 21.0, 20.0, 19.0, 18.0, 17.0, 16.0, 15.0, 14.0, 13.0, 12.0, 11.0, 10.0, 9.0, 8.0, 7.0, 6.0, 5.0, 4.0, 3.0, 2.0, 1.0, 1.0149, 1.0149, 1.0149, 1.0149, 1.0149, 1.0149, 1.0149, 1.0149, 1.0149, 1.0149, 1.0149, 1.0149, 1.0149, 1.0149, 1.0149, 1.0149, 1.0149, 1.0149, 1.0149, 1.0149, 1.0149, 1.0149, 1.0149, 1.0149, 1.0149, 1.0149, 1.0149, 1.0149, 1.0149, 1.0149, 1.6185, 1.6185, 1.6185, 1.6185, 1.6185, 1.6185, 1.6185, 1.6185, 1.6185, 1.6185, 1.6185, 1.6185, 1.6185, 1.6185, 1.6185, 1.6185, 1.6185, 1.6185, 1.6185, 1.6185, 1.6185, 1.6185, 1.6185, 1.6185, 1.6185, 1.6185, 1.6185, 1.6185, 1.6185, 1.6185, 1.7147, 1.7147, 1.7147, 1.7147, 1.7147, 1.7147, 1.7147, 1.7147, 1.7147, 1.7147, 1.7147, 1.7147, 1.7147, 1.7147, 1.7147, 1.7147, 1.7146, 1.7146, 1.7146, 1.7146, 1.7146, 1.7146, 1.7146, 1.7146, 1.7146, 1.7146, 1.7146, 1.7146, 1.7146, 1.7146, 2.01, 2.01, 2.01, 2.01, 2.0099, 2.0099, 2.0099, 2.0099, 2.0099, 2.0099, 2.0099, 2.0099, 2.0099, 2.0099, 2.0099, 2.0099, 2.0099, 2.0099, 2.0099, 2.0099, 2.0099, 2.0099, 2.0099, 2.0099, 2.0099, 2.0099, 2.0099, 2.0099, 2.0099, 2.0099, 2.0763, 2.0763, 2.0763, 2.0763, 2.0763, 2.0763, 2.0763, 2.0763, 2.0763, 2.0763, 2.0763, 2.0763, 2.0763, 2.0763, 2.0763, 2.0762, 2.0762, 2.0762, 2.0762, 2.0762, 2.0762, 2.0762, 2.0762, 2.0762, 2.0762, 2.0762, 2.0762, 2.0762, 2.0762, 2.0762]}, \"token.table\": {\"Topic\": [1, 5, 4, 1, 1, 3, 2, 1, 4, 3, 1, 3, 3, 3, 5, 3, 1, 5, 4, 2, 4, 2, 5, 4, 3, 5, 2, 3, 5, 2, 4, 3, 5, 3, 3, 5, 1, 3, 2, 4, 2, 1, 4, 2, 1, 1, 5, 2, 1, 2, 2, 3, 3, 5, 3, 3, 5, 4, 3, 4, 2, 3, 1, 4, 3, 5, 4, 5, 2, 2, 5, 5, 4, 5, 1, 2, 3, 4, 3, 1, 1, 4, 3, 3, 4, 3, 1, 5, 5, 4, 1, 4, 2, 1, 2, 2, 2, 5, 2, 4, 1, 2, 4, 3, 3, 1, 4, 5, 4, 2, 2, 4, 5, 4, 3, 5, 1, 5, 4, 4, 5, 4, 2, 5, 1, 2, 5, 1, 5, 1, 1, 3, 4, 1, 2, 1, 2, 2, 1, 5, 2, 5, 5, 4, 3, 4, 1, 3, 2, 1], \"Freq\": [0.9999679245023883, 0.9998636285145288, 0.9999024294557465, 0.9999736139097902, 0.999977016110179, 0.9999088157860498, 0.9999438156312073, 0.999950219896734, 0.9999568488497016, 0.9999337812201683, 0.9999528770231105, 0.999920757973143, 0.9998593545652907, 0.9998937002314313, 0.9999850534233674, 0.9999768841766387, 0.9999856940606574, 0.9997416916134187, 0.9998945201133445, 0.9999248792919305, 0.9998772769456007, 0.9999393531336854, 0.9998762487311288, 0.9999781840342565, 0.9999366649916313, 0.9998438082761638, 0.9999822455410537, 0.9999739342267945, 0.9999268143021418, 0.9998895159216448, 0.9999386904610108, 0.9998437879041283, 0.9999728356661794, 0.9999538825042416, 0.9999606305239004, 0.9999109272362181, 0.999954577277698, 0.9998160954562593, 0.9999898828324508, 0.9999232168584958, 0.9999788923999033, 0.9999928443957594, 0.9998313155208245, 0.9999754025782257, 0.9999862867534972, 0.99996787036806, 0.9999673931326246, 0.9998603501271365, 0.9999816558649615, 0.9999070822558697, 0.9998868100342714, 0.99990939626684, 0.9999403711955084, 0.999900956060618, 0.99995231479903, 0.9999140984178827, 0.9998882487289976, 0.9999278455798749, 0.9998421960687442, 0.9998870123672384, 0.9999051341469984, 0.999925452252494, 0.9999672823190561, 0.9999815993532847, 0.9999444802163305, 0.999991223668108, 0.9999032022366484, 0.9999100767830023, 0.9999153640373949, 0.99996489901864, 0.9997888274980145, 0.9999036788515236, 0.9999060848447621, 0.99990780291902, 0.9999557575636321, 0.9999243731153591, 0.9999666677192381, 0.9998571668946284, 0.9999747255092643, 0.9999570215971502, 0.9999860138529083, 0.9999595297461193, 0.9999699736147887, 0.9998607621667657, 0.9999473123077366, 0.9999621984309257, 0.9999826800609815, 0.9999720518767973, 0.9999339531740321, 0.9999580951361469, 0.9999387512219478, 0.9998898863701621, 0.9999224911085226, 0.9999840203406088, 0.9999582552324136, 0.9999463630148682, 0.9999268492784824, 0.9998433391995928, 0.9999744787010989, 0.9998324608239777, 0.9999552341557283, 0.9999642238310524, 0.9999346525614395, 0.9999395581335518, 0.9999267748788507, 0.999969861118472, 0.9999607730968244, 0.9998907045287486, 0.9999663021603965, 0.9999205277998701, 0.999986408942469, 0.9999119106037859, 0.9998691143177421, 0.9999561063598774, 0.9999821015875202, 0.9998835881404775, 0.9999447268548928, 0.9997673954106366, 0.9999590151254892, 0.9999098819331061, 0.999922916762933, 0.999960320976263, 0.9999741871504471, 0.9999573776656188, 0.9999709054106019, 0.9999673908430057, 0.9999264773978158, 0.9999545047091367, 0.9999287063576467, 0.9999749701283652, 0.999984976329766, 0.9999770688018802, 0.9999337908756527, 0.9999502460113157, 0.999874632950524, 0.9999743474072672, 0.9998702644660551, 0.9999118919343568, 0.9999707001014386, 0.9999542668667415, 0.999979166637897, 0.9999551052072427, 0.9999846107959909, 0.9999103428147702, 0.9999325027825589, 0.9999099787526498, 0.999976918511266, 0.9999032078729663, 0.9998934603667234, 0.9999610787735478], \"Term\": [\"actually\", \"add\", \"almost\", \"also\", \"always\", \"ask\", \"back\", \"bad\", \"break\", \"bring\", \"call\", \"cat\", \"check\", \"child\", \"come\", \"comment\", \"day\", \"dead\", \"different\", \"dog\", \"drive\", \"dude\", \"easy\", \"edit\", \"end\", \"enjoy\", \"even\", \"ever\", \"eye\", \"face\", \"fall\", \"far\", \"feel\", \"find\", \"first\", \"forget\", \"friend\", \"front\", \"fuck\", \"full\", \"funny\", \"get\", \"gif\", \"girl\", \"give\", \"good\", \"great\", \"guess\", \"guy\", \"hand\", \"hate\", \"head\", \"hear\", \"hell\", \"high\", \"hit\", \"hold\", \"hope\", \"ill\", \"instead\", \"job\", \"joke\", \"keep\", \"kid\", \"kill\", \"know\", \"last\", \"learn\", \"least\", \"leave\", \"less\", \"let\", \"like\", \"link\", \"little\", \"long\", \"look\", \"looks_like\", \"lot\", \"love\", \"make\", \"man\", \"mean\", \"minute\", \"mom\", \"much\", \"need\", \"never\", \"new\", \"nice\", \"old\", \"one\", \"part\", \"people\", \"person\", \"picture\", \"point\", \"poor\", \"post\", \"power\", \"pretty\", \"put\", \"question\", \"read\", \"real\", \"really\", \"reddit\", \"remember\", \"right\", \"run\", \"say\", \"school\", \"season\", \"second\", \"see\", \"sex\", \"shit\", \"shoot\", \"show\", \"sit\", \"sound\", \"start\", \"still\", \"stop\", \"sure\", \"take\", \"talk\", \"tell\", \"thank\", \"thing\", \"think\", \"time\", \"top\", \"try\", \"turn\", \"use\", \"video\", \"wait\", \"want\", \"watch\", \"way\", \"wear\", \"well\", \"wife\", \"woman\", \"word\", \"work\", \"world\", \"wrong\", \"year\"]}, \"R\": 30, \"lambda.step\": 0.01, \"plot.opts\": {\"xlab\": \"PC1\", \"ylab\": \"PC2\"}, \"topic.order\": [3, 5, 2, 1, 4]};\n",
       "\n",
       "function LDAvis_load_lib(url, callback){\n",
       "  var s = document.createElement('script');\n",
       "  s.src = url;\n",
       "  s.async = true;\n",
       "  s.onreadystatechange = s.onload = callback;\n",
       "  s.onerror = function(){console.warn(\"failed to load library \" + url);};\n",
       "  document.getElementsByTagName(\"head\")[0].appendChild(s);\n",
       "}\n",
       "\n",
       "if(typeof(LDAvis) !== \"undefined\"){\n",
       "   // already loaded: just create the visualization\n",
       "   !function(LDAvis){\n",
       "       new LDAvis(\"#\" + \"ldavis_el994019958341562888394698591\", ldavis_el994019958341562888394698591_data);\n",
       "   }(LDAvis);\n",
       "}else if(typeof define === \"function\" && define.amd){\n",
       "   // require.js is available: use it to load d3/LDAvis\n",
       "   require.config({paths: {d3: \"https://d3js.org/d3.v5\"}});\n",
       "   require([\"d3\"], function(d3){\n",
       "      window.d3 = d3;\n",
       "      LDAvis_load_lib(\"https://cdn.jsdelivr.net/gh/bmabey/pyLDAvis@3.4.0/pyLDAvis/js/ldavis.v3.0.0.js\", function(){\n",
       "        new LDAvis(\"#\" + \"ldavis_el994019958341562888394698591\", ldavis_el994019958341562888394698591_data);\n",
       "      });\n",
       "    });\n",
       "}else{\n",
       "    // require.js not available: dynamically load d3 & LDAvis\n",
       "    LDAvis_load_lib(\"https://d3js.org/d3.v5.js\", function(){\n",
       "         LDAvis_load_lib(\"https://cdn.jsdelivr.net/gh/bmabey/pyLDAvis@3.4.0/pyLDAvis/js/ldavis.v3.0.0.js\", function(){\n",
       "                 new LDAvis(\"#\" + \"ldavis_el994019958341562888394698591\", ldavis_el994019958341562888394698591_data);\n",
       "            })\n",
       "         });\n",
       "}\n",
       "</script>"
      ],
      "text/plain": [
       "PreparedData(topic_coordinates=              x         y  topics  cluster       Freq\n",
       "topic                                                \n",
       "2     -0.431296 -0.022654       1        1  36.242562\n",
       "4      0.137523 -0.395832       2        1  19.818301\n",
       "1      0.119876  0.240972       3        1  18.001429\n",
       "0      0.094550  0.111378       4        1  13.398991\n",
       "3      0.079347  0.066136       5        1  12.538717, topic_info=        Term           Freq          Total Category  logprob  loglift\n",
       "193     know   58717.000000   58717.000000  Default  30.0000  30.0000\n",
       "16       get  117559.000000  117559.000000  Default  29.0000  29.0000\n",
       "12       see   58463.000000   58463.000000  Default  28.0000  28.0000\n",
       "236      say   57915.000000   57915.000000  Default  27.0000  27.0000\n",
       "67      time   51558.000000   51558.000000  Default  26.0000  26.0000\n",
       "...      ...            ...            ...      ...      ...      ...\n",
       "140     dead    5193.499298    5194.341742   Topic5  -5.2126   2.0762\n",
       "1468     add    5119.855348    5120.698317   Topic5  -5.2269   2.0762\n",
       "1006  season    5059.820311    5060.662368   Topic5  -5.2387   2.0762\n",
       "771     poor    5045.946367    5046.790634   Topic5  -5.2414   2.0762\n",
       "1079   shoot    4901.295458    4902.140260   Topic5  -5.2705   2.0762\n",
       "\n",
       "[180 rows x 6 columns], token_table=      Topic      Freq      Term\n",
       "term                           \n",
       "37        1  0.999968  actually\n",
       "1468      5  0.999864       add\n",
       "812       4  0.999902    almost\n",
       "262       1  0.999974      also\n",
       "536       1  0.999977    always\n",
       "...     ...       ...       ...\n",
       "569       4  0.999910      word\n",
       "54        1  0.999977      work\n",
       "363       3  0.999903     world\n",
       "315       2  0.999893     wrong\n",
       "61        1  0.999961      year\n",
       "\n",
       "[150 rows x 3 columns], R=30, lambda_step=0.01, plot_opts={'xlab': 'PC1', 'ylab': 'PC2'}, topic_order=[3, 5, 2, 1, 4])"
      ]
     },
     "execution_count": 54,
     "metadata": {},
     "output_type": "execute_result"
    }
   ],
   "source": [
    "pyLDAvis.enable_notebook()\n",
    "warnings.filterwarnings(\"ignore\", category=FutureWarning)\n",
    "vis = pyLDAvis.gensim.prepare(lda_model, corpus, id2word)  #### Issue with plotting best_model\n",
    "warnings.filterwarnings(\"default\", category=FutureWarning)\n",
    "vis"
   ]
  },
  {
   "cell_type": "code",
   "execution_count": 38,
   "metadata": {},
   "outputs": [],
   "source": [
    "model_topics = best_model.show_topics(formatted=False)"
   ]
  },
  {
   "cell_type": "code",
   "execution_count": 50,
   "metadata": {},
   "outputs": [
    {
     "data": {
      "text/plain": [
       "<gensim.models.ldamodel.LdaModel at 0x1d07ed745b0>"
      ]
     },
     "execution_count": 50,
     "metadata": {},
     "output_type": "execute_result"
    }
   ],
   "source": [
    "best_model"
   ]
  },
  {
   "cell_type": "code",
   "execution_count": 52,
   "metadata": {},
   "outputs": [
    {
     "data": {
      "text/plain": [
       "<gensim.models.ldamodel.LdaModel at 0x1d0b9e2ef80>"
      ]
     },
     "execution_count": 52,
     "metadata": {},
     "output_type": "execute_result"
    }
   ],
   "source": [
    "lda_model"
   ]
  },
  {
   "cell_type": "code",
   "execution_count": 49,
   "metadata": {},
   "outputs": [
    {
     "data": {
      "text/plain": [
       "[(0,\n",
       "  '0.015*\"get\" + 0.009*\"make\" + 0.009*\"people\" + 0.009*\"think\" + 0.008*\"say\" + 0.008*\"know\" + 0.007*\"see\" + 0.007*\"time\" + 0.005*\"good\" + 0.005*\"thing\"')]"
      ]
     },
     "execution_count": 49,
     "metadata": {},
     "output_type": "execute_result"
    }
   ],
   "source": [
    "best_model.show_topics(-1)"
   ]
  },
  {
   "cell_type": "code",
   "execution_count": null,
   "metadata": {},
   "outputs": [],
   "source": [
    "# Save model\n",
    "# lda_model.save(r\"data/models/LDAmodel.model\")\n",
    "# Load model\n",
    "# new_model = gensim.models.ldamodel.LdaModel.load(r\"data/models/LDAmodel.model\")"
   ]
  }
 ],
 "metadata": {
  "kernelspec": {
   "display_name": "py0913-red",
   "language": "python",
   "name": "python3"
  },
  "language_info": {
   "codemirror_mode": {
    "name": "ipython",
    "version": 3
   },
   "file_extension": ".py",
   "mimetype": "text/x-python",
   "name": "python",
   "nbconvert_exporter": "python",
   "pygments_lexer": "ipython3",
   "version": "3.10.10"
  },
  "orig_nbformat": 4
 },
 "nbformat": 4,
 "nbformat_minor": 2
}
