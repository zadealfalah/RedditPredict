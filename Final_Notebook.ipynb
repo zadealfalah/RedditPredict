{
 "cells": [
  {
   "cell_type": "code",
   "execution_count": 2,
   "id": "27058906",
   "metadata": {},
   "outputs": [
    {
     "name": "stderr",
     "output_type": "stream",
     "text": [
      "[nltk_data] Downloading package stopwords to\n",
      "[nltk_data]     C:\\Users\\Zade\\anaconda3\\envs\\py38\\lib\\nltk_data...\n",
      "[nltk_data]   Package stopwords is already up-to-date!\n",
      "[nltk_data] Downloading package wordnet to\n",
      "[nltk_data]     C:\\Users\\Zade\\anaconda3\\envs\\py38\\lib\\nltk_data...\n",
      "[nltk_data]   Package wordnet is already up-to-date!\n",
      "[nltk_data] Downloading package omw-1.4 to\n",
      "[nltk_data]     C:\\Users\\Zade\\anaconda3\\envs\\py38\\lib\\nltk_data...\n",
      "[nltk_data]   Package omw-1.4 is already up-to-date!\n"
     ]
    }
   ],
   "source": [
    "from psaw import PushshiftAPI\n",
    "import datetime as dt\n",
    "import pandas as pd\n",
    "import numpy as np\n",
    "import matplotlib.pyplot as plt\n",
    "import re \n",
    "import os\n",
    "from collections import Counter\n",
    "\n",
    "import nltk\n",
    "from nltk.corpus import stopwords\n",
    "from nltk.stem import WordNetLemmatizer\n",
    "nltk.download('stopwords')\n",
    "nltk.download('wordnet')\n",
    "nltk.download('omw-1.4') #required for lemmatizer\n",
    "\n",
    "import tensorflow as tf\n",
    "from keras import Sequential\n",
    "from keras.models import Model\n",
    "from keras.layers import Dense, Embedding, GlobalAveragePooling1D, concatenate, Activation, Input, BatchNormalization, MaxPooling1D, LSTM, Bidirectional, CategoryEncoding\n",
    "from keras.layers.core import Masking, Dropout, Reshape\n",
    "from keras.preprocessing import sequence\n",
    "from keras_preprocessing.sequence import pad_sequences\n",
    "from keras.preprocessing.text import text_to_word_sequence, Tokenizer\n",
    "from keras.utils import plot_model\n",
    "from keras.callbacks import EarlyStopping\n",
    "from keras.optimizers import Adam\n",
    "from sklearn.model_selection import train_test_split\n",
    "from sklearn.metrics import roc_curve, auc\n",
    "from sklearn.preprocessing import StandardScaler, MinMaxScaler\n",
    "\n",
    "from textblob import TextBlob\n",
    "\n",
    "%matplotlib inline"
   ]
  },
  {
   "cell_type": "markdown",
   "id": "aa590822",
   "metadata": {},
   "source": [
    "# Project Overview  \n",
    "This project came as the result of attempting to create a regression model to predict the score a given comment might get on a reddit submission.  The original scope was to hopefully build up a regression model for an individual subreddit, then it shrunk to being for a smaller timeframe within an individual subreddit, and finally it ended with this binary 'good' vs. 'bad' posting problem where we label comments with a score less than or equal to one as being a 'bad' comment, and ones with a score over one to be a 'good' comment.  This was decided because comments that are not interacted with in any way remain at one point, and as such it would be hard to call it a 'good' comment if it garners no interaction at all.  So in the end, this became transformed in to a binary classification problem.  \n",
    "There are a myriad of reasons why this type of model might be useful to others including, but not limited to, businesses looking to create content within a given subreddit that would be received well by those who see it - or to promote it further so it is seen by more.  Perhaps they have an ad which is being interacted with already and they wish to interact further with members of the community within the comments of the thread.\n",
    "While obviously a binary 'good' vs. 'bad' is not quite helpful on its own, it can serve as a bedrock from which further analysis can be done with more depth.  The approach of going subreddit-by-subreddit seems to have been skipped over by many others in an attempt to get some sort of 'best predictor' in general which seemed overly ambitious as I doubt that all subreddits have identical preferences and as such their individuality must be taken in to account within our predictors.    \n",
    "The data for this was gathered via the Pushshift API which allows for us to customize our selection criteria for comments to be pulled.  In this analysis the largest section of data that we looked at pulled a total of 1,200,000 comments over the course of 2020 from the 'funny' subreddit.  The comments were pulled along with their unique id, the author's name, the time it was created, the subreddit it was from, and the score it recieved.  \n",
    "The data was pulled month-by-month in an attempt to spread out our data collection in a way that would allow for some time series analyses, but as will be shown later in the notebook, this failed due to the way the API chooses the comments it selects which was not realized in time.  The pull requests also specified the scores to pull from in an attempt to balance the 'good' and 'bad' classes to an extent.  This may impact the model performance but there was a worry of severely undersampling the 'bad' class that outweighed this concern.  \n",
    "<br />\n",
    "\n",
    "I would also like to mention that when my original ideas didn't pan out as I wanted, I was inspired by Max Woolf's 'Predicting the Success of a Reddit Submission with Deep Learning and Keras' notebook.  Part of my original reason for including date information was due to this notebook, and in fact the model that will later be referred to as 'original' refers to the model in this notebook which was used as a point of comparison.\n",
    "\n",
    "<br />\n",
    "\n",
    "Pushshift API link: https://reddit-api.readthedocs.io/en/latest/  \n",
    "\n",
    "Max Woolf's Notebook: https://github.com/minimaxir/predict-reddit-submission-success/blob/master/predict_askreddit_submission_success_timing.ipynb"
   ]
  },
  {
   "cell_type": "markdown",
   "id": "6d7639f3",
   "metadata": {},
   "source": [
    "## Gathering the data"
   ]
  },
  {
   "cell_type": "markdown",
   "id": "9374dad3",
   "metadata": {},
   "source": [
    "Here we set up the timestamps, month-by-month covering 2020."
   ]
  },
  {
   "cell_type": "code",
   "execution_count": null,
   "id": "18fde84e",
   "metadata": {},
   "outputs": [],
   "source": [
    "# #Init the timestamps (start and end) for consideration\n",
    "# stimes = [int(dt.datetime(2020, 1, 1).timestamp()), int(dt.datetime(2020, 2, 1).timestamp()),\n",
    "#          int(dt.datetime(2020, 3, 1).timestamp()), int(dt.datetime(2020, 4, 1).timestamp()),\n",
    "#          int(dt.datetime(2020, 5, 1).timestamp()), int(dt.datetime(2020, 6, 1).timestamp()),\n",
    "#          int(dt.datetime(2020, 7, 1).timestamp()), int(dt.datetime(2020, 8, 1).timestamp()),\n",
    "#          int(dt.datetime(2020, 9, 1).timestamp()), int(dt.datetime(2020, 10, 1).timestamp()),\n",
    "#          int(dt.datetime(2020, 11, 1).timestamp()), int(dt.datetime(2020, 12, 1).timestamp())]\n",
    "\n",
    "# etimes = [int(dt.datetime(2020, 1, 31).timestamp()), int(dt.datetime(2020, 2, 29).timestamp())\n",
    "#          int(dt.datetime(2020, 3, 31).timestamp()), int(dt.datetime(2020, 4, 30).timestamp())\n",
    "#          int(dt.datetime(2020, 5, 31).timestamp()), int(dt.datetime(2020, 6, 30).timestamp()),\n",
    "#          int(dt.datetime(2020, 7, 31).timestamp()), int(dt.datetime(2020, 8, 31).timestamp()),\n",
    "#          int(dt.datetime(2020, 9, 30).timestamp()), int(dt.datetime(2020, 10, 31).timestamp()),\n",
    "#          int(dt.datetime(2020, 11, 30).timestamp()), int(dt.datetime(2020, 12, 31).timestamp())]"
   ]
  },
  {
   "cell_type": "markdown",
   "id": "ca38696d",
   "metadata": {},
   "source": [
    "Here we set up the Pushshift API retreival function we use which specifies the details we pull out of the comments that we pull as well as defining which comments we pull from in general."
   ]
  },
  {
   "cell_type": "code",
   "execution_count": null,
   "id": "a12b9002",
   "metadata": {},
   "outputs": [],
   "source": [
    "# #prep the Pushshift API retreival function\n",
    "# api = PushshiftAPI()\n",
    "# def data_prep_comments(subr, start_time, end_time, filters, limit, scorestr):\n",
    "#     if (len(filters) == 0):\n",
    "#         filters = ['id', 'author', 'created_utc', 'body', 'subreddit', 'score']\n",
    "#                    #We set by default some usefull columns \n",
    "\n",
    "#     comments = list(api.search_comments(\n",
    "#         subreddit = subr,       #Subreddit we want to audit\n",
    "#         after=start_time,       #Start date\n",
    "#         before=end_time,        #End date\n",
    "#         filter=filters,         #Column names we want to retrieve\n",
    "#         score = scorestr,         #set score limits\n",
    "#         limit=limit))           #Max number of comments\n",
    "#     return pd.DataFrame(comments) #Return dataframe for analysis"
   ]
  },
  {
   "cell_type": "markdown",
   "id": "1b196964",
   "metadata": {},
   "source": [
    "Our actual pulls are commented out below showing how the data was stored initially.  There are three cells, each showing one of the score requirements we set in an attempt to balance our dataset.  Most comments have a score of 1 so the 'bad' class was split in half, half of which required the score to be below 1."
   ]
  },
  {
   "cell_type": "code",
   "execution_count": null,
   "id": "10a37ea0",
   "metadata": {},
   "outputs": [],
   "source": [
    "# sOI_list = ['funny'] #had more than just 'funny' before, narrowed down to this\n",
    "# filters = [] #keep all features defaulted for now\n",
    "# limit = 50000 #max num. comments to retrieve for scorestr > 1 \n",
    "# for sOI in sOI_list:\n",
    "#     print(f\"Starting {sOI} Reading\")\n",
    "#     for i in range(len(stimes)):\n",
    "#         print(f\"Doing {dt.date.fromtimestamp(stimes[i])} to {dt.date.fromtimestamp(etimes[i])}\")\n",
    "#         testdf = data_prep_comments(sOI, stimes[i], etimes[i], filters, limit, scorestr = '>1')\n",
    "#         testdf.to_csv(f\"Comment_Data_Raw/{dt.date.fromtimestamp(stimes[i]).month}_over1_{sOI}_comments_numof_{limit}_{stimes[i]}_to_{etimes[i]}.csv\", index = False) #save"
   ]
  },
  {
   "cell_type": "code",
   "execution_count": null,
   "id": "cb108990",
   "metadata": {},
   "outputs": [],
   "source": [
    "# sOI_list = ['funny']\n",
    "# filters = [] #keep all features for now\n",
    "# limit = 25000 #max num. comments to retrieve for scorestr = 1\n",
    "# for sOI in sOI_list:\n",
    "#     print(f\"Starting {sOI} Reading\")\n",
    "#     for i in range(len(stimes)):\n",
    "#         print(f\"Doing {dt.date.fromtimestamp(stimes[i])} to {dt.date.fromtimestamp(etimes[i])}\")\n",
    "#         testdf = data_prep_comments(sOI, stimes[i], etimes[i], filters, limit, scorestr = '=1')\n",
    "#         testdf.to_csv(f\"Comment_Data_Raw/{dt.date.fromtimestamp(stimes[i]).month}_equal1_{sOI}_comments_numof_{limit}_{stimes[i]}_to_{etimes[i]}.csv\", index = False) #save"
   ]
  },
  {
   "cell_type": "code",
   "execution_count": null,
   "id": "5d9f65f2",
   "metadata": {},
   "outputs": [],
   "source": [
    "# sOI_list = ['funny']\n",
    "# filters = [] #keep all features for now\n",
    "# limit = 25000 #max num. comments to retrieve for scorestr < 1\n",
    "# for sOI in sOI_list:\n",
    "#     print(f\"Starting {sOI} Reading\")\n",
    "#     for i in range(len(stimes)):\n",
    "#         print(f\"Doing {dt.date.fromtimestamp(stimes[i])} to {dt.date.fromtimestamp(etimes[i])}\")\n",
    "#         testdf = data_prep_comments(sOI, stimes[i], etimes[i], filters, limit, scorestr = '<1')\n",
    "#         testdf.to_csv(f\"Comment_Data_Raw/{dt.date.fromtimestamp(stimes[i]).month}_under1_{sOI}_comments_numof_{limit}_{stimes[i]}_to_{etimes[i]}.csv\", index = False) #save"
   ]
  },
  {
   "cell_type": "code",
   "execution_count": 65,
   "id": "caa959b1",
   "metadata": {},
   "outputs": [],
   "source": [
    "#Already saved my 2020 data, read it in here\n",
    "df = pd.read_csv(\"funny_2020_cleaned.csv\")"
   ]
  },
  {
   "cell_type": "code",
   "execution_count": 66,
   "id": "99de8d66",
   "metadata": {},
   "outputs": [
    {
     "data": {
      "text/html": [
       "<div>\n",
       "<style scoped>\n",
       "    .dataframe tbody tr th:only-of-type {\n",
       "        vertical-align: middle;\n",
       "    }\n",
       "\n",
       "    .dataframe tbody tr th {\n",
       "        vertical-align: top;\n",
       "    }\n",
       "\n",
       "    .dataframe thead th {\n",
       "        text-align: right;\n",
       "    }\n",
       "</style>\n",
       "<table border=\"1\" class=\"dataframe\">\n",
       "  <thead>\n",
       "    <tr style=\"text-align: right;\">\n",
       "      <th></th>\n",
       "      <th>author</th>\n",
       "      <th>body</th>\n",
       "      <th>created_utc</th>\n",
       "      <th>id</th>\n",
       "      <th>score</th>\n",
       "      <th>subreddit</th>\n",
       "      <th>Date</th>\n",
       "      <th>BinaryBucket</th>\n",
       "      <th>Hour</th>\n",
       "      <th>Weekday</th>\n",
       "      <th>Day_of_Year</th>\n",
       "      <th>cComment</th>\n",
       "      <th>BodyLen</th>\n",
       "      <th>BodySubjectivity</th>\n",
       "      <th>BodyPolarity</th>\n",
       "      <th>SubjectivityBucket</th>\n",
       "      <th>PolarityBucket</th>\n",
       "      <th>ScaledBodyLen</th>\n",
       "      <th>LengthBucket</th>\n",
       "    </tr>\n",
       "  </thead>\n",
       "  <tbody>\n",
       "    <tr>\n",
       "      <th>0</th>\n",
       "      <td>EggyRepublic</td>\n",
       "      <td>I never seen virus in plural form</td>\n",
       "      <td>1580449087</td>\n",
       "      <td>fg2nlhr</td>\n",
       "      <td>2</td>\n",
       "      <td>funny</td>\n",
       "      <td>2020-01-30</td>\n",
       "      <td>1</td>\n",
       "      <td>23</td>\n",
       "      <td>3</td>\n",
       "      <td>30</td>\n",
       "      <td>never seen virus plural form</td>\n",
       "      <td>7</td>\n",
       "      <td>0.000000</td>\n",
       "      <td>0.000000</td>\n",
       "      <td>0</td>\n",
       "      <td>1</td>\n",
       "      <td>0.003504</td>\n",
       "      <td>0</td>\n",
       "    </tr>\n",
       "    <tr>\n",
       "      <th>1</th>\n",
       "      <td>acog</td>\n",
       "      <td>That stuff is incredible, but I don't get how ...</td>\n",
       "      <td>1580449045</td>\n",
       "      <td>fg2njux</td>\n",
       "      <td>3</td>\n",
       "      <td>funny</td>\n",
       "      <td>2020-01-30</td>\n",
       "      <td>1</td>\n",
       "      <td>23</td>\n",
       "      <td>3</td>\n",
       "      <td>30</td>\n",
       "      <td>stuff incredible dont get everyone describing ...</td>\n",
       "      <td>109</td>\n",
       "      <td>0.700000</td>\n",
       "      <td>0.480000</td>\n",
       "      <td>2</td>\n",
       "      <td>1</td>\n",
       "      <td>0.054555</td>\n",
       "      <td>3</td>\n",
       "    </tr>\n",
       "    <tr>\n",
       "      <th>2</th>\n",
       "      <td>MWGLITCH</td>\n",
       "      <td>We're butt buddies!</td>\n",
       "      <td>1580449036</td>\n",
       "      <td>fg2njj2</td>\n",
       "      <td>2</td>\n",
       "      <td>funny</td>\n",
       "      <td>2020-01-30</td>\n",
       "      <td>1</td>\n",
       "      <td>23</td>\n",
       "      <td>3</td>\n",
       "      <td>30</td>\n",
       "      <td>butt buddy</td>\n",
       "      <td>3</td>\n",
       "      <td>0.000000</td>\n",
       "      <td>0.000000</td>\n",
       "      <td>0</td>\n",
       "      <td>1</td>\n",
       "      <td>0.001502</td>\n",
       "      <td>0</td>\n",
       "    </tr>\n",
       "    <tr>\n",
       "      <th>3</th>\n",
       "      <td>Lobenz</td>\n",
       "      <td>Have some silver.  This is sick shit.</td>\n",
       "      <td>1580448939</td>\n",
       "      <td>fg2nfme</td>\n",
       "      <td>2</td>\n",
       "      <td>funny</td>\n",
       "      <td>2020-01-30</td>\n",
       "      <td>1</td>\n",
       "      <td>23</td>\n",
       "      <td>3</td>\n",
       "      <td>30</td>\n",
       "      <td>silver sick shit</td>\n",
       "      <td>7</td>\n",
       "      <td>0.828571</td>\n",
       "      <td>-0.457143</td>\n",
       "      <td>2</td>\n",
       "      <td>1</td>\n",
       "      <td>0.003504</td>\n",
       "      <td>0</td>\n",
       "    </tr>\n",
       "    <tr>\n",
       "      <th>4</th>\n",
       "      <td>AlysonWonderland7</td>\n",
       "      <td>He probably does the same thing to blow up dol...</td>\n",
       "      <td>1580448855</td>\n",
       "      <td>fg2ncac</td>\n",
       "      <td>2</td>\n",
       "      <td>funny</td>\n",
       "      <td>2020-01-30</td>\n",
       "      <td>1</td>\n",
       "      <td>23</td>\n",
       "      <td>3</td>\n",
       "      <td>30</td>\n",
       "      <td>probably thing blow doll teach girlfriend look...</td>\n",
       "      <td>24</td>\n",
       "      <td>0.512500</td>\n",
       "      <td>0.050000</td>\n",
       "      <td>1</td>\n",
       "      <td>1</td>\n",
       "      <td>0.012012</td>\n",
       "      <td>1</td>\n",
       "    </tr>\n",
       "  </tbody>\n",
       "</table>\n",
       "</div>"
      ],
      "text/plain": [
       "              author                                               body  \\\n",
       "0       EggyRepublic                  I never seen virus in plural form   \n",
       "1               acog  That stuff is incredible, but I don't get how ...   \n",
       "2           MWGLITCH                                We're butt buddies!   \n",
       "3             Lobenz              Have some silver.  This is sick shit.   \n",
       "4  AlysonWonderland7  He probably does the same thing to blow up dol...   \n",
       "\n",
       "   created_utc       id  score subreddit        Date  BinaryBucket  Hour  \\\n",
       "0   1580449087  fg2nlhr      2     funny  2020-01-30             1    23   \n",
       "1   1580449045  fg2njux      3     funny  2020-01-30             1    23   \n",
       "2   1580449036  fg2njj2      2     funny  2020-01-30             1    23   \n",
       "3   1580448939  fg2nfme      2     funny  2020-01-30             1    23   \n",
       "4   1580448855  fg2ncac      2     funny  2020-01-30             1    23   \n",
       "\n",
       "   Weekday  Day_of_Year                                           cComment  \\\n",
       "0        3           30                       never seen virus plural form   \n",
       "1        3           30  stuff incredible dont get everyone describing ...   \n",
       "2        3           30                                         butt buddy   \n",
       "3        3           30                                   silver sick shit   \n",
       "4        3           30  probably thing blow doll teach girlfriend look...   \n",
       "\n",
       "   BodyLen  BodySubjectivity  BodyPolarity  SubjectivityBucket  \\\n",
       "0        7          0.000000      0.000000                   0   \n",
       "1      109          0.700000      0.480000                   2   \n",
       "2        3          0.000000      0.000000                   0   \n",
       "3        7          0.828571     -0.457143                   2   \n",
       "4       24          0.512500      0.050000                   1   \n",
       "\n",
       "   PolarityBucket  ScaledBodyLen  LengthBucket  \n",
       "0               1       0.003504             0  \n",
       "1               1       0.054555             3  \n",
       "2               1       0.001502             0  \n",
       "3               1       0.003504             0  \n",
       "4               1       0.012012             1  "
      ]
     },
     "execution_count": 66,
     "metadata": {},
     "output_type": "execute_result"
    }
   ],
   "source": [
    "df.head()"
   ]
  },
  {
   "cell_type": "code",
   "execution_count": 69,
   "id": "75abd6de",
   "metadata": {},
   "outputs": [
    {
     "data": {
      "text/plain": [
       "(1054303, 19)"
      ]
     },
     "execution_count": 69,
     "metadata": {},
     "output_type": "execute_result"
    }
   ],
   "source": [
    "df.shape"
   ]
  },
  {
   "cell_type": "markdown",
   "id": "7e98f46c",
   "metadata": {},
   "source": [
    "## About the dataframe  \n",
    "Because it takes quite a while to do all this pulling the final output was concatenated and saved in to 'funny_2020_cleaned.csv' and read in above.  With that said, the process of how the raw data was transformed in to the above is listed below in the 'Cleaning the Data' section.  \n",
    "The full dataset is a (1054303, 19) dataframe.  \n",
    "The columns are listed blow:"
   ]
  },
  {
   "cell_type": "code",
   "execution_count": 70,
   "id": "d7d9d9fe",
   "metadata": {},
   "outputs": [
    {
     "data": {
      "text/plain": [
       "Index(['author', 'body', 'created_utc', 'id', 'score', 'subreddit', 'Date',\n",
       "       'BinaryBucket', 'Hour', 'Weekday', 'Day_of_Year', 'cComment', 'BodyLen',\n",
       "       'BodySubjectivity', 'BodyPolarity', 'SubjectivityBucket',\n",
       "       'PolarityBucket', 'ScaledBodyLen', 'LengthBucket'],\n",
       "      dtype='object')"
      ]
     },
     "execution_count": 70,
     "metadata": {},
     "output_type": "execute_result"
    }
   ],
   "source": [
    "df.columns"
   ]
  },
  {
   "cell_type": "code",
   "execution_count": 76,
   "id": "be6997d1",
   "metadata": {},
   "outputs": [
    {
     "data": {
      "text/html": [
       "<div>\n",
       "<style scoped>\n",
       "    .dataframe tbody tr th:only-of-type {\n",
       "        vertical-align: middle;\n",
       "    }\n",
       "\n",
       "    .dataframe tbody tr th {\n",
       "        vertical-align: top;\n",
       "    }\n",
       "\n",
       "    .dataframe thead th {\n",
       "        text-align: right;\n",
       "    }\n",
       "</style>\n",
       "<table border=\"1\" class=\"dataframe\">\n",
       "  <thead>\n",
       "    <tr style=\"text-align: right;\">\n",
       "      <th></th>\n",
       "      <th>created_utc</th>\n",
       "      <th>score</th>\n",
       "      <th>BinaryBucket</th>\n",
       "      <th>Hour</th>\n",
       "      <th>Weekday</th>\n",
       "      <th>Day_of_Year</th>\n",
       "      <th>BodyLen</th>\n",
       "      <th>BodySubjectivity</th>\n",
       "      <th>BodyPolarity</th>\n",
       "      <th>SubjectivityBucket</th>\n",
       "      <th>PolarityBucket</th>\n",
       "      <th>ScaledBodyLen</th>\n",
       "      <th>LengthBucket</th>\n",
       "    </tr>\n",
       "  </thead>\n",
       "  <tbody>\n",
       "    <tr>\n",
       "      <th>count</th>\n",
       "      <td>1.054303e+06</td>\n",
       "      <td>1.054303e+06</td>\n",
       "      <td>1.054303e+06</td>\n",
       "      <td>1.054303e+06</td>\n",
       "      <td>1.054303e+06</td>\n",
       "      <td>1.054303e+06</td>\n",
       "      <td>1.054303e+06</td>\n",
       "      <td>1.054303e+06</td>\n",
       "      <td>1.054303e+06</td>\n",
       "      <td>1.054303e+06</td>\n",
       "      <td>1.054303e+06</td>\n",
       "      <td>1.054303e+06</td>\n",
       "      <td>1.054303e+06</td>\n",
       "    </tr>\n",
       "    <tr>\n",
       "      <th>mean</th>\n",
       "      <td>1.594309e+09</td>\n",
       "      <td>4.773615e+00</td>\n",
       "      <td>5.604964e-01</td>\n",
       "      <td>1.473739e+01</td>\n",
       "      <td>2.923292e+00</td>\n",
       "      <td>1.907906e+02</td>\n",
       "      <td>1.816756e+01</td>\n",
       "      <td>3.582868e-01</td>\n",
       "      <td>6.534682e-02</td>\n",
       "      <td>7.173554e-01</td>\n",
       "      <td>1.022833e+00</td>\n",
       "      <td>9.092874e-03</td>\n",
       "      <td>8.597215e-01</td>\n",
       "    </tr>\n",
       "    <tr>\n",
       "      <th>std</th>\n",
       "      <td>9.215150e+06</td>\n",
       "      <td>6.091513e+01</td>\n",
       "      <td>4.963269e-01</td>\n",
       "      <td>5.730814e+00</td>\n",
       "      <td>2.056337e+00</td>\n",
       "      <td>1.066715e+02</td>\n",
       "      <td>2.844677e+01</td>\n",
       "      <td>3.345153e-01</td>\n",
       "      <td>2.859555e-01</td>\n",
       "      <td>7.906259e-01</td>\n",
       "      <td>3.198381e-01</td>\n",
       "      <td>1.423762e-02</td>\n",
       "      <td>9.482511e-01</td>\n",
       "    </tr>\n",
       "    <tr>\n",
       "      <th>min</th>\n",
       "      <td>1.578191e+09</td>\n",
       "      <td>-7.210000e+02</td>\n",
       "      <td>0.000000e+00</td>\n",
       "      <td>0.000000e+00</td>\n",
       "      <td>0.000000e+00</td>\n",
       "      <td>4.000000e+00</td>\n",
       "      <td>0.000000e+00</td>\n",
       "      <td>0.000000e+00</td>\n",
       "      <td>-1.000000e+00</td>\n",
       "      <td>0.000000e+00</td>\n",
       "      <td>0.000000e+00</td>\n",
       "      <td>0.000000e+00</td>\n",
       "      <td>0.000000e+00</td>\n",
       "    </tr>\n",
       "    <tr>\n",
       "      <th>25%</th>\n",
       "      <td>1.586825e+09</td>\n",
       "      <td>0.000000e+00</td>\n",
       "      <td>0.000000e+00</td>\n",
       "      <td>1.200000e+01</td>\n",
       "      <td>1.000000e+00</td>\n",
       "      <td>1.040000e+02</td>\n",
       "      <td>5.000000e+00</td>\n",
       "      <td>0.000000e+00</td>\n",
       "      <td>0.000000e+00</td>\n",
       "      <td>0.000000e+00</td>\n",
       "      <td>1.000000e+00</td>\n",
       "      <td>2.502503e-03</td>\n",
       "      <td>0.000000e+00</td>\n",
       "    </tr>\n",
       "    <tr>\n",
       "      <th>50%</th>\n",
       "      <td>1.595254e+09</td>\n",
       "      <td>2.000000e+00</td>\n",
       "      <td>1.000000e+00</td>\n",
       "      <td>1.600000e+01</td>\n",
       "      <td>3.000000e+00</td>\n",
       "      <td>2.020000e+02</td>\n",
       "      <td>1.000000e+01</td>\n",
       "      <td>3.666667e-01</td>\n",
       "      <td>0.000000e+00</td>\n",
       "      <td>1.000000e+00</td>\n",
       "      <td>1.000000e+00</td>\n",
       "      <td>5.005005e-03</td>\n",
       "      <td>1.000000e+00</td>\n",
       "    </tr>\n",
       "    <tr>\n",
       "      <th>75%</th>\n",
       "      <td>1.602175e+09</td>\n",
       "      <td>3.000000e+00</td>\n",
       "      <td>1.000000e+00</td>\n",
       "      <td>1.900000e+01</td>\n",
       "      <td>5.000000e+00</td>\n",
       "      <td>2.820000e+02</td>\n",
       "      <td>2.000000e+01</td>\n",
       "      <td>6.000000e-01</td>\n",
       "      <td>1.954545e-01</td>\n",
       "      <td>1.000000e+00</td>\n",
       "      <td>1.000000e+00</td>\n",
       "      <td>1.001001e-02</td>\n",
       "      <td>1.000000e+00</td>\n",
       "    </tr>\n",
       "    <tr>\n",
       "      <th>max</th>\n",
       "      <td>1.609394e+09</td>\n",
       "      <td>1.881800e+04</td>\n",
       "      <td>1.000000e+00</td>\n",
       "      <td>2.300000e+01</td>\n",
       "      <td>6.000000e+00</td>\n",
       "      <td>3.650000e+02</td>\n",
       "      <td>1.998000e+03</td>\n",
       "      <td>1.000000e+00</td>\n",
       "      <td>1.000000e+00</td>\n",
       "      <td>2.000000e+00</td>\n",
       "      <td>2.000000e+00</td>\n",
       "      <td>1.000000e+00</td>\n",
       "      <td>3.000000e+00</td>\n",
       "    </tr>\n",
       "  </tbody>\n",
       "</table>\n",
       "</div>"
      ],
      "text/plain": [
       "        created_utc         score  BinaryBucket          Hour       Weekday  \\\n",
       "count  1.054303e+06  1.054303e+06  1.054303e+06  1.054303e+06  1.054303e+06   \n",
       "mean   1.594309e+09  4.773615e+00  5.604964e-01  1.473739e+01  2.923292e+00   \n",
       "std    9.215150e+06  6.091513e+01  4.963269e-01  5.730814e+00  2.056337e+00   \n",
       "min    1.578191e+09 -7.210000e+02  0.000000e+00  0.000000e+00  0.000000e+00   \n",
       "25%    1.586825e+09  0.000000e+00  0.000000e+00  1.200000e+01  1.000000e+00   \n",
       "50%    1.595254e+09  2.000000e+00  1.000000e+00  1.600000e+01  3.000000e+00   \n",
       "75%    1.602175e+09  3.000000e+00  1.000000e+00  1.900000e+01  5.000000e+00   \n",
       "max    1.609394e+09  1.881800e+04  1.000000e+00  2.300000e+01  6.000000e+00   \n",
       "\n",
       "        Day_of_Year       BodyLen  BodySubjectivity  BodyPolarity  \\\n",
       "count  1.054303e+06  1.054303e+06      1.054303e+06  1.054303e+06   \n",
       "mean   1.907906e+02  1.816756e+01      3.582868e-01  6.534682e-02   \n",
       "std    1.066715e+02  2.844677e+01      3.345153e-01  2.859555e-01   \n",
       "min    4.000000e+00  0.000000e+00      0.000000e+00 -1.000000e+00   \n",
       "25%    1.040000e+02  5.000000e+00      0.000000e+00  0.000000e+00   \n",
       "50%    2.020000e+02  1.000000e+01      3.666667e-01  0.000000e+00   \n",
       "75%    2.820000e+02  2.000000e+01      6.000000e-01  1.954545e-01   \n",
       "max    3.650000e+02  1.998000e+03      1.000000e+00  1.000000e+00   \n",
       "\n",
       "       SubjectivityBucket  PolarityBucket  ScaledBodyLen  LengthBucket  \n",
       "count        1.054303e+06    1.054303e+06   1.054303e+06  1.054303e+06  \n",
       "mean         7.173554e-01    1.022833e+00   9.092874e-03  8.597215e-01  \n",
       "std          7.906259e-01    3.198381e-01   1.423762e-02  9.482511e-01  \n",
       "min          0.000000e+00    0.000000e+00   0.000000e+00  0.000000e+00  \n",
       "25%          0.000000e+00    1.000000e+00   2.502503e-03  0.000000e+00  \n",
       "50%          1.000000e+00    1.000000e+00   5.005005e-03  1.000000e+00  \n",
       "75%          1.000000e+00    1.000000e+00   1.001001e-02  1.000000e+00  \n",
       "max          2.000000e+00    2.000000e+00   1.000000e+00  3.000000e+00  "
      ]
     },
     "execution_count": 76,
     "metadata": {},
     "output_type": "execute_result"
    }
   ],
   "source": [
    "df.describe()"
   ]
  },
  {
   "cell_type": "markdown",
   "id": "16c66ff4",
   "metadata": {},
   "source": [
    "While there were many features, only a few were used in our analysis below.  Here are some statistics for these features."
   ]
  },
  {
   "cell_type": "code",
   "execution_count": 79,
   "id": "8695a298",
   "metadata": {},
   "outputs": [
    {
     "data": {
      "text/html": [
       "<div>\n",
       "<style scoped>\n",
       "    .dataframe tbody tr th:only-of-type {\n",
       "        vertical-align: middle;\n",
       "    }\n",
       "\n",
       "    .dataframe tbody tr th {\n",
       "        vertical-align: top;\n",
       "    }\n",
       "\n",
       "    .dataframe thead th {\n",
       "        text-align: right;\n",
       "    }\n",
       "</style>\n",
       "<table border=\"1\" class=\"dataframe\">\n",
       "  <thead>\n",
       "    <tr style=\"text-align: right;\">\n",
       "      <th></th>\n",
       "      <th>score</th>\n",
       "      <th>BinaryBucket</th>\n",
       "      <th>SubjectivityBucket</th>\n",
       "      <th>PolarityBucket</th>\n",
       "      <th>LengthBucket</th>\n",
       "      <th>Hour</th>\n",
       "      <th>Weekday</th>\n",
       "      <th>Day_of_Year</th>\n",
       "    </tr>\n",
       "  </thead>\n",
       "  <tbody>\n",
       "    <tr>\n",
       "      <th>count</th>\n",
       "      <td>1.054303e+06</td>\n",
       "      <td>1.054303e+06</td>\n",
       "      <td>1.054303e+06</td>\n",
       "      <td>1.054303e+06</td>\n",
       "      <td>1.054303e+06</td>\n",
       "      <td>1.054303e+06</td>\n",
       "      <td>1.054303e+06</td>\n",
       "      <td>1.054303e+06</td>\n",
       "    </tr>\n",
       "    <tr>\n",
       "      <th>mean</th>\n",
       "      <td>4.773615e+00</td>\n",
       "      <td>5.604964e-01</td>\n",
       "      <td>7.173554e-01</td>\n",
       "      <td>1.022833e+00</td>\n",
       "      <td>8.597215e-01</td>\n",
       "      <td>1.473739e+01</td>\n",
       "      <td>2.923292e+00</td>\n",
       "      <td>1.907906e+02</td>\n",
       "    </tr>\n",
       "    <tr>\n",
       "      <th>std</th>\n",
       "      <td>6.091513e+01</td>\n",
       "      <td>4.963269e-01</td>\n",
       "      <td>7.906259e-01</td>\n",
       "      <td>3.198381e-01</td>\n",
       "      <td>9.482511e-01</td>\n",
       "      <td>5.730814e+00</td>\n",
       "      <td>2.056337e+00</td>\n",
       "      <td>1.066715e+02</td>\n",
       "    </tr>\n",
       "    <tr>\n",
       "      <th>min</th>\n",
       "      <td>-7.210000e+02</td>\n",
       "      <td>0.000000e+00</td>\n",
       "      <td>0.000000e+00</td>\n",
       "      <td>0.000000e+00</td>\n",
       "      <td>0.000000e+00</td>\n",
       "      <td>0.000000e+00</td>\n",
       "      <td>0.000000e+00</td>\n",
       "      <td>4.000000e+00</td>\n",
       "    </tr>\n",
       "    <tr>\n",
       "      <th>25%</th>\n",
       "      <td>0.000000e+00</td>\n",
       "      <td>0.000000e+00</td>\n",
       "      <td>0.000000e+00</td>\n",
       "      <td>1.000000e+00</td>\n",
       "      <td>0.000000e+00</td>\n",
       "      <td>1.200000e+01</td>\n",
       "      <td>1.000000e+00</td>\n",
       "      <td>1.040000e+02</td>\n",
       "    </tr>\n",
       "    <tr>\n",
       "      <th>50%</th>\n",
       "      <td>2.000000e+00</td>\n",
       "      <td>1.000000e+00</td>\n",
       "      <td>1.000000e+00</td>\n",
       "      <td>1.000000e+00</td>\n",
       "      <td>1.000000e+00</td>\n",
       "      <td>1.600000e+01</td>\n",
       "      <td>3.000000e+00</td>\n",
       "      <td>2.020000e+02</td>\n",
       "    </tr>\n",
       "    <tr>\n",
       "      <th>75%</th>\n",
       "      <td>3.000000e+00</td>\n",
       "      <td>1.000000e+00</td>\n",
       "      <td>1.000000e+00</td>\n",
       "      <td>1.000000e+00</td>\n",
       "      <td>1.000000e+00</td>\n",
       "      <td>1.900000e+01</td>\n",
       "      <td>5.000000e+00</td>\n",
       "      <td>2.820000e+02</td>\n",
       "    </tr>\n",
       "    <tr>\n",
       "      <th>max</th>\n",
       "      <td>1.881800e+04</td>\n",
       "      <td>1.000000e+00</td>\n",
       "      <td>2.000000e+00</td>\n",
       "      <td>2.000000e+00</td>\n",
       "      <td>3.000000e+00</td>\n",
       "      <td>2.300000e+01</td>\n",
       "      <td>6.000000e+00</td>\n",
       "      <td>3.650000e+02</td>\n",
       "    </tr>\n",
       "  </tbody>\n",
       "</table>\n",
       "</div>"
      ],
      "text/plain": [
       "              score  BinaryBucket  SubjectivityBucket  PolarityBucket  \\\n",
       "count  1.054303e+06  1.054303e+06        1.054303e+06    1.054303e+06   \n",
       "mean   4.773615e+00  5.604964e-01        7.173554e-01    1.022833e+00   \n",
       "std    6.091513e+01  4.963269e-01        7.906259e-01    3.198381e-01   \n",
       "min   -7.210000e+02  0.000000e+00        0.000000e+00    0.000000e+00   \n",
       "25%    0.000000e+00  0.000000e+00        0.000000e+00    1.000000e+00   \n",
       "50%    2.000000e+00  1.000000e+00        1.000000e+00    1.000000e+00   \n",
       "75%    3.000000e+00  1.000000e+00        1.000000e+00    1.000000e+00   \n",
       "max    1.881800e+04  1.000000e+00        2.000000e+00    2.000000e+00   \n",
       "\n",
       "       LengthBucket          Hour       Weekday   Day_of_Year  \n",
       "count  1.054303e+06  1.054303e+06  1.054303e+06  1.054303e+06  \n",
       "mean   8.597215e-01  1.473739e+01  2.923292e+00  1.907906e+02  \n",
       "std    9.482511e-01  5.730814e+00  2.056337e+00  1.066715e+02  \n",
       "min    0.000000e+00  0.000000e+00  0.000000e+00  4.000000e+00  \n",
       "25%    0.000000e+00  1.200000e+01  1.000000e+00  1.040000e+02  \n",
       "50%    1.000000e+00  1.600000e+01  3.000000e+00  2.020000e+02  \n",
       "75%    1.000000e+00  1.900000e+01  5.000000e+00  2.820000e+02  \n",
       "max    3.000000e+00  2.300000e+01  6.000000e+00  3.650000e+02  "
      ]
     },
     "execution_count": 79,
     "metadata": {},
     "output_type": "execute_result"
    }
   ],
   "source": [
    "df[['score', 'BinaryBucket', 'SubjectivityBucket', 'PolarityBucket', 'LengthBucket',\n",
    "   'Hour', 'Weekday', 'Day_of_Year']].describe()"
   ]
  },
  {
   "cell_type": "markdown",
   "id": "9ccfcd9f",
   "metadata": {},
   "source": [
    "## Cleaning the Data  \n",
    "#### (Note that the text embeddings happen later, in the 'Modeling' section)"
   ]
  },
  {
   "cell_type": "markdown",
   "id": "678a21e0",
   "metadata": {},
   "source": [
    "This function takes the dataframe, removes 'AutoMod', 'deleted', and 'removed' posts as well as any duplicates that may have been pulled before it adds the 'Date', 'Hour', 'Weekday', 'Day_of_Year', and 'BinaryBucket' columns and dropping the 'created' and 'd_' columns which we will not need again.  \n",
    "The BinaryBucket column is our target variable for this project which has a 1 if the score for a given comment has a score over one ('good') and a 0 if it is less than or equal to 1 ('bad')  "
   ]
  },
  {
   "cell_type": "code",
   "execution_count": 6,
   "id": "ab336e1f",
   "metadata": {},
   "outputs": [],
   "source": [
    "def clean_up_df(df):\n",
    "    df = df[df.author != 'AutoModerator'] #get rid of automod posts\n",
    "    df.drop_duplicates(inplace = True) #there will be duplicates from the way we got our data, must remove them\n",
    "    df = df[(df['body'] != \"[deleted]\") & (df['body'] != '[removed]')] #remove [deleted] comments and [removed] comments\n",
    "    df['Date'] = df.created_utc.apply(dt.date.fromtimestamp) #get a 'date' column for easier reading.  \n",
    "    df.drop(labels = ['created', 'd_'], axis = 1, inplace = True) #drop two that we won't be using\n",
    "    df['BinaryBucket'] = np.where(df.score>1, 1, 0) #when score >1, it's a 1, else it's a 0\n",
    "    \n",
    "    df['Hour'] = df.created_utc.apply(lambda x: dt.datetime.fromtimestamp(x).hour) #get the hour column\n",
    "    df['Weekday'] = df.created_utc.apply(dt.date.fromtimestamp).apply(dt.date.weekday) #get the day of week column\n",
    "    df['Day_of_Year'] = df.Date.apply(lambda x: dt.date.timetuple(x).tm_yday) #get the day of year column\n",
    "    \n",
    "    \n",
    "    df.reset_index(drop = True, inplace = True) #reset index since we did a lot of moving things around\n",
    "    return df"
   ]
  },
  {
   "cell_type": "markdown",
   "id": "9a42689b",
   "metadata": {},
   "source": [
    "This cell initializes a lemmatizer then does some basic text preprocessing including removing whitespace, lowercasing, removing stopwords, etc."
   ]
  },
  {
   "cell_type": "code",
   "execution_count": 7,
   "id": "31d180fe",
   "metadata": {},
   "outputs": [],
   "source": [
    "#basic text preprocessor\n",
    "lemmatizer = WordNetLemmatizer()\n",
    "def text_preproc(row):\n",
    "    text = str(row['body'])\n",
    "    text = text.encode('ascii', errors = 'ignore').decode() #remove non-ascii characters\n",
    "    text = re.sub(r'\\d+', '', text) #remove numbers\n",
    "    text = text.lower() #set to lowercase\n",
    "    text = text.strip() #remove whitespace\n",
    "    text = re.sub(r'[:\"#$%&\\*+,-/:;<=>@\\\\^_`{|}~.\\'!?]+','',text) #remove all punctuation \n",
    "    text = re.sub(r'(https|http)?:\\/\\/(\\w|\\.|\\/|\\?|\\=|\\&|\\%)*\\b', '', text, flags=re.MULTILINE) #remove URLs\n",
    "    \n",
    "    stops = set(stopwords.words('english')) #set of stopwords to compare to\n",
    "    #following line does quite a bit.  takes words from text, and if they are longer than 1 character and not a stop word then they join them back together\n",
    "    #using the lemmatized versions of the words in to a new string\n",
    "    text = \" \".join([lemmatizer.lemmatize(word) for word in text.split() if (word not in stops) and len(word) > 1])\n",
    "    \n",
    "    return text"
   ]
  },
  {
   "cell_type": "markdown",
   "id": "d07c6fb8",
   "metadata": {},
   "source": [
    "This cell removed any comments which got 'completely cleaned away'."
   ]
  },
  {
   "cell_type": "code",
   "execution_count": 8,
   "id": "f66fedf4",
   "metadata": {},
   "outputs": [],
   "source": [
    "# df['cComment'] = df.apply(text_preproc, axis = 1)\n",
    "# df = df[~df.cComment.apply(lambda x: len(x.split()) == 0)]\n",
    "# df.reset_index(inplace = True)"
   ]
  },
  {
   "cell_type": "markdown",
   "id": "ec5a5942",
   "metadata": {},
   "source": [
    "Here we have a basic function which counts the number of words in a given row.  It returned an error if the cell was, say, blank.  These errors were removed before moving on."
   ]
  },
  {
   "cell_type": "code",
   "execution_count": 9,
   "id": "13573c2c",
   "metadata": {},
   "outputs": [],
   "source": [
    "def find_num_words(txt):\n",
    "    try:\n",
    "        return(len(re.findall(r'[A-Za-z\\']+(?:\\`[A-Za-z]+)?', txt)))\n",
    "    except:\n",
    "        return(f\"Error\")"
   ]
  },
  {
   "cell_type": "code",
   "execution_count": 10,
   "id": "ca0505ac",
   "metadata": {},
   "outputs": [],
   "source": [
    "# df['BodyLen'] = df.body.apply(find_num_words)\n",
    "# df[df.BodyLen == 'Error'] #remove those posts which had no body length. \n",
    "# could move above line to clean_up_df() but this is just to show how I did it, would move in the future."
   ]
  },
  {
   "cell_type": "markdown",
   "id": "8a18da0a",
   "metadata": {},
   "source": [
    "Here we used Textblob to create a 'Subjectivity' and 'Polarity' column within our dataframe, based upon the full text column.  This was inspired by the fact that part of my original project included some sentiment analysis.  While it was too time consuming to do a thorough sentiment analysis in addition to the other work for this project, this was brought in to see if it could have any impact as a feature in leiu of a true sentiment analysis."
   ]
  },
  {
   "cell_type": "code",
   "execution_count": 11,
   "id": "2b025de2",
   "metadata": {},
   "outputs": [],
   "source": [
    "def getSubjectivity(text):\n",
    "    return TextBlob(text).sentiment.subjectivity\n",
    "def getPolarity(text):\n",
    "    return TextBlob(text).sentiment.polarity"
   ]
  },
  {
   "cell_type": "code",
   "execution_count": null,
   "id": "98e838d4",
   "metadata": {},
   "outputs": [],
   "source": [
    "# df['BodySubjectivity'] = df.body.apply(getSubjectivity)\n",
    "# df['BodyPolarity'] = df.body.apply(getPolarity)"
   ]
  },
  {
   "cell_type": "markdown",
   "id": "544bae33",
   "metadata": {},
   "source": [
    "Here we transformed some features from continuous variables in to categorical variables so as to use them in our models.  The bins were chosen for the subjectivity and polarity based on the fact that they were probabilistic in the first place, leaving only the 'more sure' sides alone and setting the middle ground to a neutral state.  The bins for the length buckets were chosen based on quantiles which are shown in more detail later."
   ]
  },
  {
   "cell_type": "code",
   "execution_count": 12,
   "id": "77dabe39",
   "metadata": {},
   "outputs": [],
   "source": [
    "subj_cut_labels = [0, 1, 2] #0 for objective, 1 for neutral, 2 for subjective\n",
    "subj_cut_bins = [0, 0.35, 0.65, 1]\n",
    "\n",
    "polar_cut_labels = [0, 1, 2] #0 for negative, 1 for neutral, 2 for positive\n",
    "polar_cut_bins = [-1, -0.5, 0.5, 1]\n",
    "\n",
    "len_cut_labels = [0, 1, 2, 3] #0 for shorter, 1 for average, 2 for longer, 3 for super long.  must be 1-hot-encoded in layers later\n",
    "len_cut_bins = [0, 0.004005, 0.01201202, 0.02002003, 1] #could just do a qcut here but keep as-is in case we change later"
   ]
  },
  {
   "cell_type": "code",
   "execution_count": 30,
   "id": "e1b1ee1d",
   "metadata": {},
   "outputs": [],
   "source": [
    "# scaler = MinMaxScaler()\n",
    "# df['ScaledBodyLen'] = scaler.fit_transform(df[['BodyLen']])"
   ]
  },
  {
   "cell_type": "code",
   "execution_count": 31,
   "id": "c35c9786",
   "metadata": {},
   "outputs": [],
   "source": [
    "# df['SubjectivityBucket'] = pd.cut(df.BodySubjectivity, subj_cut_bins, labels = subj_cut_labels, include_lowest = True)\n",
    "# df['PolarityBucket'] = pd.cut(df.BodyPolarity, polar_cut_bins, labels = polar_cut_labels, include_lowest = True)\n",
    "# df['LengthBucket'] = pd.cut(df.ScaledBodyLen, len_cut_bins, labels = len_cut_labels, include_lowest = True) #remember these must be 1-hot encoded later"
   ]
  },
  {
   "cell_type": "markdown",
   "id": "c6e6bdd8",
   "metadata": {},
   "source": [
    "## EDA 1\n",
    "#### Begin with smaller subset (Jan-Apr)  \n",
    "Part of what I wanted to assess in my original project was if trends in the short term applied to the long term, and if smaller subsections of data could be used for quick results that matched up with the results of many times the data.  This spirit was carried to this section of the notebook where I took one third of my full dataset and attempted to model.  These results will be compared to the final, full dataset results later."
   ]
  },
  {
   "cell_type": "code",
   "execution_count": 30,
   "id": "8ede027e",
   "metadata": {},
   "outputs": [],
   "source": [
    "#Select the smaller dataset\n",
    "janthruapr = df[(df['Date'].str.startswith('2020-01')) | (df['Date'].str.startswith('2020-02')) | \n",
    "   (df['Date'].str.startswith('2020-03')) | (df['Date'].str.startswith('2020-04'))]"
   ]
  },
  {
   "cell_type": "code",
   "execution_count": 31,
   "id": "0b3f9a7b",
   "metadata": {},
   "outputs": [],
   "source": [
    "#remove any errors\n",
    "# janthruapr = janthruapr[~janthruapr['cComment'].isnull()]\n",
    "# janthruapr.reset_index(inplace = True, drop = True)\n",
    "#notneeded now that we just pull from full df"
   ]
  },
  {
   "cell_type": "code",
   "execution_count": 33,
   "id": "e4b28fa0",
   "metadata": {},
   "outputs": [
    {
     "data": {
      "image/png": "[encoded data removed]",
      "text/plain": [
       "<Figure size 360x360 with 1 Axes>"
      ]
     },
     "metadata": {},
     "output_type": "display_data"
    }
   ],
   "source": [
    "#show class distribution\n",
    "ax = janthruapr.BinaryBucket.value_counts().plot.pie(labels = [\">1\", \"<=1\"],\n",
    "                                                    autopct = '%1.1f%%', figsize = (5,5))"
   ]
  },
  {
   "cell_type": "code",
   "execution_count": 34,
   "id": "8046fdf5",
   "metadata": {},
   "outputs": [
    {
     "data": {
      "text/plain": [
       "Text(0, 0.5, 'Freq.')"
      ]
     },
     "execution_count": 34,
     "metadata": {},
     "output_type": "execute_result"
    },
    {
     "data": {
      "image/png": "[encoded data removed]",
      "text/plain": [
       "<Figure size 432x288 with 1 Axes>"
      ]
     },
     "metadata": {
      "needs_background": "light"
     },
     "output_type": "display_data"
    }
   ],
   "source": [
    "#show raw score distribution\n",
    "ax = janthruapr.score.value_counts().sort_index(ascending = True).plot(kind = 'bar', rot = 0)\n",
    "ax.xaxis.set_major_locator(plt.MaxNLocator(10))\n",
    "ax.set_xlabel(\"Score\")\n",
    "ax.set_ylabel(\"Freq.\")"
   ]
  },
  {
   "cell_type": "code",
   "execution_count": 68,
   "id": "eb6d71d7",
   "metadata": {},
   "outputs": [
    {
     "data": {
      "text/plain": [
       "Text(0, 0.5, 'Freq.')"
      ]
     },
     "execution_count": 68,
     "metadata": {},
     "output_type": "execute_result"
    },
    {
     "data": {
      "image/png": "[encoded data removed]",
      "text/plain": [
       "<Figure size 432x288 with 1 Axes>"
      ]
     },
     "metadata": {
      "needs_background": "light"
     },
     "output_type": "display_data"
    }
   ],
   "source": [
    "#zoom in on the majority of the scores\n",
    "ax = janthruapr[(janthruapr.score < 20) & (janthruapr.score > -20)].score.value_counts().sort_index(ascending = True).plot(kind = 'bar', rot = 0)\n",
    "ax.xaxis.set_major_locator(plt.MaxNLocator(10))\n",
    "ax.set_xlabel(\"Score\")\n",
    "ax.set_ylabel(\"Freq.\")"
   ]
  },
  {
   "cell_type": "code",
   "execution_count": 36,
   "id": "6680a8b5",
   "metadata": {},
   "outputs": [
    {
     "data": {
      "text/plain": [
       "0.0    -721.0\n",
       "0.1      -1.0\n",
       "0.2       0.0\n",
       "0.3       1.0\n",
       "0.4       1.0\n",
       "0.5       2.0\n",
       "0.6       2.0\n",
       "0.7       2.0\n",
       "0.8       3.0\n",
       "0.9       6.0\n",
       "1.0    5231.0\n",
       "Name: score, dtype: float64"
      ]
     },
     "execution_count": 36,
     "metadata": {},
     "output_type": "execute_result"
    }
   ],
   "source": [
    "#show raw score quantiles\n",
    "janthruapr.score.quantile(q = [0.0, 0.1, 0.2, 0.3, 0.4, 0.5, 0.6, 0.7, 0.8, 0.9, 1.0])"
   ]
  },
  {
   "cell_type": "code",
   "execution_count": 37,
   "id": "ce986f34",
   "metadata": {},
   "outputs": [
    {
     "data": {
      "text/html": [
       "<style  type=\"text/css\" >\n",
       "#T_44d0c_row0_col0,#T_44d0c_row0_col5,#T_44d0c_row1_col1,#T_44d0c_row2_col2,#T_44d0c_row3_col3,#T_44d0c_row4_col4,#T_44d0c_row5_col0,#T_44d0c_row5_col5,#T_44d0c_row6_col6,#T_44d0c_row6_col11,#T_44d0c_row7_col7,#T_44d0c_row8_col8,#T_44d0c_row9_col9,#T_44d0c_row10_col10,#T_44d0c_row11_col6,#T_44d0c_row11_col11,#T_44d0c_row12_col12{\n",
       "            background-color:  #b40426;\n",
       "            color:  #f1f1f1;\n",
       "        }#T_44d0c_row0_col1,#T_44d0c_row0_col4,#T_44d0c_row2_col6,#T_44d0c_row2_col7,#T_44d0c_row2_col9,#T_44d0c_row2_col11,#T_44d0c_row4_col0,#T_44d0c_row4_col5,#T_44d0c_row4_col8,#T_44d0c_row5_col1,#T_44d0c_row5_col4,#T_44d0c_row6_col2,#T_44d0c_row6_col3,#T_44d0c_row6_col8,#T_44d0c_row7_col1,#T_44d0c_row9_col1,#T_44d0c_row10_col12,#T_44d0c_row11_col2,#T_44d0c_row11_col3,#T_44d0c_row11_col8,#T_44d0c_row12_col3,#T_44d0c_row12_col10{\n",
       "            background-color:  #3b4cc0;\n",
       "            color:  #f1f1f1;\n",
       "        }#T_44d0c_row0_col2,#T_44d0c_row5_col2{\n",
       "            background-color:  #4961d2;\n",
       "            color:  #f1f1f1;\n",
       "        }#T_44d0c_row0_col3{\n",
       "            background-color:  #536edd;\n",
       "            color:  #000000;\n",
       "        }#T_44d0c_row0_col6,#T_44d0c_row0_col11,#T_44d0c_row5_col6,#T_44d0c_row5_col11{\n",
       "            background-color:  #485fd1;\n",
       "            color:  #f1f1f1;\n",
       "        }#T_44d0c_row0_col7,#T_44d0c_row0_col9,#T_44d0c_row3_col7,#T_44d0c_row3_col9,#T_44d0c_row4_col1,#T_44d0c_row5_col7,#T_44d0c_row5_col9{\n",
       "            background-color:  #4257c9;\n",
       "            color:  #f1f1f1;\n",
       "        }#T_44d0c_row0_col8,#T_44d0c_row3_col8,#T_44d0c_row4_col3,#T_44d0c_row5_col8,#T_44d0c_row6_col1,#T_44d0c_row7_col2,#T_44d0c_row7_col3,#T_44d0c_row9_col2,#T_44d0c_row9_col3,#T_44d0c_row11_col1,#T_44d0c_row12_col1{\n",
       "            background-color:  #3e51c5;\n",
       "            color:  #f1f1f1;\n",
       "        }#T_44d0c_row0_col10,#T_44d0c_row3_col1,#T_44d0c_row3_col10,#T_44d0c_row5_col10{\n",
       "            background-color:  #455cce;\n",
       "            color:  #f1f1f1;\n",
       "        }#T_44d0c_row0_col12,#T_44d0c_row1_col3,#T_44d0c_row1_col6,#T_44d0c_row1_col11,#T_44d0c_row1_col12,#T_44d0c_row5_col12{\n",
       "            background-color:  #465ecf;\n",
       "            color:  #f1f1f1;\n",
       "        }#T_44d0c_row1_col0,#T_44d0c_row1_col5,#T_44d0c_row7_col4,#T_44d0c_row8_col4,#T_44d0c_row9_col4,#T_44d0c_row10_col4{\n",
       "            background-color:  #82a6fb;\n",
       "            color:  #000000;\n",
       "        }#T_44d0c_row1_col2{\n",
       "            background-color:  #6b8df0;\n",
       "            color:  #000000;\n",
       "        }#T_44d0c_row1_col4{\n",
       "            background-color:  #89acfd;\n",
       "            color:  #000000;\n",
       "        }#T_44d0c_row1_col7,#T_44d0c_row1_col9,#T_44d0c_row4_col7,#T_44d0c_row4_col12,#T_44d0c_row8_col3{\n",
       "            background-color:  #3f53c6;\n",
       "            color:  #f1f1f1;\n",
       "        }#T_44d0c_row1_col8,#T_44d0c_row8_col1,#T_44d0c_row10_col1,#T_44d0c_row10_col6,#T_44d0c_row10_col11,#T_44d0c_row12_col2{\n",
       "            background-color:  #3d50c3;\n",
       "            color:  #f1f1f1;\n",
       "        }#T_44d0c_row1_col10,#T_44d0c_row2_col8,#T_44d0c_row8_col6,#T_44d0c_row8_col11,#T_44d0c_row8_col12{\n",
       "            background-color:  #445acc;\n",
       "            color:  #f1f1f1;\n",
       "        }#T_44d0c_row2_col0,#T_44d0c_row2_col5{\n",
       "            background-color:  #88abfd;\n",
       "            color:  #000000;\n",
       "        }#T_44d0c_row2_col1{\n",
       "            background-color:  #6282ea;\n",
       "            color:  #000000;\n",
       "        }#T_44d0c_row2_col3{\n",
       "            background-color:  #5e7de7;\n",
       "            color:  #000000;\n",
       "        }#T_44d0c_row2_col4{\n",
       "            background-color:  #a2c1ff;\n",
       "            color:  #000000;\n",
       "        }#T_44d0c_row2_col10{\n",
       "            background-color:  #4a63d3;\n",
       "            color:  #f1f1f1;\n",
       "        }#T_44d0c_row2_col12,#T_44d0c_row6_col10,#T_44d0c_row11_col10,#T_44d0c_row12_col8{\n",
       "            background-color:  #3c4ec2;\n",
       "            color:  #f1f1f1;\n",
       "        }#T_44d0c_row3_col0{\n",
       "            background-color:  #96b7ff;\n",
       "            color:  #000000;\n",
       "        }#T_44d0c_row3_col2{\n",
       "            background-color:  #6485ec;\n",
       "            color:  #000000;\n",
       "        }#T_44d0c_row3_col4,#T_44d0c_row7_col0,#T_44d0c_row7_col5,#T_44d0c_row9_col0,#T_44d0c_row9_col5,#T_44d0c_row12_col9{\n",
       "            background-color:  #84a7fc;\n",
       "            color:  #000000;\n",
       "        }#T_44d0c_row3_col5,#T_44d0c_row7_col12{\n",
       "            background-color:  #94b6ff;\n",
       "            color:  #000000;\n",
       "        }#T_44d0c_row3_col6,#T_44d0c_row3_col11,#T_44d0c_row3_col12,#T_44d0c_row4_col6,#T_44d0c_row4_col9,#T_44d0c_row4_col11,#T_44d0c_row10_col3{\n",
       "            background-color:  #4055c8;\n",
       "            color:  #f1f1f1;\n",
       "        }#T_44d0c_row4_col2{\n",
       "            background-color:  #688aef;\n",
       "            color:  #000000;\n",
       "        }#T_44d0c_row4_col10{\n",
       "            background-color:  #4358cb;\n",
       "            color:  #f1f1f1;\n",
       "        }#T_44d0c_row5_col3{\n",
       "            background-color:  #506bda;\n",
       "            color:  #000000;\n",
       "        }#T_44d0c_row6_col0,#T_44d0c_row6_col5,#T_44d0c_row9_col12,#T_44d0c_row11_col0,#T_44d0c_row11_col5,#T_44d0c_row12_col0,#T_44d0c_row12_col5{\n",
       "            background-color:  #86a9fc;\n",
       "            color:  #000000;\n",
       "        }#T_44d0c_row6_col4,#T_44d0c_row11_col4,#T_44d0c_row12_col4{\n",
       "            background-color:  #80a3fa;\n",
       "            color:  #000000;\n",
       "        }#T_44d0c_row6_col7,#T_44d0c_row11_col7{\n",
       "            background-color:  #7699f6;\n",
       "            color:  #000000;\n",
       "        }#T_44d0c_row6_col9,#T_44d0c_row11_col9{\n",
       "            background-color:  #6c8ff1;\n",
       "            color:  #000000;\n",
       "        }#T_44d0c_row6_col12,#T_44d0c_row11_col12,#T_44d0c_row12_col6,#T_44d0c_row12_col11{\n",
       "            background-color:  #f4987a;\n",
       "            color:  #000000;\n",
       "        }#T_44d0c_row7_col6,#T_44d0c_row7_col11{\n",
       "            background-color:  #7a9df8;\n",
       "            color:  #000000;\n",
       "        }#T_44d0c_row7_col8{\n",
       "            background-color:  #6e90f2;\n",
       "            color:  #000000;\n",
       "        }#T_44d0c_row7_col9,#T_44d0c_row9_col7{\n",
       "            background-color:  #c73635;\n",
       "            color:  #f1f1f1;\n",
       "        }#T_44d0c_row7_col10{\n",
       "            background-color:  #5470de;\n",
       "            color:  #000000;\n",
       "        }#T_44d0c_row8_col0,#T_44d0c_row8_col5,#T_44d0c_row10_col0,#T_44d0c_row10_col5{\n",
       "            background-color:  #85a8fc;\n",
       "            color:  #000000;\n",
       "        }#T_44d0c_row8_col2{\n",
       "            background-color:  #4c66d6;\n",
       "            color:  #000000;\n",
       "        }#T_44d0c_row8_col7{\n",
       "            background-color:  #7396f5;\n",
       "            color:  #000000;\n",
       "        }#T_44d0c_row8_col9{\n",
       "            background-color:  #6687ed;\n",
       "            color:  #000000;\n",
       "        }#T_44d0c_row8_col10{\n",
       "            background-color:  #f08b6e;\n",
       "            color:  #000000;\n",
       "        }#T_44d0c_row9_col6,#T_44d0c_row9_col11{\n",
       "            background-color:  #7093f3;\n",
       "            color:  #000000;\n",
       "        }#T_44d0c_row9_col8{\n",
       "            background-color:  #6180e9;\n",
       "            color:  #000000;\n",
       "        }#T_44d0c_row9_col10{\n",
       "            background-color:  #4f69d9;\n",
       "            color:  #000000;\n",
       "        }#T_44d0c_row10_col2{\n",
       "            background-color:  #4b64d5;\n",
       "            color:  #f1f1f1;\n",
       "        }#T_44d0c_row10_col7{\n",
       "            background-color:  #516ddb;\n",
       "            color:  #000000;\n",
       "        }#T_44d0c_row10_col8{\n",
       "            background-color:  #f18f71;\n",
       "            color:  #000000;\n",
       "        }#T_44d0c_row10_col9{\n",
       "            background-color:  #4e68d8;\n",
       "            color:  #000000;\n",
       "        }#T_44d0c_row12_col7{\n",
       "            background-color:  #92b4fe;\n",
       "            color:  #000000;\n",
       "        }</style><table id=\"T_44d0c_\" ><thead>    <tr>        <th class=\"blank level0\" ></th>        <th class=\"col_heading level0 col0\" >created_utc</th>        <th class=\"col_heading level0 col1\" >score</th>        <th class=\"col_heading level0 col2\" >BinaryBucket</th>        <th class=\"col_heading level0 col3\" >Hour</th>        <th class=\"col_heading level0 col4\" >Weekday</th>        <th class=\"col_heading level0 col5\" >Day_of_Year</th>        <th class=\"col_heading level0 col6\" >BodyLen</th>        <th class=\"col_heading level0 col7\" >BodySubjectivity</th>        <th class=\"col_heading level0 col8\" >BodyPolarity</th>        <th class=\"col_heading level0 col9\" >SubjectivityBucket</th>        <th class=\"col_heading level0 col10\" >PolarityBucket</th>        <th class=\"col_heading level0 col11\" >ScaledBodyLen</th>        <th class=\"col_heading level0 col12\" >LengthBucket</th>    </tr></thead><tbody>\n",
       "                <tr>\n",
       "                        <th id=\"T_44d0c_level0_row0\" class=\"row_heading level0 row0\" >created_utc</th>\n",
       "                        <td id=\"T_44d0c_row0_col0\" class=\"data row0 col0\" >1.000000</td>\n",
       "                        <td id=\"T_44d0c_row0_col1\" class=\"data row0 col1\" >-0.002805</td>\n",
       "                        <td id=\"T_44d0c_row0_col2\" class=\"data row0 col2\" >0.016207</td>\n",
       "                        <td id=\"T_44d0c_row0_col3\" class=\"data row0 col3\" >0.067769</td>\n",
       "                        <td id=\"T_44d0c_row0_col4\" class=\"data row0 col4\" >-0.288524</td>\n",
       "                        <td id=\"T_44d0c_row0_col5\" class=\"data row0 col5\" >0.999982</td>\n",
       "                        <td id=\"T_44d0c_row0_col6\" class=\"data row0 col6\" >0.009706</td>\n",
       "                        <td id=\"T_44d0c_row0_col7\" class=\"data row0 col7\" >0.002591</td>\n",
       "                        <td id=\"T_44d0c_row0_col8\" class=\"data row0 col8\" >0.008063</td>\n",
       "                        <td id=\"T_44d0c_row0_col9\" class=\"data row0 col9\" >0.001968</td>\n",
       "                        <td id=\"T_44d0c_row0_col10\" class=\"data row0 col10\" >0.004916</td>\n",
       "                        <td id=\"T_44d0c_row0_col11\" class=\"data row0 col11\" >0.009706</td>\n",
       "                        <td id=\"T_44d0c_row0_col12\" class=\"data row0 col12\" >0.010641</td>\n",
       "            </tr>\n",
       "            <tr>\n",
       "                        <th id=\"T_44d0c_level0_row1\" class=\"row_heading level0 row1\" >score</th>\n",
       "                        <td id=\"T_44d0c_row1_col0\" class=\"data row1 col0\" >-0.002805</td>\n",
       "                        <td id=\"T_44d0c_row1_col1\" class=\"data row1 col1\" >1.000000</td>\n",
       "                        <td id=\"T_44d0c_row1_col2\" class=\"data row1 col2\" >0.123830</td>\n",
       "                        <td id=\"T_44d0c_row1_col3\" class=\"data row1 col3\" >0.030433</td>\n",
       "                        <td id=\"T_44d0c_row1_col4\" class=\"data row1 col4\" >0.019348</td>\n",
       "                        <td id=\"T_44d0c_row1_col5\" class=\"data row1 col5\" >-0.002992</td>\n",
       "                        <td id=\"T_44d0c_row1_col6\" class=\"data row1 col6\" >0.007746</td>\n",
       "                        <td id=\"T_44d0c_row1_col7\" class=\"data row1 col7\" >-0.003710</td>\n",
       "                        <td id=\"T_44d0c_row1_col8\" class=\"data row1 col8\" >0.003209</td>\n",
       "                        <td id=\"T_44d0c_row1_col9\" class=\"data row1 col9\" >-0.004993</td>\n",
       "                        <td id=\"T_44d0c_row1_col10\" class=\"data row1 col10\" >0.003957</td>\n",
       "                        <td id=\"T_44d0c_row1_col11\" class=\"data row1 col11\" >0.007746</td>\n",
       "                        <td id=\"T_44d0c_row1_col12\" class=\"data row1 col12\" >0.009039</td>\n",
       "            </tr>\n",
       "            <tr>\n",
       "                        <th id=\"T_44d0c_level0_row2\" class=\"row_heading level0 row2\" >BinaryBucket</th>\n",
       "                        <td id=\"T_44d0c_row2_col0\" class=\"data row2 col0\" >0.016207</td>\n",
       "                        <td id=\"T_44d0c_row2_col1\" class=\"data row2 col1\" >0.123830</td>\n",
       "                        <td id=\"T_44d0c_row2_col2\" class=\"data row2 col2\" >1.000000</td>\n",
       "                        <td id=\"T_44d0c_row2_col3\" class=\"data row2 col3\" >0.105476</td>\n",
       "                        <td id=\"T_44d0c_row2_col4\" class=\"data row2 col4\" >0.113758</td>\n",
       "                        <td id=\"T_44d0c_row2_col5\" class=\"data row2 col5\" >0.015580</td>\n",
       "                        <td id=\"T_44d0c_row2_col6\" class=\"data row2 col6\" >-0.036153</td>\n",
       "                        <td id=\"T_44d0c_row2_col7\" class=\"data row2 col7\" >-0.022906</td>\n",
       "                        <td id=\"T_44d0c_row2_col8\" class=\"data row2 col8\" >0.028364</td>\n",
       "                        <td id=\"T_44d0c_row2_col9\" class=\"data row2 col9\" >-0.023588</td>\n",
       "                        <td id=\"T_44d0c_row2_col10\" class=\"data row2 col10\" >0.020591</td>\n",
       "                        <td id=\"T_44d0c_row2_col11\" class=\"data row2 col11\" >-0.036153</td>\n",
       "                        <td id=\"T_44d0c_row2_col12\" class=\"data row2 col12\" >-0.026141</td>\n",
       "            </tr>\n",
       "            <tr>\n",
       "                        <th id=\"T_44d0c_level0_row3\" class=\"row_heading level0 row3\" >Hour</th>\n",
       "                        <td id=\"T_44d0c_row3_col0\" class=\"data row3 col0\" >0.067769</td>\n",
       "                        <td id=\"T_44d0c_row3_col1\" class=\"data row3 col1\" >0.030433</td>\n",
       "                        <td id=\"T_44d0c_row3_col2\" class=\"data row3 col2\" >0.105476</td>\n",
       "                        <td id=\"T_44d0c_row3_col3\" class=\"data row3 col3\" >1.000000</td>\n",
       "                        <td id=\"T_44d0c_row3_col4\" class=\"data row3 col4\" >0.000131</td>\n",
       "                        <td id=\"T_44d0c_row3_col5\" class=\"data row3 col5\" >0.061714</td>\n",
       "                        <td id=\"T_44d0c_row3_col6\" class=\"data row3 col6\" >-0.012165</td>\n",
       "                        <td id=\"T_44d0c_row3_col7\" class=\"data row3 col7\" >0.003326</td>\n",
       "                        <td id=\"T_44d0c_row3_col8\" class=\"data row3 col8\" >0.007513</td>\n",
       "                        <td id=\"T_44d0c_row3_col9\" class=\"data row3 col9\" >0.002870</td>\n",
       "                        <td id=\"T_44d0c_row3_col10\" class=\"data row3 col10\" >0.007988</td>\n",
       "                        <td id=\"T_44d0c_row3_col11\" class=\"data row3 col11\" >-0.012165</td>\n",
       "                        <td id=\"T_44d0c_row3_col12\" class=\"data row3 col12\" >-0.008817</td>\n",
       "            </tr>\n",
       "            <tr>\n",
       "                        <th id=\"T_44d0c_level0_row4\" class=\"row_heading level0 row4\" >Weekday</th>\n",
       "                        <td id=\"T_44d0c_row4_col0\" class=\"data row4 col0\" >-0.288524</td>\n",
       "                        <td id=\"T_44d0c_row4_col1\" class=\"data row4 col1\" >0.019348</td>\n",
       "                        <td id=\"T_44d0c_row4_col2\" class=\"data row4 col2\" >0.113758</td>\n",
       "                        <td id=\"T_44d0c_row4_col3\" class=\"data row4 col3\" >0.000131</td>\n",
       "                        <td id=\"T_44d0c_row4_col4\" class=\"data row4 col4\" >1.000000</td>\n",
       "                        <td id=\"T_44d0c_row4_col5\" class=\"data row4 col5\" >-0.288671</td>\n",
       "                        <td id=\"T_44d0c_row4_col6\" class=\"data row4 col6\" >-0.013301</td>\n",
       "                        <td id=\"T_44d0c_row4_col7\" class=\"data row4 col7\" >-0.003084</td>\n",
       "                        <td id=\"T_44d0c_row4_col8\" class=\"data row4 col8\" >-0.005226</td>\n",
       "                        <td id=\"T_44d0c_row4_col9\" class=\"data row4 col9\" >-0.003243</td>\n",
       "                        <td id=\"T_44d0c_row4_col10\" class=\"data row4 col10\" >-0.003343</td>\n",
       "                        <td id=\"T_44d0c_row4_col11\" class=\"data row4 col11\" >-0.013301</td>\n",
       "                        <td id=\"T_44d0c_row4_col12\" class=\"data row4 col12\" >-0.013254</td>\n",
       "            </tr>\n",
       "            <tr>\n",
       "                        <th id=\"T_44d0c_level0_row5\" class=\"row_heading level0 row5\" >Day_of_Year</th>\n",
       "                        <td id=\"T_44d0c_row5_col0\" class=\"data row5 col0\" >0.999982</td>\n",
       "                        <td id=\"T_44d0c_row5_col1\" class=\"data row5 col1\" >-0.002992</td>\n",
       "                        <td id=\"T_44d0c_row5_col2\" class=\"data row5 col2\" >0.015580</td>\n",
       "                        <td id=\"T_44d0c_row5_col3\" class=\"data row5 col3\" >0.061714</td>\n",
       "                        <td id=\"T_44d0c_row5_col4\" class=\"data row5 col4\" >-0.288671</td>\n",
       "                        <td id=\"T_44d0c_row5_col5\" class=\"data row5 col5\" >1.000000</td>\n",
       "                        <td id=\"T_44d0c_row5_col6\" class=\"data row5 col6\" >0.009784</td>\n",
       "                        <td id=\"T_44d0c_row5_col7\" class=\"data row5 col7\" >0.002576</td>\n",
       "                        <td id=\"T_44d0c_row5_col8\" class=\"data row5 col8\" >0.008022</td>\n",
       "                        <td id=\"T_44d0c_row5_col9\" class=\"data row5 col9\" >0.001955</td>\n",
       "                        <td id=\"T_44d0c_row5_col10\" class=\"data row5 col10\" >0.004871</td>\n",
       "                        <td id=\"T_44d0c_row5_col11\" class=\"data row5 col11\" >0.009784</td>\n",
       "                        <td id=\"T_44d0c_row5_col12\" class=\"data row5 col12\" >0.010700</td>\n",
       "            </tr>\n",
       "            <tr>\n",
       "                        <th id=\"T_44d0c_level0_row6\" class=\"row_heading level0 row6\" >BodyLen</th>\n",
       "                        <td id=\"T_44d0c_row6_col0\" class=\"data row6 col0\" >0.009706</td>\n",
       "                        <td id=\"T_44d0c_row6_col1\" class=\"data row6 col1\" >0.007746</td>\n",
       "                        <td id=\"T_44d0c_row6_col2\" class=\"data row6 col2\" >-0.036153</td>\n",
       "                        <td id=\"T_44d0c_row6_col3\" class=\"data row6 col3\" >-0.012165</td>\n",
       "                        <td id=\"T_44d0c_row6_col4\" class=\"data row6 col4\" >-0.013301</td>\n",
       "                        <td id=\"T_44d0c_row6_col5\" class=\"data row6 col5\" >0.009784</td>\n",
       "                        <td id=\"T_44d0c_row6_col6\" class=\"data row6 col6\" >1.000000</td>\n",
       "                        <td id=\"T_44d0c_row6_col7\" class=\"data row6 col7\" >0.166574</td>\n",
       "                        <td id=\"T_44d0c_row6_col8\" class=\"data row6 col8\" >-0.002263</td>\n",
       "                        <td id=\"T_44d0c_row6_col9\" class=\"data row6 col9\" >0.138034</td>\n",
       "                        <td id=\"T_44d0c_row6_col10\" class=\"data row6 col10\" >-0.025403</td>\n",
       "                        <td id=\"T_44d0c_row6_col11\" class=\"data row6 col11\" >1.000000</td>\n",
       "                        <td id=\"T_44d0c_row6_col12\" class=\"data row6 col12\" >0.742089</td>\n",
       "            </tr>\n",
       "            <tr>\n",
       "                        <th id=\"T_44d0c_level0_row7\" class=\"row_heading level0 row7\" >BodySubjectivity</th>\n",
       "                        <td id=\"T_44d0c_row7_col0\" class=\"data row7 col0\" >0.002591</td>\n",
       "                        <td id=\"T_44d0c_row7_col1\" class=\"data row7 col1\" >-0.003710</td>\n",
       "                        <td id=\"T_44d0c_row7_col2\" class=\"data row7 col2\" >-0.022906</td>\n",
       "                        <td id=\"T_44d0c_row7_col3\" class=\"data row7 col3\" >0.003326</td>\n",
       "                        <td id=\"T_44d0c_row7_col4\" class=\"data row7 col4\" >-0.003084</td>\n",
       "                        <td id=\"T_44d0c_row7_col5\" class=\"data row7 col5\" >0.002576</td>\n",
       "                        <td id=\"T_44d0c_row7_col6\" class=\"data row7 col6\" >0.166574</td>\n",
       "                        <td id=\"T_44d0c_row7_col7\" class=\"data row7 col7\" >1.000000</td>\n",
       "                        <td id=\"T_44d0c_row7_col8\" class=\"data row7 col8\" >0.157572</td>\n",
       "                        <td id=\"T_44d0c_row7_col9\" class=\"data row7 col9\" >0.946765</td>\n",
       "                        <td id=\"T_44d0c_row7_col10\" class=\"data row7 col10\" >0.053325</td>\n",
       "                        <td id=\"T_44d0c_row7_col11\" class=\"data row7 col11\" >0.166574</td>\n",
       "                        <td id=\"T_44d0c_row7_col12\" class=\"data row7 col12\" >0.246692</td>\n",
       "            </tr>\n",
       "            <tr>\n",
       "                        <th id=\"T_44d0c_level0_row8\" class=\"row_heading level0 row8\" >BodyPolarity</th>\n",
       "                        <td id=\"T_44d0c_row8_col0\" class=\"data row8 col0\" >0.008063</td>\n",
       "                        <td id=\"T_44d0c_row8_col1\" class=\"data row8 col1\" >0.003209</td>\n",
       "                        <td id=\"T_44d0c_row8_col2\" class=\"data row8 col2\" >0.028364</td>\n",
       "                        <td id=\"T_44d0c_row8_col3\" class=\"data row8 col3\" >0.007513</td>\n",
       "                        <td id=\"T_44d0c_row8_col4\" class=\"data row8 col4\" >-0.005226</td>\n",
       "                        <td id=\"T_44d0c_row8_col5\" class=\"data row8 col5\" >0.008022</td>\n",
       "                        <td id=\"T_44d0c_row8_col6\" class=\"data row8 col6\" >-0.002263</td>\n",
       "                        <td id=\"T_44d0c_row8_col7\" class=\"data row8 col7\" >0.157572</td>\n",
       "                        <td id=\"T_44d0c_row8_col8\" class=\"data row8 col8\" >1.000000</td>\n",
       "                        <td id=\"T_44d0c_row8_col9\" class=\"data row8 col9\" >0.120243</td>\n",
       "                        <td id=\"T_44d0c_row8_col10\" class=\"data row8 col10\" >0.775440</td>\n",
       "                        <td id=\"T_44d0c_row8_col11\" class=\"data row8 col11\" >-0.002263</td>\n",
       "                        <td id=\"T_44d0c_row8_col12\" class=\"data row8 col12\" >0.001097</td>\n",
       "            </tr>\n",
       "            <tr>\n",
       "                        <th id=\"T_44d0c_level0_row9\" class=\"row_heading level0 row9\" >SubjectivityBucket</th>\n",
       "                        <td id=\"T_44d0c_row9_col0\" class=\"data row9 col0\" >0.001968</td>\n",
       "                        <td id=\"T_44d0c_row9_col1\" class=\"data row9 col1\" >-0.004993</td>\n",
       "                        <td id=\"T_44d0c_row9_col2\" class=\"data row9 col2\" >-0.023588</td>\n",
       "                        <td id=\"T_44d0c_row9_col3\" class=\"data row9 col3\" >0.002870</td>\n",
       "                        <td id=\"T_44d0c_row9_col4\" class=\"data row9 col4\" >-0.003243</td>\n",
       "                        <td id=\"T_44d0c_row9_col5\" class=\"data row9 col5\" >0.001955</td>\n",
       "                        <td id=\"T_44d0c_row9_col6\" class=\"data row9 col6\" >0.138034</td>\n",
       "                        <td id=\"T_44d0c_row9_col7\" class=\"data row9 col7\" >0.946765</td>\n",
       "                        <td id=\"T_44d0c_row9_col8\" class=\"data row9 col8\" >0.120243</td>\n",
       "                        <td id=\"T_44d0c_row9_col9\" class=\"data row9 col9\" >1.000000</td>\n",
       "                        <td id=\"T_44d0c_row9_col10\" class=\"data row9 col10\" >0.040443</td>\n",
       "                        <td id=\"T_44d0c_row9_col11\" class=\"data row9 col11\" >0.138034</td>\n",
       "                        <td id=\"T_44d0c_row9_col12\" class=\"data row9 col12\" >0.206882</td>\n",
       "            </tr>\n",
       "            <tr>\n",
       "                        <th id=\"T_44d0c_level0_row10\" class=\"row_heading level0 row10\" >PolarityBucket</th>\n",
       "                        <td id=\"T_44d0c_row10_col0\" class=\"data row10 col0\" >0.004916</td>\n",
       "                        <td id=\"T_44d0c_row10_col1\" class=\"data row10 col1\" >0.003957</td>\n",
       "                        <td id=\"T_44d0c_row10_col2\" class=\"data row10 col2\" >0.020591</td>\n",
       "                        <td id=\"T_44d0c_row10_col3\" class=\"data row10 col3\" >0.007988</td>\n",
       "                        <td id=\"T_44d0c_row10_col4\" class=\"data row10 col4\" >-0.003343</td>\n",
       "                        <td id=\"T_44d0c_row10_col5\" class=\"data row10 col5\" >0.004871</td>\n",
       "                        <td id=\"T_44d0c_row10_col6\" class=\"data row10 col6\" >-0.025403</td>\n",
       "                        <td id=\"T_44d0c_row10_col7\" class=\"data row10 col7\" >0.053325</td>\n",
       "                        <td id=\"T_44d0c_row10_col8\" class=\"data row10 col8\" >0.775440</td>\n",
       "                        <td id=\"T_44d0c_row10_col9\" class=\"data row10 col9\" >0.040443</td>\n",
       "                        <td id=\"T_44d0c_row10_col10\" class=\"data row10 col10\" >1.000000</td>\n",
       "                        <td id=\"T_44d0c_row10_col11\" class=\"data row10 col11\" >-0.025403</td>\n",
       "                        <td id=\"T_44d0c_row10_col12\" class=\"data row10 col12\" >-0.031854</td>\n",
       "            </tr>\n",
       "            <tr>\n",
       "                        <th id=\"T_44d0c_level0_row11\" class=\"row_heading level0 row11\" >ScaledBodyLen</th>\n",
       "                        <td id=\"T_44d0c_row11_col0\" class=\"data row11 col0\" >0.009706</td>\n",
       "                        <td id=\"T_44d0c_row11_col1\" class=\"data row11 col1\" >0.007746</td>\n",
       "                        <td id=\"T_44d0c_row11_col2\" class=\"data row11 col2\" >-0.036153</td>\n",
       "                        <td id=\"T_44d0c_row11_col3\" class=\"data row11 col3\" >-0.012165</td>\n",
       "                        <td id=\"T_44d0c_row11_col4\" class=\"data row11 col4\" >-0.013301</td>\n",
       "                        <td id=\"T_44d0c_row11_col5\" class=\"data row11 col5\" >0.009784</td>\n",
       "                        <td id=\"T_44d0c_row11_col6\" class=\"data row11 col6\" >1.000000</td>\n",
       "                        <td id=\"T_44d0c_row11_col7\" class=\"data row11 col7\" >0.166574</td>\n",
       "                        <td id=\"T_44d0c_row11_col8\" class=\"data row11 col8\" >-0.002263</td>\n",
       "                        <td id=\"T_44d0c_row11_col9\" class=\"data row11 col9\" >0.138034</td>\n",
       "                        <td id=\"T_44d0c_row11_col10\" class=\"data row11 col10\" >-0.025403</td>\n",
       "                        <td id=\"T_44d0c_row11_col11\" class=\"data row11 col11\" >1.000000</td>\n",
       "                        <td id=\"T_44d0c_row11_col12\" class=\"data row11 col12\" >0.742089</td>\n",
       "            </tr>\n",
       "            <tr>\n",
       "                        <th id=\"T_44d0c_level0_row12\" class=\"row_heading level0 row12\" >LengthBucket</th>\n",
       "                        <td id=\"T_44d0c_row12_col0\" class=\"data row12 col0\" >0.010641</td>\n",
       "                        <td id=\"T_44d0c_row12_col1\" class=\"data row12 col1\" >0.009039</td>\n",
       "                        <td id=\"T_44d0c_row12_col2\" class=\"data row12 col2\" >-0.026141</td>\n",
       "                        <td id=\"T_44d0c_row12_col3\" class=\"data row12 col3\" >-0.008817</td>\n",
       "                        <td id=\"T_44d0c_row12_col4\" class=\"data row12 col4\" >-0.013254</td>\n",
       "                        <td id=\"T_44d0c_row12_col5\" class=\"data row12 col5\" >0.010700</td>\n",
       "                        <td id=\"T_44d0c_row12_col6\" class=\"data row12 col6\" >0.742089</td>\n",
       "                        <td id=\"T_44d0c_row12_col7\" class=\"data row12 col7\" >0.246692</td>\n",
       "                        <td id=\"T_44d0c_row12_col8\" class=\"data row12 col8\" >0.001097</td>\n",
       "                        <td id=\"T_44d0c_row12_col9\" class=\"data row12 col9\" >0.206882</td>\n",
       "                        <td id=\"T_44d0c_row12_col10\" class=\"data row12 col10\" >-0.031854</td>\n",
       "                        <td id=\"T_44d0c_row12_col11\" class=\"data row12 col11\" >0.742089</td>\n",
       "                        <td id=\"T_44d0c_row12_col12\" class=\"data row12 col12\" >1.000000</td>\n",
       "            </tr>\n",
       "    </tbody></table>"
      ],
      "text/plain": [
       "<pandas.io.formats.style.Styler at 0x1372075cb20>"
      ]
     },
     "execution_count": 37,
     "metadata": {},
     "output_type": "execute_result"
    }
   ],
   "source": [
    "#check correlations of features\n",
    "corr = janthruapr.corr()\n",
    "corr.style.background_gradient(cmap = 'coolwarm')"
   ]
  },
  {
   "cell_type": "markdown",
   "id": "1200f01f",
   "metadata": {},
   "source": [
    "From this we can see that there are unfortunately no big correlations present between the score - or it's representation as BinaryBucket - to any of the other features.  We just have to hope our models can pick up something that we can't see here!"
   ]
  },
  {
   "cell_type": "code",
   "execution_count": 81,
   "id": "5a6d5b00",
   "metadata": {},
   "outputs": [
    {
     "data": {
      "text/plain": [
       "0.0       0.0\n",
       "0.1       3.0\n",
       "0.2       4.0\n",
       "0.3       6.0\n",
       "0.4       8.0\n",
       "0.5      10.0\n",
       "0.6      13.0\n",
       "0.7      17.0\n",
       "0.8      23.0\n",
       "0.9      38.0\n",
       "1.0    1624.0\n",
       "Name: BodyLen, dtype: float64"
      ]
     },
     "execution_count": 81,
     "metadata": {},
     "output_type": "execute_result"
    }
   ],
   "source": [
    "janthruapr.BodyLen.quantile(q = [0, 0.1, 0.2, 0.3, 0.4, 0.5, 0.6, 0.7, 0.8, 0.9, 1]) #clearly the largest is a bit of an ourlier"
   ]
  },
  {
   "cell_type": "markdown",
   "id": "cb13ef2b",
   "metadata": {},
   "source": [
    "Check out the top 10 most common words by frequency after cleaning:"
   ]
  },
  {
   "cell_type": "code",
   "execution_count": 137,
   "id": "dc9dca86",
   "metadata": {},
   "outputs": [
    {
     "data": {
      "image/png": "[encoded data removed]",
      "text/plain": [
       "<Figure size 432x288 with 1 Axes>"
      ]
     },
     "metadata": {
      "needs_background": "light"
     },
     "output_type": "display_data"
    }
   ],
   "source": [
    "results = Counter()\n",
    "janthruapr['cComment'].str.lower().str.split().apply(results.update)\n",
    "y = [count for tag, count in results.most_common(10)]\n",
    "x = [tag for tag, count in results.most_common(10)]\n",
    "ax = plt.bar(x, y)"
   ]
  },
  {
   "cell_type": "markdown",
   "id": "085fd00f",
   "metadata": {},
   "source": [
    "## Modeling 1\n",
    "#### Begin with smaller subset (Jan-Apr)"
   ]
  },
  {
   "cell_type": "markdown",
   "id": "ef4c0bc7",
   "metadata": {},
   "source": [
    "The choices for our model architecture began by emulating Max Woolf's model which used only an input, embedding, and pooling layer before a sigmoid activation function for the comments branch.  This was then compared to quite a few other architectures such as having many dense layers, having just one additional dense layer, using bidrectional and single-way LSTMs, all of which attempted different pooling strategies and were compared while using different hyperparameters such as the word embeddings, etc.  \n",
    "All of these were compared until the best of them came out, and then of these best the simplest which achieved the same results were preferred.  It was believed before we started that a single LSTM layer could probably provide quite good results, and the truth was that this was correct.  A single layer LSTM followed by a sigmoid activation function provided results on par with extremely deep networks while fitting quickly.  Adding dropouts, poolings, and dense layers only added to the fitting time without affecting the validation AUC and accuracies much if at all.  \n",
    "The text embedding functions left below are only for reading in the Glove pre-trained text embeddings, but w2v and bag-of-words approaches were also tested to varying degrees of accuracy among our models.  Glove ended up giving the best, most consistent results and as such it is left in for our report."
   ]
  },
  {
   "cell_type": "markdown",
   "id": "84a33c80",
   "metadata": {},
   "source": [
    "First we have a few functions which prepare our glove embeddings"
   ]
  },
  {
   "cell_type": "code",
   "execution_count": 38,
   "id": "ac32a2f1",
   "metadata": {},
   "outputs": [],
   "source": [
    "def prep_embedding(df, vocab_size, maxlen):\n",
    "    word_tokenizer = Tokenizer(vocab_size) #init tokenizer with the max features we want to see\n",
    "    word_tokenizer.fit_on_texts(df.cComment) #fit tokenizer on to our df's cleaned comments\n",
    "#     print(len(word_tokenizer.word_counts)) #not needed, nice to see\n",
    "    \n",
    "    comments_tf = word_tokenizer.texts_to_sequences(df.cComment)\n",
    "    comments_tf = pad_sequences(comments_tf, maxlen = maxlen)\n",
    "    return comments_tf, word_tokenizer"
   ]
  },
  {
   "cell_type": "code",
   "execution_count": 39,
   "id": "3ac7f3cb",
   "metadata": {},
   "outputs": [],
   "source": [
    "def get_embeddings(path):#so we can change which embedding we use\n",
    "    embeddings = {} #empty, to be filled as we read in\n",
    "    with open(path, 'r', encoding = 'utf8') as f:\n",
    "        for line in f:\n",
    "            line_split = line.strip().split(\" \")\n",
    "            vect = np.array(line_split[1:], dtype = float)\n",
    "            word = line_split[0]\n",
    "            embeddings[word] = vect\n",
    "    return embeddings"
   ]
  },
  {
   "cell_type": "code",
   "execution_count": 40,
   "id": "db940321",
   "metadata": {},
   "outputs": [],
   "source": [
    "def get_weights(word_token, embeds, vocab_size):\n",
    "    weights = np.zeros((vocab_size +1, 25)) #25 as len(embeddings['example_text']) == 25\n",
    "    for word, i in word_token.word_index.items():\n",
    "        embedding = embeds.get(word)\n",
    "        if embedding is not None and i <= vocab_size:\n",
    "            weights[i] = embedding\n",
    "    return weights"
   ]
  },
  {
   "cell_type": "markdown",
   "id": "89cae6c2",
   "metadata": {},
   "source": [
    "Here we set some basic hyperparameters which we play with quite a bit in tuning our models"
   ]
  },
  {
   "cell_type": "code",
   "execution_count": 41,
   "id": "be9f99d2",
   "metadata": {},
   "outputs": [],
   "source": [
    "vocab_size = 50000 #set max # features to 50k for now\n",
    "glove25_path = \"GloveTwitterData\\\\glove.twitter.27B.25d.txt\"\n",
    "glove50_path = \"GloveTwitterData\\\\glove.twitter.27B.50d.txt\"\n",
    "glove100_path = \"GloveTwitterData\\\\glove.twitter.27B.100d.txt\"\n",
    "glove200_path = \"GloveTwitterData\\\\glove.twitter.27B.200d.txt\"\n",
    "embedding_dims = 25 #set from GLOVE\n",
    "maxlen = 50 #may want to lower, 19 keeps entirety of 90% of our comments but seems a bit long.\n",
    "batch_size = 256 #can change as needed\n",
    "date_dims = 64 #dims for our date layers in our model"
   ]
  },
  {
   "cell_type": "code",
   "execution_count": 42,
   "id": "36972b9e",
   "metadata": {},
   "outputs": [],
   "source": [
    "comments_tf_funny, word_tokenizer_funny = prep_embedding(janthruapr, vocab_size, maxlen)\n",
    "embeddings_funny = get_embeddings(glove25_path) \n",
    "weights_funny = get_weights(word_tokenizer_funny, embeddings_funny, vocab_size)"
   ]
  },
  {
   "cell_type": "markdown",
   "id": "f82d0a90",
   "metadata": {},
   "source": [
    "This cell below defines our model.  Right now this is only showing a very basic LSTM(50) with a 20% dropout (labelled as lstm50_0dense in saved files) as an example.  The formatting for this model and the way that the features are called later are due to Max Woolf's influence.  When comparing our model(s) to his from his paper it was easier to use this formatting."
   ]
  },
  {
   "cell_type": "code",
   "execution_count": 43,
   "id": "9e4603c8",
   "metadata": {},
   "outputs": [],
   "source": [
    "comments_input_layer = Input(shape = (maxlen,), name = 'comment_input')\n",
    "comments_embedding_layer = Embedding(vocab_size +1, embedding_dims, weights = [weights_funny])(comments_input_layer)\n",
    "comments_lstm_layer = LSTM(50, dropout = 0.2)(comments_embedding_layer)\n",
    "\n",
    "output = Dense(1, activation = 'sigmoid', name = 'output')(comments_lstm_layer) "
   ]
  },
  {
   "cell_type": "code",
   "execution_count": 44,
   "id": "f058301c",
   "metadata": {},
   "outputs": [
    {
     "name": "stdout",
     "output_type": "stream",
     "text": [
      "Model: \"model_1\"\n",
      "_________________________________________________________________\n",
      " Layer (type)                Output Shape              Param #   \n",
      "=================================================================\n",
      " comment_input (InputLayer)  [(None, 50)]              0         \n",
      "                                                                 \n",
      " embedding_1 (Embedding)     (None, 50, 25)            1250025   \n",
      "                                                                 \n",
      " lstm_1 (LSTM)               (None, 50)                15200     \n",
      "                                                                 \n",
      " output (Dense)              (None, 1)                 51        \n",
      "                                                                 \n",
      "=================================================================\n",
      "Total params: 1,265,276\n",
      "Trainable params: 1,265,276\n",
      "Non-trainable params: 0\n",
      "_________________________________________________________________\n"
     ]
    }
   ],
   "source": [
    "model = Model(inputs = [comments_input_layer], outputs = [output])\n",
    "\n",
    "#loss_weights are how much we weightcomments[0th] vs. the date info [1st].  Set to 1:1 for first pass\n",
    "model.compile(loss = 'binary_crossentropy', optimizer = Adam(0.0005), metrics = ['accuracy', 'AUC'])\n",
    "model.summary()"
   ]
  },
  {
   "cell_type": "code",
   "execution_count": 47,
   "id": "a58c327f",
   "metadata": {},
   "outputs": [],
   "source": [
    "mycallbacks = [EarlyStopping(monitor = 'val_loss', patience = 3)] #basic early stopping if we get 3 bad epochs"
   ]
  },
  {
   "cell_type": "code",
   "execution_count": 48,
   "id": "aff5609f",
   "metadata": {},
   "outputs": [
    {
     "name": "stdout",
     "output_type": "stream",
     "text": [
      "Epoch 1/25\n",
      "877/877 [==============================] - 13s 11ms/step - loss: 0.6745 - accuracy: 0.5823 - auc: 0.5742 - val_loss: 0.6707 - val_accuracy: 0.5863 - val_auc: 0.5915\n",
      "Epoch 2/25\n",
      "877/877 [==============================] - 9s 10ms/step - loss: 0.6676 - accuracy: 0.5927 - auc: 0.5976 - val_loss: 0.6694 - val_accuracy: 0.5884 - val_auc: 0.5983\n",
      "Epoch 3/25\n",
      "877/877 [==============================] - 8s 10ms/step - loss: 0.6613 - accuracy: 0.6031 - auc: 0.6162 - val_loss: 0.6646 - val_accuracy: 0.5991 - val_auc: 0.6110\n",
      "Epoch 4/25\n",
      "877/877 [==============================] - 8s 10ms/step - loss: 0.6545 - accuracy: 0.6130 - auc: 0.6335 - val_loss: 0.6619 - val_accuracy: 0.6016 - val_auc: 0.6182\n",
      "Epoch 5/25\n",
      "877/877 [==============================] - 8s 10ms/step - loss: 0.6475 - accuracy: 0.6203 - auc: 0.6492 - val_loss: 0.6610 - val_accuracy: 0.6041 - val_auc: 0.6229\n",
      "Epoch 6/25\n",
      "877/877 [==============================] - 8s 10ms/step - loss: 0.6396 - accuracy: 0.6300 - auc: 0.6648 - val_loss: 0.6607 - val_accuracy: 0.6075 - val_auc: 0.6262\n",
      "Epoch 7/25\n",
      "877/877 [==============================] - 9s 10ms/step - loss: 0.6319 - accuracy: 0.6378 - auc: 0.6786 - val_loss: 0.6600 - val_accuracy: 0.6069 - val_auc: 0.6279\n",
      "Epoch 8/25\n",
      "877/877 [==============================] - 9s 10ms/step - loss: 0.6254 - accuracy: 0.6428 - auc: 0.6889 - val_loss: 0.6611 - val_accuracy: 0.6079 - val_auc: 0.6293\n",
      "Epoch 9/25\n",
      "877/877 [==============================] - 9s 10ms/step - loss: 0.6183 - accuracy: 0.6501 - auc: 0.6998 - val_loss: 0.6634 - val_accuracy: 0.6074 - val_auc: 0.6287\n",
      "Epoch 10/25\n",
      "877/877 [==============================] - 8s 9ms/step - loss: 0.6126 - accuracy: 0.6539 - auc: 0.7073 - val_loss: 0.6662 - val_accuracy: 0.6076 - val_auc: 0.6295\n"
     ]
    }
   ],
   "source": [
    "train_janthruapr, test_janthruapr = train_test_split(janthruapr, test_size = 0.2) #split our dataset\n",
    "\n",
    "comments_train = comments_tf_funny[train_janthruapr.index, :] #get the comments we'll use\n",
    "binarybucket_train = train_janthruapr.BinaryBucket[train_janthruapr.index] #get the y values\n",
    "\n",
    "with tf.device('/GPU:0'): #use my GPU\n",
    "    start = dt.datetime.now()\n",
    "    history = model.fit(comments_train, binarybucket_train,\n",
    "                   batch_size = batch_size, epochs = 25, validation_split= 0.2, callbacks = mycallbacks)\n",
    "    end = dt.datetime.now()"
   ]
  },
  {
   "cell_type": "code",
   "execution_count": 49,
   "id": "2a6e0c84",
   "metadata": {},
   "outputs": [
    {
     "data": {
      "text/plain": [
       "<matplotlib.legend.Legend at 0x13723734220>"
      ]
     },
     "execution_count": 49,
     "metadata": {},
     "output_type": "execute_result"
    },
    {
     "data": {
      "image/png": "[encoded data removed]",
      "text/plain": [
       "<Figure size 1080x720 with 3 Axes>"
      ]
     },
     "metadata": {
      "needs_background": "light"
     },
     "output_type": "display_data"
    }
   ],
   "source": [
    "fig, axs = plt.subplots(1, 3, figsize = (15,10))\n",
    "axs[0].set_title('Loss')\n",
    "axs[0].plot(history.epoch, history.history['loss'], label = 'Training Loss')\n",
    "axs[0].plot(history.epoch, history.history['val_loss'], label = 'Validation Loss')\n",
    "axs[0].legend()\n",
    "\n",
    "axs[1].set_title('Comment Accuracy')\n",
    "axs[1].plot(history.epoch, history.history['accuracy'], label = 'Comment Training Accuracy')\n",
    "axs[1].plot(history.epoch, history.history['val_accuracy'], label = 'Comment Validation Accuracy')\n",
    "axs[1].legend()\n",
    "\n",
    "axs[2].set_title('Comment AUC')\n",
    "axs[2].plot(history.epoch, history.history['auc'], label = 'Comment Training AUC')\n",
    "axs[2].plot(history.epoch, history.history['val_auc'], label = 'Comment Validation AUC')\n",
    "axs[2].legend()"
   ]
  },
  {
   "cell_type": "code",
   "execution_count": 50,
   "id": "3877e47c",
   "metadata": {},
   "outputs": [
    {
     "name": "stdout",
     "output_type": "stream",
     "text": [
      "The highest val acc was: 0.608\n",
      "The highest val AUC was: 0.63\n",
      "Fitting took 0:01:28.804865\n"
     ]
    }
   ],
   "source": [
    "print(f\"The highest val acc was: {round(np.max(history.history['val_accuracy']),3)}\")\n",
    "print(f\"The highest val AUC was: {round(np.max(history.history['val_auc']),3)}\")\n",
    "print(f\"Fitting took {end - start}\")"
   ]
  },
  {
   "cell_type": "markdown",
   "id": "107671d3",
   "metadata": {},
   "source": [
    "Baseline here was ~56.2% acc from our largest class"
   ]
  },
  {
   "cell_type": "code",
   "execution_count": null,
   "id": "3b51aaaa",
   "metadata": {},
   "outputs": [],
   "source": [
    "#save model images\n",
    "# plot_model(model, to_file='comment_only_dense50.png')\n",
    "# plot_model(model, to_file='comment_only_dense50_shapes.png', show_shapes=True)"
   ]
  },
  {
   "cell_type": "markdown",
   "id": "64654996",
   "metadata": {},
   "source": [
    "## Results 1\n",
    "#### Begin with smaller subset (Jan-Apr)"
   ]
  },
  {
   "cell_type": "markdown",
   "id": "8a58546f",
   "metadata": {},
   "source": [
    "The above type of procedure was ran through many, many times.  The hyperparameters we tested included the embedding type, the optimizer (and the hyperparameters within a given optimizer), the features used, maxlen, batch size, and of course the model architecture itself.  \n",
    "While there was quite a bit of time going over this, it was unfortunately my last step to remove the cleaned comments feature itself and assess the model.  This was unfortunate due to the fact that what I had thought was a great model to predict the sucess of a post ended up being just a great model of the API's way of calling in my data!  I was getting accuracies of over 80% when using the 'Hour' and 'Day_of_Year' features.  The fact that they were significant at all should have, in hindsight, immediately alerted me to the issue as there was no reasonable way for the day of the year to matter when looking at only this tiny subset of data.  Unfortunately this meant that I wasted a lot of time assessing models which only modelled the way the API chose to pick its data.  The plot below shows how this 80% accuracy was achieved with just the day of year information due to the way the data was collected."
   ]
  },
  {
   "cell_type": "code",
   "execution_count": 53,
   "id": "2e08e484",
   "metadata": {},
   "outputs": [
    {
     "data": {
      "image/png": "[encoded data removed]",
      "text/plain": [
       "<Figure size 432x288 with 1 Axes>"
      ]
     },
     "metadata": {
      "needs_background": "light"
     },
     "output_type": "display_data"
    }
   ],
   "source": [
    "bucket = {}\n",
    "for day in janthruapr.Day_of_Year.unique():\n",
    "    bucket[day] = np.mean(janthruapr[janthruapr.Day_of_Year == day].BinaryBucket)\n",
    "lists = sorted(bucket.items())\n",
    "x, y = zip(*lists)\n",
    "plt.bar(x, y)\n",
    "plt.show()"
   ]
  },
  {
   "cell_type": "markdown",
   "id": "8edf8439",
   "metadata": {},
   "source": [
    "Because of this issue a lot of work was lost and it was revealed that the true model accuracy was around 61% at best.  Some of the remaining model outcomes are reported below.  The 'Model' column represents the name of the saved model image  xxxxWhatDidWeEndUpDoingWithTheModelPictures? Note here xxxxxxx  \n",
    "\n",
    "# MENTION ABOVE IF WE KEEP ALL MODEL IMAGES SOMEWHERE, KEEP JUST A FEW, ETC"
   ]
  },
  {
   "cell_type": "markdown",
   "id": "f23dd3ab",
   "metadata": {},
   "source": [
    "|Model|Embedding|Optimizer|Features|MaxValAcc|MaxValAUC|TimeToFit|maxlen|batchsize|\n",
    "|--|--|--|--|--|--|--|--|--|\n",
    "|commentonly_original|glove200|adam|cComment|0.606|0.624|00:30|50|256|\n",
    "|commentonly_original|w2v|adam|cComment|0.600|0.605|00:50|50|256|\n",
    "|commentonly_original|BOW|adam|cComment|0.567|0.583|01:01|50|256|\n",
    "|commentonly_original|glove200|sgd|cComment|0.605|0.622|13:21|50|256|\n",
    "|commentonly_original|glove25|adam|cComment|0.606|0.622|00:29|50|256|\n",
    "|commentonly_original|glove25|adam|cComment|0.604|0.624|00:50|20|256|\n",
    "|commentonly_original|glove25|Adam(0.001)|cComment|0.607|0.622|01:23|50|256|\n",
    "|commentonly_original|glove25|Adam(0.0005)|cComment|0.607|0.623|01:11|50|256|\n",
    "|commentonly_lstm50_3dense|glove25|Adam(0.0005)|cComment|0.612|0.629|01:33|50|256|\n",
    "|commentonly_lstm50_2dense|glove25|Adam(0.0005)|cComment|0.611|0.631|01:21|50|256|\n",
    "|commentonly_lstm100_3dense|glove25|Adam(0.0005)|cComment|0.609|0.624|01:45|50|256|"
   ]
  },
  {
   "cell_type": "markdown",
   "id": "bf3f5740",
   "metadata": {},
   "source": [
    "The first results here use the 'commentonly_original' model which was Max Woolf's mixed model with the date inputs removed.  This same model was used to find out if the embedding type influenced the model performance.  I found my best performance with pre-trained glove embeddings and it was noted that the size of the embeddings used didn't influence performance on this dataset.  Next I looked at different types of optimizers and it was found that adam and sgd performed the best with sgd giving almost identical scores to adam with much nicer loss curves, but at the cost of being much, much slower.  As such the adam optimizer then had its initial learning rate tuned a bit and it was found to give the best results with an initial LR of 0.0005 on average.  Finally a few different model architectures were attempted.  The 'original' refers to the model architecture from the influential Max Woolf reddit prediction model.  It was found to be similar, but a bit behind some of the lstm-based architectures that were attempted here. The maxlen and batchsize parameters were found in some of the many, many other trials that are not listed above.  "
   ]
  },
  {
   "cell_type": "markdown",
   "id": "e34c2e62",
   "metadata": {},
   "source": [
    "## EDA 2\n",
    "#### Full 2020 Dataset  \n",
    "We repeat a lot of the basic EDA done in our smaller subset here and find great agreement between the two."
   ]
  },
  {
   "cell_type": "code",
   "execution_count": 55,
   "id": "c0622714",
   "metadata": {},
   "outputs": [
    {
     "data": {
      "image/png": "[encoded data removed]",
      "text/plain": [
       "<Figure size 360x360 with 1 Axes>"
      ]
     },
     "metadata": {},
     "output_type": "display_data"
    }
   ],
   "source": [
    "ax = df.BinaryBucket.value_counts().plot.pie(labels = [\">1\", \"<=1\"],\n",
    "                                                    autopct = '%1.1f%%', figsize = (5,5))"
   ]
  },
  {
   "cell_type": "code",
   "execution_count": 56,
   "id": "e5d56f08",
   "metadata": {},
   "outputs": [
    {
     "data": {
      "text/plain": [
       "Text(0, 0.5, 'Freq.')"
      ]
     },
     "execution_count": 56,
     "metadata": {},
     "output_type": "execute_result"
    },
    {
     "data": {
      "image/png": "[encoded data removed]",
      "text/plain": [
       "<Figure size 432x288 with 1 Axes>"
      ]
     },
     "metadata": {
      "needs_background": "light"
     },
     "output_type": "display_data"
    }
   ],
   "source": [
    "ax = df.score.value_counts().sort_index(ascending = True).plot(kind = 'bar', rot = 0)\n",
    "ax.xaxis.set_major_locator(plt.MaxNLocator(10))\n",
    "ax.set_xlabel(\"Score\")\n",
    "ax.set_ylabel(\"Freq.\")"
   ]
  },
  {
   "cell_type": "code",
   "execution_count": 57,
   "id": "07df1888",
   "metadata": {},
   "outputs": [
    {
     "data": {
      "text/plain": [
       "Text(0, 0.5, 'Freq.')"
      ]
     },
     "execution_count": 57,
     "metadata": {},
     "output_type": "execute_result"
    },
    {
     "data": {
      "image/png": "[encoded data removed]",
      "text/plain": [
       "<Figure size 432x288 with 1 Axes>"
      ]
     },
     "metadata": {
      "needs_background": "light"
     },
     "output_type": "display_data"
    }
   ],
   "source": [
    "ax = df[(df.score < 10) & (df.score > -10)].score.value_counts().sort_index(ascending = True).plot(kind = 'bar', rot = 0)\n",
    "ax.xaxis.set_major_locator(plt.MaxNLocator(10))\n",
    "ax.set_xlabel(\"Score\")\n",
    "ax.set_ylabel(\"Freq.\")"
   ]
  },
  {
   "cell_type": "code",
   "execution_count": 58,
   "id": "cb0ae594",
   "metadata": {},
   "outputs": [
    {
     "data": {
      "text/plain": [
       "0.0     -721.0\n",
       "0.1       -1.0\n",
       "0.2        0.0\n",
       "0.3        1.0\n",
       "0.4        1.0\n",
       "0.5        2.0\n",
       "0.6        2.0\n",
       "0.7        3.0\n",
       "0.8        4.0\n",
       "0.9        7.0\n",
       "1.0    18818.0\n",
       "Name: score, dtype: float64"
      ]
     },
     "execution_count": 58,
     "metadata": {},
     "output_type": "execute_result"
    }
   ],
   "source": [
    "df.score.quantile(q = [0.0, 0.1, 0.2, 0.3, 0.4, 0.5, 0.6, 0.7, 0.8, 0.9, 1.0])"
   ]
  },
  {
   "cell_type": "code",
   "execution_count": 59,
   "id": "a563e867",
   "metadata": {},
   "outputs": [
    {
     "data": {
      "text/html": [
       "<style  type=\"text/css\" >\n",
       "#T_f4f89_row0_col0,#T_f4f89_row0_col5,#T_f4f89_row1_col1,#T_f4f89_row2_col2,#T_f4f89_row3_col3,#T_f4f89_row4_col4,#T_f4f89_row5_col0,#T_f4f89_row5_col5,#T_f4f89_row6_col6,#T_f4f89_row6_col11,#T_f4f89_row7_col7,#T_f4f89_row8_col8,#T_f4f89_row9_col9,#T_f4f89_row10_col10,#T_f4f89_row11_col6,#T_f4f89_row11_col11,#T_f4f89_row12_col12{\n",
       "            background-color:  #b40426;\n",
       "            color:  #f1f1f1;\n",
       "        }#T_f4f89_row0_col1,#T_f4f89_row3_col6,#T_f4f89_row3_col11,#T_f4f89_row4_col1,#T_f4f89_row5_col1,#T_f4f89_row7_col4{\n",
       "            background-color:  #3f53c6;\n",
       "            color:  #f1f1f1;\n",
       "        }#T_f4f89_row0_col2,#T_f4f89_row3_col10,#T_f4f89_row5_col2{\n",
       "            background-color:  #455cce;\n",
       "            color:  #f1f1f1;\n",
       "        }#T_f4f89_row0_col3,#T_f4f89_row1_col8,#T_f4f89_row2_col6,#T_f4f89_row2_col7,#T_f4f89_row2_col9,#T_f4f89_row2_col11,#T_f4f89_row3_col0,#T_f4f89_row3_col5,#T_f4f89_row4_col8,#T_f4f89_row4_col12,#T_f4f89_row5_col3,#T_f4f89_row6_col2,#T_f4f89_row6_col8,#T_f4f89_row7_col1,#T_f4f89_row8_col1,#T_f4f89_row9_col1,#T_f4f89_row10_col1,#T_f4f89_row10_col12,#T_f4f89_row11_col2,#T_f4f89_row11_col8,#T_f4f89_row12_col4,#T_f4f89_row12_col10{\n",
       "            background-color:  #3b4cc0;\n",
       "            color:  #f1f1f1;\n",
       "        }#T_f4f89_row0_col4,#T_f4f89_row1_col0,#T_f4f89_row5_col4,#T_f4f89_row6_col0,#T_f4f89_row9_col10,#T_f4f89_row11_col0{\n",
       "            background-color:  #4f69d9;\n",
       "            color:  #000000;\n",
       "        }#T_f4f89_row0_col6,#T_f4f89_row0_col11,#T_f4f89_row0_col12,#T_f4f89_row1_col4,#T_f4f89_row5_col6,#T_f4f89_row5_col11,#T_f4f89_row5_col12,#T_f4f89_row6_col3,#T_f4f89_row11_col3{\n",
       "            background-color:  #485fd1;\n",
       "            color:  #f1f1f1;\n",
       "        }#T_f4f89_row0_col7,#T_f4f89_row0_col9,#T_f4f89_row2_col8,#T_f4f89_row3_col4,#T_f4f89_row5_col7,#T_f4f89_row5_col9,#T_f4f89_row8_col4{\n",
       "            background-color:  #4257c9;\n",
       "            color:  #f1f1f1;\n",
       "        }#T_f4f89_row0_col8,#T_f4f89_row2_col12,#T_f4f89_row5_col8,#T_f4f89_row6_col1,#T_f4f89_row6_col4,#T_f4f89_row6_col10,#T_f4f89_row7_col2,#T_f4f89_row11_col1,#T_f4f89_row11_col4,#T_f4f89_row11_col10,#T_f4f89_row12_col1,#T_f4f89_row12_col2,#T_f4f89_row12_col8{\n",
       "            background-color:  #3c4ec2;\n",
       "            color:  #f1f1f1;\n",
       "        }#T_f4f89_row0_col10,#T_f4f89_row1_col10,#T_f4f89_row4_col10,#T_f4f89_row5_col10,#T_f4f89_row8_col6,#T_f4f89_row8_col11,#T_f4f89_row10_col4{\n",
       "            background-color:  #4358cb;\n",
       "            color:  #f1f1f1;\n",
       "        }#T_f4f89_row1_col2{\n",
       "            background-color:  #5d7ce6;\n",
       "            color:  #000000;\n",
       "        }#T_f4f89_row1_col3,#T_f4f89_row8_col3,#T_f4f89_row10_col3{\n",
       "            background-color:  #4e68d8;\n",
       "            color:  #000000;\n",
       "        }#T_f4f89_row1_col5,#T_f4f89_row6_col5,#T_f4f89_row10_col7,#T_f4f89_row11_col5,#T_f4f89_row12_col0,#T_f4f89_row12_col5{\n",
       "            background-color:  #506bda;\n",
       "            color:  #000000;\n",
       "        }#T_f4f89_row1_col6,#T_f4f89_row1_col11,#T_f4f89_row1_col12,#T_f4f89_row8_col12{\n",
       "            background-color:  #445acc;\n",
       "            color:  #f1f1f1;\n",
       "        }#T_f4f89_row1_col7,#T_f4f89_row1_col9,#T_f4f89_row3_col7,#T_f4f89_row3_col9,#T_f4f89_row9_col4{\n",
       "            background-color:  #4055c8;\n",
       "            color:  #f1f1f1;\n",
       "        }#T_f4f89_row2_col0,#T_f4f89_row2_col4,#T_f4f89_row2_col5,#T_f4f89_row4_col2,#T_f4f89_row7_col0,#T_f4f89_row7_col5,#T_f4f89_row8_col0,#T_f4f89_row8_col5,#T_f4f89_row9_col5,#T_f4f89_row10_col9{\n",
       "            background-color:  #4c66d6;\n",
       "            color:  #000000;\n",
       "        }#T_f4f89_row2_col1{\n",
       "            background-color:  #5470de;\n",
       "            color:  #000000;\n",
       "        }#T_f4f89_row2_col3,#T_f4f89_row6_col7,#T_f4f89_row11_col7{\n",
       "            background-color:  #7597f6;\n",
       "            color:  #000000;\n",
       "        }#T_f4f89_row2_col10,#T_f4f89_row10_col2{\n",
       "            background-color:  #4961d2;\n",
       "            color:  #f1f1f1;\n",
       "        }#T_f4f89_row3_col1,#T_f4f89_row3_col8,#T_f4f89_row4_col6,#T_f4f89_row4_col11,#T_f4f89_row9_col2,#T_f4f89_row10_col6,#T_f4f89_row10_col11{\n",
       "            background-color:  #3d50c3;\n",
       "            color:  #f1f1f1;\n",
       "        }#T_f4f89_row3_col2,#T_f4f89_row7_col8,#T_f4f89_row9_col6,#T_f4f89_row9_col11{\n",
       "            background-color:  #6c8ff1;\n",
       "            color:  #000000;\n",
       "        }#T_f4f89_row3_col12,#T_f4f89_row4_col7,#T_f4f89_row4_col9{\n",
       "            background-color:  #3e51c5;\n",
       "            color:  #f1f1f1;\n",
       "        }#T_f4f89_row4_col0,#T_f4f89_row4_col5{\n",
       "            background-color:  #5875e1;\n",
       "            color:  #000000;\n",
       "        }#T_f4f89_row4_col3{\n",
       "            background-color:  #4a63d3;\n",
       "            color:  #f1f1f1;\n",
       "        }#T_f4f89_row6_col9,#T_f4f89_row11_col9{\n",
       "            background-color:  #6a8bef;\n",
       "            color:  #000000;\n",
       "        }#T_f4f89_row6_col12,#T_f4f89_row11_col12,#T_f4f89_row12_col6,#T_f4f89_row12_col11{\n",
       "            background-color:  #f7a688;\n",
       "            color:  #000000;\n",
       "        }#T_f4f89_row7_col3,#T_f4f89_row8_col2,#T_f4f89_row9_col0,#T_f4f89_row9_col3,#T_f4f89_row10_col0,#T_f4f89_row10_col5{\n",
       "            background-color:  #4b64d5;\n",
       "            color:  #f1f1f1;\n",
       "        }#T_f4f89_row7_col6,#T_f4f89_row7_col11{\n",
       "            background-color:  #7699f6;\n",
       "            color:  #000000;\n",
       "        }#T_f4f89_row7_col9,#T_f4f89_row9_col7{\n",
       "            background-color:  #c73635;\n",
       "            color:  #f1f1f1;\n",
       "        }#T_f4f89_row7_col10{\n",
       "            background-color:  #516ddb;\n",
       "            color:  #000000;\n",
       "        }#T_f4f89_row7_col12{\n",
       "            background-color:  #94b6ff;\n",
       "            color:  #000000;\n",
       "        }#T_f4f89_row8_col7{\n",
       "            background-color:  #7295f4;\n",
       "            color:  #000000;\n",
       "        }#T_f4f89_row8_col9{\n",
       "            background-color:  #6687ed;\n",
       "            color:  #000000;\n",
       "        }#T_f4f89_row8_col10{\n",
       "            background-color:  #f18d6f;\n",
       "            color:  #000000;\n",
       "        }#T_f4f89_row9_col8{\n",
       "            background-color:  #6180e9;\n",
       "            color:  #000000;\n",
       "        }#T_f4f89_row9_col12{\n",
       "            background-color:  #86a9fc;\n",
       "            color:  #000000;\n",
       "        }#T_f4f89_row10_col8{\n",
       "            background-color:  #f29072;\n",
       "            color:  #000000;\n",
       "        }#T_f4f89_row12_col3{\n",
       "            background-color:  #465ecf;\n",
       "            color:  #f1f1f1;\n",
       "        }#T_f4f89_row12_col7{\n",
       "            background-color:  #93b5fe;\n",
       "            color:  #000000;\n",
       "        }#T_f4f89_row12_col9{\n",
       "            background-color:  #84a7fc;\n",
       "            color:  #000000;\n",
       "        }</style><table id=\"T_f4f89_\" ><thead>    <tr>        <th class=\"blank level0\" ></th>        <th class=\"col_heading level0 col0\" >created_utc</th>        <th class=\"col_heading level0 col1\" >score</th>        <th class=\"col_heading level0 col2\" >BinaryBucket</th>        <th class=\"col_heading level0 col3\" >Hour</th>        <th class=\"col_heading level0 col4\" >Weekday</th>        <th class=\"col_heading level0 col5\" >Day_of_Year</th>        <th class=\"col_heading level0 col6\" >BodyLen</th>        <th class=\"col_heading level0 col7\" >BodySubjectivity</th>        <th class=\"col_heading level0 col8\" >BodyPolarity</th>        <th class=\"col_heading level0 col9\" >SubjectivityBucket</th>        <th class=\"col_heading level0 col10\" >PolarityBucket</th>        <th class=\"col_heading level0 col11\" >ScaledBodyLen</th>        <th class=\"col_heading level0 col12\" >LengthBucket</th>    </tr></thead><tbody>\n",
       "                <tr>\n",
       "                        <th id=\"T_f4f89_level0_row0\" class=\"row_heading level0 row0\" >created_utc</th>\n",
       "                        <td id=\"T_f4f89_row0_col0\" class=\"data row0 col0\" >1.000000</td>\n",
       "                        <td id=\"T_f4f89_row0_col1\" class=\"data row0 col1\" >0.015179</td>\n",
       "                        <td id=\"T_f4f89_row0_col2\" class=\"data row0 col2\" >0.005340</td>\n",
       "                        <td id=\"T_f4f89_row0_col3\" class=\"data row0 col3\" >-0.057681</td>\n",
       "                        <td id=\"T_f4f89_row0_col4\" class=\"data row0 col4\" >0.042664</td>\n",
       "                        <td id=\"T_f4f89_row0_col5\" class=\"data row0 col5\" >0.999997</td>\n",
       "                        <td id=\"T_f4f89_row0_col6\" class=\"data row0 col6\" >0.016682</td>\n",
       "                        <td id=\"T_f4f89_row0_col7\" class=\"data row0 col7\" >0.004351</td>\n",
       "                        <td id=\"T_f4f89_row0_col8\" class=\"data row0 col8\" >0.006259</td>\n",
       "                        <td id=\"T_f4f89_row0_col9\" class=\"data row0 col9\" >0.003267</td>\n",
       "                        <td id=\"T_f4f89_row0_col10\" class=\"data row0 col10\" >0.002105</td>\n",
       "                        <td id=\"T_f4f89_row0_col11\" class=\"data row0 col11\" >0.016682</td>\n",
       "                        <td id=\"T_f4f89_row0_col12\" class=\"data row0 col12\" >0.018230</td>\n",
       "            </tr>\n",
       "            <tr>\n",
       "                        <th id=\"T_f4f89_level0_row1\" class=\"row_heading level0 row1\" >score</th>\n",
       "                        <td id=\"T_f4f89_row1_col0\" class=\"data row1 col0\" >0.015179</td>\n",
       "                        <td id=\"T_f4f89_row1_col1\" class=\"data row1 col1\" >1.000000</td>\n",
       "                        <td id=\"T_f4f89_row1_col2\" class=\"data row1 col2\" >0.083792</td>\n",
       "                        <td id=\"T_f4f89_row1_col3\" class=\"data row1 col3\" >0.007060</td>\n",
       "                        <td id=\"T_f4f89_row1_col4\" class=\"data row1 col4\" >0.017723</td>\n",
       "                        <td id=\"T_f4f89_row1_col5\" class=\"data row1 col5\" >0.015160</td>\n",
       "                        <td id=\"T_f4f89_row1_col6\" class=\"data row1 col6\" >0.003420</td>\n",
       "                        <td id=\"T_f4f89_row1_col7\" class=\"data row1 col7\" >-0.001502</td>\n",
       "                        <td id=\"T_f4f89_row1_col8\" class=\"data row1 col8\" >0.001585</td>\n",
       "                        <td id=\"T_f4f89_row1_col9\" class=\"data row1 col9\" >-0.001785</td>\n",
       "                        <td id=\"T_f4f89_row1_col10\" class=\"data row1 col10\" >0.001010</td>\n",
       "                        <td id=\"T_f4f89_row1_col11\" class=\"data row1 col11\" >0.003420</td>\n",
       "                        <td id=\"T_f4f89_row1_col12\" class=\"data row1 col12\" >0.004481</td>\n",
       "            </tr>\n",
       "            <tr>\n",
       "                        <th id=\"T_f4f89_level0_row2\" class=\"row_heading level0 row2\" >BinaryBucket</th>\n",
       "                        <td id=\"T_f4f89_row2_col0\" class=\"data row2 col0\" >0.005340</td>\n",
       "                        <td id=\"T_f4f89_row2_col1\" class=\"data row2 col1\" >0.083792</td>\n",
       "                        <td id=\"T_f4f89_row2_col2\" class=\"data row2 col2\" >1.000000</td>\n",
       "                        <td id=\"T_f4f89_row2_col3\" class=\"data row2 col3\" >0.131341</td>\n",
       "                        <td id=\"T_f4f89_row2_col4\" class=\"data row2 col4\" >0.032978</td>\n",
       "                        <td id=\"T_f4f89_row2_col5\" class=\"data row2 col5\" >0.005046</td>\n",
       "                        <td id=\"T_f4f89_row2_col6\" class=\"data row2 col6\" >-0.031366</td>\n",
       "                        <td id=\"T_f4f89_row2_col7\" class=\"data row2 col7\" >-0.023567</td>\n",
       "                        <td id=\"T_f4f89_row2_col8\" class=\"data row2 col8\" >0.026015</td>\n",
       "                        <td id=\"T_f4f89_row2_col9\" class=\"data row2 col9\" >-0.023175</td>\n",
       "                        <td id=\"T_f4f89_row2_col10\" class=\"data row2 col10\" >0.019450</td>\n",
       "                        <td id=\"T_f4f89_row2_col11\" class=\"data row2 col11\" >-0.031366</td>\n",
       "                        <td id=\"T_f4f89_row2_col12\" class=\"data row2 col12\" >-0.023440</td>\n",
       "            </tr>\n",
       "            <tr>\n",
       "                        <th id=\"T_f4f89_level0_row3\" class=\"row_heading level0 row3\" >Hour</th>\n",
       "                        <td id=\"T_f4f89_row3_col0\" class=\"data row3 col0\" >-0.057681</td>\n",
       "                        <td id=\"T_f4f89_row3_col1\" class=\"data row3 col1\" >0.007060</td>\n",
       "                        <td id=\"T_f4f89_row3_col2\" class=\"data row3 col2\" >0.131341</td>\n",
       "                        <td id=\"T_f4f89_row3_col3\" class=\"data row3 col3\" >1.000000</td>\n",
       "                        <td id=\"T_f4f89_row3_col4\" class=\"data row3 col4\" >-0.005140</td>\n",
       "                        <td id=\"T_f4f89_row3_col5\" class=\"data row3 col5\" >-0.059903</td>\n",
       "                        <td id=\"T_f4f89_row3_col6\" class=\"data row3 col6\" >-0.013709</td>\n",
       "                        <td id=\"T_f4f89_row3_col7\" class=\"data row3 col7\" >-0.001447</td>\n",
       "                        <td id=\"T_f4f89_row3_col8\" class=\"data row3 col8\" >0.006857</td>\n",
       "                        <td id=\"T_f4f89_row3_col9\" class=\"data row3 col9\" >-0.000830</td>\n",
       "                        <td id=\"T_f4f89_row3_col10\" class=\"data row3 col10\" >0.006992</td>\n",
       "                        <td id=\"T_f4f89_row3_col11\" class=\"data row3 col11\" >-0.013709</td>\n",
       "                        <td id=\"T_f4f89_row3_col12\" class=\"data row3 col12\" >-0.014891</td>\n",
       "            </tr>\n",
       "            <tr>\n",
       "                        <th id=\"T_f4f89_level0_row4\" class=\"row_heading level0 row4\" >Weekday</th>\n",
       "                        <td id=\"T_f4f89_row4_col0\" class=\"data row4 col0\" >0.042664</td>\n",
       "                        <td id=\"T_f4f89_row4_col1\" class=\"data row4 col1\" >0.017723</td>\n",
       "                        <td id=\"T_f4f89_row4_col2\" class=\"data row4 col2\" >0.032978</td>\n",
       "                        <td id=\"T_f4f89_row4_col3\" class=\"data row4 col3\" >-0.005140</td>\n",
       "                        <td id=\"T_f4f89_row4_col4\" class=\"data row4 col4\" >1.000000</td>\n",
       "                        <td id=\"T_f4f89_row4_col5\" class=\"data row4 col5\" >0.042644</td>\n",
       "                        <td id=\"T_f4f89_row4_col6\" class=\"data row4 col6\" >-0.022963</td>\n",
       "                        <td id=\"T_f4f89_row4_col7\" class=\"data row4 col7\" >-0.009767</td>\n",
       "                        <td id=\"T_f4f89_row4_col8\" class=\"data row4 col8\" >-0.001255</td>\n",
       "                        <td id=\"T_f4f89_row4_col9\" class=\"data row4 col9\" >-0.008374</td>\n",
       "                        <td id=\"T_f4f89_row4_col10\" class=\"data row4 col10\" >0.000757</td>\n",
       "                        <td id=\"T_f4f89_row4_col11\" class=\"data row4 col11\" >-0.022963</td>\n",
       "                        <td id=\"T_f4f89_row4_col12\" class=\"data row4 col12\" >-0.029345</td>\n",
       "            </tr>\n",
       "            <tr>\n",
       "                        <th id=\"T_f4f89_level0_row5\" class=\"row_heading level0 row5\" >Day_of_Year</th>\n",
       "                        <td id=\"T_f4f89_row5_col0\" class=\"data row5 col0\" >0.999997</td>\n",
       "                        <td id=\"T_f4f89_row5_col1\" class=\"data row5 col1\" >0.015160</td>\n",
       "                        <td id=\"T_f4f89_row5_col2\" class=\"data row5 col2\" >0.005046</td>\n",
       "                        <td id=\"T_f4f89_row5_col3\" class=\"data row5 col3\" >-0.059903</td>\n",
       "                        <td id=\"T_f4f89_row5_col4\" class=\"data row5 col4\" >0.042644</td>\n",
       "                        <td id=\"T_f4f89_row5_col5\" class=\"data row5 col5\" >1.000000</td>\n",
       "                        <td id=\"T_f4f89_row5_col6\" class=\"data row5 col6\" >0.016712</td>\n",
       "                        <td id=\"T_f4f89_row5_col7\" class=\"data row5 col7\" >0.004354</td>\n",
       "                        <td id=\"T_f4f89_row5_col8\" class=\"data row5 col8\" >0.006244</td>\n",
       "                        <td id=\"T_f4f89_row5_col9\" class=\"data row5 col9\" >0.003269</td>\n",
       "                        <td id=\"T_f4f89_row5_col10\" class=\"data row5 col10\" >0.002089</td>\n",
       "                        <td id=\"T_f4f89_row5_col11\" class=\"data row5 col11\" >0.016712</td>\n",
       "                        <td id=\"T_f4f89_row5_col12\" class=\"data row5 col12\" >0.018261</td>\n",
       "            </tr>\n",
       "            <tr>\n",
       "                        <th id=\"T_f4f89_level0_row6\" class=\"row_heading level0 row6\" >BodyLen</th>\n",
       "                        <td id=\"T_f4f89_row6_col0\" class=\"data row6 col0\" >0.016682</td>\n",
       "                        <td id=\"T_f4f89_row6_col1\" class=\"data row6 col1\" >0.003420</td>\n",
       "                        <td id=\"T_f4f89_row6_col2\" class=\"data row6 col2\" >-0.031366</td>\n",
       "                        <td id=\"T_f4f89_row6_col3\" class=\"data row6 col3\" >-0.013709</td>\n",
       "                        <td id=\"T_f4f89_row6_col4\" class=\"data row6 col4\" >-0.022963</td>\n",
       "                        <td id=\"T_f4f89_row6_col5\" class=\"data row6 col5\" >0.016712</td>\n",
       "                        <td id=\"T_f4f89_row6_col6\" class=\"data row6 col6\" >1.000000</td>\n",
       "                        <td id=\"T_f4f89_row6_col7\" class=\"data row6 col7\" >0.160420</td>\n",
       "                        <td id=\"T_f4f89_row6_col8\" class=\"data row6 col8\" >-0.000819</td>\n",
       "                        <td id=\"T_f4f89_row6_col9\" class=\"data row6 col9\" >0.131945</td>\n",
       "                        <td id=\"T_f4f89_row6_col10\" class=\"data row6 col10\" >-0.022635</td>\n",
       "                        <td id=\"T_f4f89_row6_col11\" class=\"data row6 col11\" >1.000000</td>\n",
       "                        <td id=\"T_f4f89_row6_col12\" class=\"data row6 col12\" >0.707762</td>\n",
       "            </tr>\n",
       "            <tr>\n",
       "                        <th id=\"T_f4f89_level0_row7\" class=\"row_heading level0 row7\" >BodySubjectivity</th>\n",
       "                        <td id=\"T_f4f89_row7_col0\" class=\"data row7 col0\" >0.004351</td>\n",
       "                        <td id=\"T_f4f89_row7_col1\" class=\"data row7 col1\" >-0.001502</td>\n",
       "                        <td id=\"T_f4f89_row7_col2\" class=\"data row7 col2\" >-0.023567</td>\n",
       "                        <td id=\"T_f4f89_row7_col3\" class=\"data row7 col3\" >-0.001447</td>\n",
       "                        <td id=\"T_f4f89_row7_col4\" class=\"data row7 col4\" >-0.009767</td>\n",
       "                        <td id=\"T_f4f89_row7_col5\" class=\"data row7 col5\" >0.004354</td>\n",
       "                        <td id=\"T_f4f89_row7_col6\" class=\"data row7 col6\" >0.160420</td>\n",
       "                        <td id=\"T_f4f89_row7_col7\" class=\"data row7 col7\" >1.000000</td>\n",
       "                        <td id=\"T_f4f89_row7_col8\" class=\"data row7 col8\" >0.156022</td>\n",
       "                        <td id=\"T_f4f89_row7_col9\" class=\"data row7 col9\" >0.946073</td>\n",
       "                        <td id=\"T_f4f89_row7_col10\" class=\"data row7 col10\" >0.049634</td>\n",
       "                        <td id=\"T_f4f89_row7_col11\" class=\"data row7 col11\" >0.160420</td>\n",
       "                        <td id=\"T_f4f89_row7_col12\" class=\"data row7 col12\" >0.250155</td>\n",
       "            </tr>\n",
       "            <tr>\n",
       "                        <th id=\"T_f4f89_level0_row8\" class=\"row_heading level0 row8\" >BodyPolarity</th>\n",
       "                        <td id=\"T_f4f89_row8_col0\" class=\"data row8 col0\" >0.006259</td>\n",
       "                        <td id=\"T_f4f89_row8_col1\" class=\"data row8 col1\" >0.001585</td>\n",
       "                        <td id=\"T_f4f89_row8_col2\" class=\"data row8 col2\" >0.026015</td>\n",
       "                        <td id=\"T_f4f89_row8_col3\" class=\"data row8 col3\" >0.006857</td>\n",
       "                        <td id=\"T_f4f89_row8_col4\" class=\"data row8 col4\" >-0.001255</td>\n",
       "                        <td id=\"T_f4f89_row8_col5\" class=\"data row8 col5\" >0.006244</td>\n",
       "                        <td id=\"T_f4f89_row8_col6\" class=\"data row8 col6\" >-0.000819</td>\n",
       "                        <td id=\"T_f4f89_row8_col7\" class=\"data row8 col7\" >0.156022</td>\n",
       "                        <td id=\"T_f4f89_row8_col8\" class=\"data row8 col8\" >1.000000</td>\n",
       "                        <td id=\"T_f4f89_row8_col9\" class=\"data row8 col9\" >0.120345</td>\n",
       "                        <td id=\"T_f4f89_row8_col10\" class=\"data row8 col10\" >0.773092</td>\n",
       "                        <td id=\"T_f4f89_row8_col11\" class=\"data row8 col11\" >-0.000819</td>\n",
       "                        <td id=\"T_f4f89_row8_col12\" class=\"data row8 col12\" >0.003093</td>\n",
       "            </tr>\n",
       "            <tr>\n",
       "                        <th id=\"T_f4f89_level0_row9\" class=\"row_heading level0 row9\" >SubjectivityBucket</th>\n",
       "                        <td id=\"T_f4f89_row9_col0\" class=\"data row9 col0\" >0.003267</td>\n",
       "                        <td id=\"T_f4f89_row9_col1\" class=\"data row9 col1\" >-0.001785</td>\n",
       "                        <td id=\"T_f4f89_row9_col2\" class=\"data row9 col2\" >-0.023175</td>\n",
       "                        <td id=\"T_f4f89_row9_col3\" class=\"data row9 col3\" >-0.000830</td>\n",
       "                        <td id=\"T_f4f89_row9_col4\" class=\"data row9 col4\" >-0.008374</td>\n",
       "                        <td id=\"T_f4f89_row9_col5\" class=\"data row9 col5\" >0.003269</td>\n",
       "                        <td id=\"T_f4f89_row9_col6\" class=\"data row9 col6\" >0.131945</td>\n",
       "                        <td id=\"T_f4f89_row9_col7\" class=\"data row9 col7\" >0.946073</td>\n",
       "                        <td id=\"T_f4f89_row9_col8\" class=\"data row9 col8\" >0.120345</td>\n",
       "                        <td id=\"T_f4f89_row9_col9\" class=\"data row9 col9\" >1.000000</td>\n",
       "                        <td id=\"T_f4f89_row9_col10\" class=\"data row9 col10\" >0.039471</td>\n",
       "                        <td id=\"T_f4f89_row9_col11\" class=\"data row9 col11\" >0.131945</td>\n",
       "                        <td id=\"T_f4f89_row9_col12\" class=\"data row9 col12\" >0.208308</td>\n",
       "            </tr>\n",
       "            <tr>\n",
       "                        <th id=\"T_f4f89_level0_row10\" class=\"row_heading level0 row10\" >PolarityBucket</th>\n",
       "                        <td id=\"T_f4f89_row10_col0\" class=\"data row10 col0\" >0.002105</td>\n",
       "                        <td id=\"T_f4f89_row10_col1\" class=\"data row10 col1\" >0.001010</td>\n",
       "                        <td id=\"T_f4f89_row10_col2\" class=\"data row10 col2\" >0.019450</td>\n",
       "                        <td id=\"T_f4f89_row10_col3\" class=\"data row10 col3\" >0.006992</td>\n",
       "                        <td id=\"T_f4f89_row10_col4\" class=\"data row10 col4\" >0.000757</td>\n",
       "                        <td id=\"T_f4f89_row10_col5\" class=\"data row10 col5\" >0.002089</td>\n",
       "                        <td id=\"T_f4f89_row10_col6\" class=\"data row10 col6\" >-0.022635</td>\n",
       "                        <td id=\"T_f4f89_row10_col7\" class=\"data row10 col7\" >0.049634</td>\n",
       "                        <td id=\"T_f4f89_row10_col8\" class=\"data row10 col8\" >0.773092</td>\n",
       "                        <td id=\"T_f4f89_row10_col9\" class=\"data row10 col9\" >0.039471</td>\n",
       "                        <td id=\"T_f4f89_row10_col10\" class=\"data row10 col10\" >1.000000</td>\n",
       "                        <td id=\"T_f4f89_row10_col11\" class=\"data row10 col11\" >-0.022635</td>\n",
       "                        <td id=\"T_f4f89_row10_col12\" class=\"data row10 col12\" >-0.029767</td>\n",
       "            </tr>\n",
       "            <tr>\n",
       "                        <th id=\"T_f4f89_level0_row11\" class=\"row_heading level0 row11\" >ScaledBodyLen</th>\n",
       "                        <td id=\"T_f4f89_row11_col0\" class=\"data row11 col0\" >0.016682</td>\n",
       "                        <td id=\"T_f4f89_row11_col1\" class=\"data row11 col1\" >0.003420</td>\n",
       "                        <td id=\"T_f4f89_row11_col2\" class=\"data row11 col2\" >-0.031366</td>\n",
       "                        <td id=\"T_f4f89_row11_col3\" class=\"data row11 col3\" >-0.013709</td>\n",
       "                        <td id=\"T_f4f89_row11_col4\" class=\"data row11 col4\" >-0.022963</td>\n",
       "                        <td id=\"T_f4f89_row11_col5\" class=\"data row11 col5\" >0.016712</td>\n",
       "                        <td id=\"T_f4f89_row11_col6\" class=\"data row11 col6\" >1.000000</td>\n",
       "                        <td id=\"T_f4f89_row11_col7\" class=\"data row11 col7\" >0.160420</td>\n",
       "                        <td id=\"T_f4f89_row11_col8\" class=\"data row11 col8\" >-0.000819</td>\n",
       "                        <td id=\"T_f4f89_row11_col9\" class=\"data row11 col9\" >0.131945</td>\n",
       "                        <td id=\"T_f4f89_row11_col10\" class=\"data row11 col10\" >-0.022635</td>\n",
       "                        <td id=\"T_f4f89_row11_col11\" class=\"data row11 col11\" >1.000000</td>\n",
       "                        <td id=\"T_f4f89_row11_col12\" class=\"data row11 col12\" >0.707762</td>\n",
       "            </tr>\n",
       "            <tr>\n",
       "                        <th id=\"T_f4f89_level0_row12\" class=\"row_heading level0 row12\" >LengthBucket</th>\n",
       "                        <td id=\"T_f4f89_row12_col0\" class=\"data row12 col0\" >0.018230</td>\n",
       "                        <td id=\"T_f4f89_row12_col1\" class=\"data row12 col1\" >0.004481</td>\n",
       "                        <td id=\"T_f4f89_row12_col2\" class=\"data row12 col2\" >-0.023440</td>\n",
       "                        <td id=\"T_f4f89_row12_col3\" class=\"data row12 col3\" >-0.014891</td>\n",
       "                        <td id=\"T_f4f89_row12_col4\" class=\"data row12 col4\" >-0.029345</td>\n",
       "                        <td id=\"T_f4f89_row12_col5\" class=\"data row12 col5\" >0.018261</td>\n",
       "                        <td id=\"T_f4f89_row12_col6\" class=\"data row12 col6\" >0.707762</td>\n",
       "                        <td id=\"T_f4f89_row12_col7\" class=\"data row12 col7\" >0.250155</td>\n",
       "                        <td id=\"T_f4f89_row12_col8\" class=\"data row12 col8\" >0.003093</td>\n",
       "                        <td id=\"T_f4f89_row12_col9\" class=\"data row12 col9\" >0.208308</td>\n",
       "                        <td id=\"T_f4f89_row12_col10\" class=\"data row12 col10\" >-0.029767</td>\n",
       "                        <td id=\"T_f4f89_row12_col11\" class=\"data row12 col11\" >0.707762</td>\n",
       "                        <td id=\"T_f4f89_row12_col12\" class=\"data row12 col12\" >1.000000</td>\n",
       "            </tr>\n",
       "    </tbody></table>"
      ],
      "text/plain": [
       "<pandas.io.formats.style.Styler at 0x1378b176580>"
      ]
     },
     "execution_count": 59,
     "metadata": {},
     "output_type": "execute_result"
    }
   ],
   "source": [
    "corr = df.corr()\n",
    "corr.style.background_gradient(cmap = 'coolwarm')"
   ]
  },
  {
   "cell_type": "code",
   "execution_count": 60,
   "id": "9f14fbf7",
   "metadata": {},
   "outputs": [
    {
     "data": {
      "text/plain": [
       "0.0       0.0\n",
       "0.1       3.0\n",
       "0.2       4.0\n",
       "0.3       6.0\n",
       "0.4       8.0\n",
       "0.5      10.0\n",
       "0.6      13.0\n",
       "0.7      17.0\n",
       "0.8      24.0\n",
       "0.9      40.0\n",
       "1.0    1998.0\n",
       "Name: BodyLen, dtype: float64"
      ]
     },
     "execution_count": 60,
     "metadata": {},
     "output_type": "execute_result"
    }
   ],
   "source": [
    "df.BodyLen.quantile(q = [0, 0.1, 0.2, 0.3, 0.4, 0.5, 0.6, 0.7, 0.8, 0.9, 1]) #clearly the largest is a bit of an ourlier"
   ]
  },
  {
   "cell_type": "code",
   "execution_count": 62,
   "id": "c32ab8e3",
   "metadata": {},
   "outputs": [
    {
     "data": {
      "text/plain": [
       "<AxesSubplot:>"
      ]
     },
     "execution_count": 62,
     "metadata": {},
     "output_type": "execute_result"
    },
    {
     "data": {
      "image/png": "[encoded data removed]",
      "text/plain": [
       "<Figure size 432x288 with 1 Axes>"
      ]
     },
     "metadata": {
      "needs_background": "light"
     },
     "output_type": "display_data"
    }
   ],
   "source": [
    "df.BodyLen.quantile(q = [0.1, 0.2, 0.3, 0.4, 0.5, 0.6, 0.7, 0.8, 0.9]).plot(kind = 'bar') #plot just 0-90th percentiles"
   ]
  },
  {
   "cell_type": "markdown",
   "id": "1cb62060",
   "metadata": {},
   "source": [
    "## Modeling 2\n",
    "#### Full 2020 Dataset\n",
    "Since this section basically just re-does the modeling above it is commented out for now.  It is left in to show exactly how the modeling was done if any attempts to re-create it are done (and for possible future work).  It also shows how the multi-input model(s) were built.  \n",
    "It was again assumed that RNNs made from LSTM layers would perform the best, and it was found that a single LSTM again performed on par with other, more complex models."
   ]
  },
  {
   "cell_type": "code",
   "execution_count": 84,
   "id": "971b93da",
   "metadata": {},
   "outputs": [],
   "source": [
    "# vocab_size = 50000 #set max # features to 50k for now\n",
    "# embedding_dims = 25 #set from GLOVE\n",
    "# maxlen = 50 #may want to lower, 19 keeps entirety of 90% of our comments but seems a bit long.\n",
    "# batch_size = 256 #can change as needed\n",
    "# date_dims = 64 #dims for our date layers in our model\n",
    "# onehot_dims = 50"
   ]
  },
  {
   "cell_type": "code",
   "execution_count": 96,
   "id": "d9d2925b",
   "metadata": {},
   "outputs": [],
   "source": [
    "# comments_tf_funny, word_tokenizer_funny = prep_embedding(df, vocab_size, maxlen)\n",
    "# embeddings_funny = get_embeddings(glove25_path) \n",
    "# weights_funny = get_weights(word_tokenizer_funny, embeddings_funny, vocab_size)"
   ]
  },
  {
   "cell_type": "code",
   "execution_count": null,
   "id": "998050b3",
   "metadata": {},
   "outputs": [],
   "source": [
    "# inputComment = Input(shape = (maxlen,))\n",
    "# input_subjectivity = Input(shape = (1,))\n",
    "# input_polarity = Input(shape = (1,))\n",
    "# input_length = Input(shape = (1,)) \n",
    "\n",
    "# #cComments\n",
    "# x = Embedding(vocab_size +1, embedding_dims, weights = [weights_funny])(inputComment)\n",
    "# x = LSTM(50, dropout = 0.2)(x)\n",
    "# x = Dense(1, activation = 'sigmoid')(x)\n",
    "# x = Model(inputs = inputComment, outputs = x)\n",
    "\n",
    "# #SubjectivityBucket\n",
    "# y = CategoryEncoding(num_tokens = 3, output_mode = 'one_hot')(input_subjectivity)\n",
    "# # y = Reshape((onehot_dims,))(y)\n",
    "# y = Model(inputs = input_subjectivity, outputs = y)\n",
    "\n",
    "# #PolarityBucket\n",
    "# z = CategoryEncoding(num_tokens = 3, output_mode = 'one_hot')(input_polarity)\n",
    "# # z = Reshape((onehot_dims,))(z)\n",
    "# z = Model(inputs = input_polarity, outputs = z)\n",
    "\n",
    "# #LengthBucket\n",
    "# p = CategoryEncoding(num_tokens = 4, output_mode = 'one_hot')(input_length)\n",
    "# # p = Reshape((onehot_dims,))(p)\n",
    "# p = Model(inputs = input_length, outputs = p)\n",
    "\n",
    "# combined = concatenate([x.output, y.output, z.output, p.output])\n",
    "# w = Dense(11, activation = 'relu')(combined)\n",
    "# w = Dense(1, activation = 'sigmoid')(w)\n",
    "\n",
    "# model = Model(inputs = [x.input, y.input, z.input, p.input], outputs = w)"
   ]
  },
  {
   "cell_type": "code",
   "execution_count": 86,
   "id": "019a60ce",
   "metadata": {},
   "outputs": [],
   "source": [
    "# model.compile(loss = 'binary_crossentropy', optimizer = 'adam', metrics = ['accuracy', 'AUC'])\n",
    "# # model.summary()"
   ]
  },
  {
   "cell_type": "code",
   "execution_count": 97,
   "id": "84f31439",
   "metadata": {},
   "outputs": [],
   "source": [
    "# train_df, test_df = train_test_split(df, test_size = 0.2)\n",
    "\n",
    "# # comments_tr\n",
    "# comments_train = comments_tf_funny[train_df.index, :]\n",
    "# subjectivity_train = train_df.SubjectivityBucket[train_df.index]\n",
    "# polarity_train = train_df.PolarityBucket[train_df.index]\n",
    "# length_train = train_df.LengthBucket[train_df.index]\n",
    "# binarybucket_train = train_df.BinaryBucket[train_df.index]\n",
    "\n",
    "# with tf.device('/GPU:0'): #use my GPU\n",
    "#     start = dt.datetime.now()\n",
    "#     history = model.fit([comments_train, subjectivity_train, polarity_train, length_train], binarybucket_train,\n",
    "#                    batch_size = batch_size, epochs = 100, validation_split= 0.2, callbacks = mycallbacks)\n",
    "#     end = dt.datetime.now()"
   ]
  },
  {
   "cell_type": "code",
   "execution_count": null,
   "id": "b6b005aa",
   "metadata": {},
   "outputs": [],
   "source": [
    "# fig, axs = plt.subplots(1, 3, figsize = (15,10))\n",
    "# axs[0].set_title('Loss')\n",
    "# axs[0].plot(history.epoch, history.history['loss'], label = 'Training Loss')\n",
    "# axs[0].plot(history.epoch, history.history['val_loss'], label = 'Validation Loss')\n",
    "# axs[0].legend()\n",
    "\n",
    "# axs[1].set_title('Comment Accuracy')\n",
    "# axs[1].plot(history.epoch, history.history['accuracy'], label = 'Comment Training Accuracy')\n",
    "# axs[1].plot(history.epoch, history.history['val_accuracy'], label = 'Comment Validation Accuracy')\n",
    "# axs[1].legend()\n",
    "\n",
    "# axs[2].set_title('Comment AUC')\n",
    "# axs[2].plot(history.epoch, history.history['auc'], label = 'Comment Training AUC')\n",
    "# axs[2].plot(history.epoch, history.history['val_auc'], label = 'Comment Validation AUC')\n",
    "# axs[2].legend()"
   ]
  },
  {
   "cell_type": "code",
   "execution_count": 98,
   "id": "251fce2a",
   "metadata": {},
   "outputs": [],
   "source": [
    "# print(f\"The highest val acc was: {round(np.max(history.history['val_accuracy']),3)}\")\n",
    "# print(f\"The highest val AUC was: {round(np.max(history.history['val_auc']),3)}\")\n",
    "# print(f\"Fitting took {end - start}\")"
   ]
  },
  {
   "cell_type": "code",
   "execution_count": null,
   "id": "c3ea5c9f",
   "metadata": {},
   "outputs": [],
   "source": [
    "# plot_model(model, to_file='comPolSubLen2.png')\n",
    "# plot_model(model, to_file='comPolSubLen2_shapes.png', show_shapes=True)"
   ]
  },
  {
   "cell_type": "markdown",
   "id": "d2c695c9",
   "metadata": {},
   "source": [
    "## Results 2\n",
    "#### Full 2020 Dataset"
   ]
  },
  {
   "cell_type": "markdown",
   "id": "0c17329a",
   "metadata": {},
   "source": [
    "(Maxlen and batchsize were also tested here but found to still perform best at 50 and 256 respectively and as such are not included in the chart.)  \n",
    "Remember that the baseline is now 56.0% (0.2% lower than before)\n",
    "\n",
    "|Model|Embedding|Optimizer|Features|MaxValAcc|MaxValAUC|TimeToFit|\n",
    "|--|--|--|--|--|--|--|\n",
    "|original_1output|glove200|adam|cComment|0.603|0.618|03:36|\n",
    "|commentonly1|glove200|adam|cComment|0.608|0.626|02:38|\n",
    "|commentonly2|glove200|adam|cComement|0.609|0.626|02:03|\n",
    "|commentonly2 (LSTM(50, 0.2 drop))|glove25|adam|cComment|0.609|0.626|02:39|\n",
    "|commentonly7 (Bidirectional commentonly2)|glove25|adam|cComment|0.610|0.627|03:13|\n",
    "|comPolSubLen1|glove25|adam|cComment, SubjectivityBucket, PolarityBucket, LengthBucket|0.61|0.626|03:22|\n",
    "|comPolSubLen5|glove25|adam|cComment, SubjectivityBucket, PolarityBucket, LengthBucket|0.609|0.626|03:18|"
   ]
  },
  {
   "cell_type": "code",
   "execution_count": null,
   "id": "a9286833",
   "metadata": {},
   "outputs": [],
   "source": []
  },
  {
   "cell_type": "code",
   "execution_count": null,
   "id": "c8d8624d",
   "metadata": {},
   "outputs": [],
   "source": []
  },
  {
   "cell_type": "markdown",
   "id": "1f4b6af6",
   "metadata": {},
   "source": [
    "## Comparison to non deep learning method\n",
    "#### Full 2020 Dataset"
   ]
  },
  {
   "cell_type": "code",
   "execution_count": null,
   "id": "7e8a5a44",
   "metadata": {},
   "outputs": [],
   "source": [
    "#first try a SGDClassifier with just the text data\n",
    "train_df, test_df = train_test_split(df, test_size = 0.2)\n",
    "comments_train = comments_tf_funny[train_df.index, :]\n",
    "binarybucket_train = train_df.BinaryBucket[train_df.index]"
   ]
  },
  {
   "cell_type": "code",
   "execution_count": null,
   "id": "9e16fc35",
   "metadata": {},
   "outputs": [],
   "source": [
    "print(\"Starting Fitting\")\n",
    "start = dt.datetime.now()\n",
    "clf = SGDClassifier().fit(comments_train, binarybucket_train)\n",
    "end = dt.datetime.now()\n",
    "print(f\"Fitting Took {end - start}\")"
   ]
  },
  {
   "cell_type": "code",
   "execution_count": null,
   "id": "174b7d94",
   "metadata": {},
   "outputs": [],
   "source": [
    "comments_test = comments_tf_funny[test_startbig.index, :]\n",
    "predicted = clf.predict(comments_test)\n",
    "binarybucket_test = test_startbig.BinaryBucket[test_startbig.index]\n",
    "acc = np.mean(predicted == binarybucket_test)\n",
    "acc"
   ]
  },
  {
   "cell_type": "markdown",
   "id": "1688b228",
   "metadata": {},
   "source": [
    "With gridsearching"
   ]
  },
  {
   "cell_type": "code",
   "execution_count": null,
   "id": "fc587794",
   "metadata": {},
   "outputs": [],
   "source": [
    "text_clf = Pipeline([('vect', CountVectorizer()),\n",
    "                    ('tfidf', TfidfTransformer()),\n",
    "                    ('clf', SGDClassifier())])\n",
    "\n",
    "params = {'vect__ngram_range': [(1,1), (1,2)],\n",
    "         'tfidf__use_idf': (True, False),\n",
    "         'clf__alpha': (1e-1, 1e-2, 1e-3)}\n",
    "\n",
    "train_startbig, test_startbig = train_test_split(startbig, test_size = 0.2)\n",
    "comments_train_clf = train_startbig.cComment[train_startbig.index]\n",
    "binarybucket_train_clf = train_startbig.BinaryBucket[train_startbig.index]\n",
    "\n",
    "\n",
    "gridsearch_clf = GridSearchCV(text_clf, params, scoring = ['accuracy', 'roc_auc'], cv = 5, verbose = 2, refit = 'accuracy')\n",
    "gridsearch_clf = gridsearch_clf.fit(comments_train_clf, binarybucket_train_clf)"
   ]
  },
  {
   "cell_type": "code",
   "execution_count": null,
   "id": "1b2742e1",
   "metadata": {},
   "outputs": [],
   "source": [
    "print(gridsearch_clf.best_score_, gridsearch_clf.best_params_)"
   ]
  },
  {
   "cell_type": "markdown",
   "id": "aa097595",
   "metadata": {},
   "source": [
    "## Conclusions"
   ]
  },
  {
   "cell_type": "code",
   "execution_count": null,
   "id": "486f2436",
   "metadata": {},
   "outputs": [],
   "source": []
  },
  {
   "cell_type": "code",
   "execution_count": null,
   "id": "be7964a4",
   "metadata": {},
   "outputs": [],
   "source": []
  },
  {
   "cell_type": "markdown",
   "id": "e9f4178c",
   "metadata": {},
   "source": [
    "note full dataset vs smaller dataset, do trends stay the same?"
   ]
  }
 ],
 "metadata": {
  "kernelspec": {
   "display_name": "Python 3",
   "language": "python",
   "name": "python3"
  },
  "language_info": {
   "codemirror_mode": {
    "name": "ipython",
    "version": 3
   },
   "file_extension": ".py",
   "mimetype": "text/x-python",
   "name": "python",
   "nbconvert_exporter": "python",
   "pygments_lexer": "ipython3",
   "version": "3.8.8"
  }
 },
 "nbformat": 4,
 "nbformat_minor": 5
}
